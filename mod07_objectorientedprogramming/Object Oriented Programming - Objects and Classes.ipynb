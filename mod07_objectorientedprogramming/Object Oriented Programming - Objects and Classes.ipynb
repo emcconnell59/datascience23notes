{
 "cells": [
  {
   "cell_type": "markdown",
   "id": "1114fb5d",
   "metadata": {},
   "source": [
    "## Objects and Classes"
   ]
  },
  {
   "cell_type": "markdown",
   "id": "550000f1",
   "metadata": {},
   "source": [
    "Python is an object-oriented programming language, but Python doesn't force you to use classes, inheritance, and methods.\n",
    "\n",
    "Every value in Python is an object. Objects are a way to combine data and the functions that handle that data. This combination is called *encapsulation*. The data items and functions are objects are called *attributes*, and in particular, the function attributes are called *methods*. For example, the operator `+` on integers calls a method of integers, and the operator `+` on strings calls a method of strings.\n",
    "\n",
    "Functions, modules, methods, classes, etc., are all first class objects. This means that these objects can be:\n",
    "\n",
    "- Stored in a container\n",
    "- Passed to a function as a parameter\n",
    "- Returned by a function\n",
    "- Bound to a variable\n",
    "\n",
    "One can access an attribute of an object using the *dot operator*: `object.attribute`. For example, if `L` is a list, we can refer to the method `append` with `L.append`. This method call can look, for instance, like this: `L.append(4)`. Because modules are also objects in Python, we can interpret the expression `math.pi` as accessing the data attribute `pi` of the module object `math`. \n",
    "\n",
    "Numbers like 2 and 100 are instances of type `int`. Similarly, `\"hello\"` is an instance of type `str`. When we write `s=set()`, we are actually creating a new instance of type `set`, and binding the resulting instance object to `s`.\n",
    "\n",
    "A user can define their own data types. These are called *classes*. A user can call these classes like they were functions, and they return a new instance object of that type. Classes can be thought of as recipes for creating objects.\n",
    "\n",
    "An example of class definition:"
   ]
  },
  {
   "cell_type": "code",
   "execution_count": 49,
   "id": "92ac089d",
   "metadata": {},
   "outputs": [],
   "source": [
    "class MyClass(object):\n",
    "    \"\"\"Documentation string of the class\"\"\"\n",
    "    \n",
    "    def __init__(self, param1, param2):\n",
    "        \"\"\"This initializes an instance of type MyClass\"\"\"\n",
    "        self.b = param1 # creates an instance attribute\n",
    "        # self.a = param2\n",
    "        c = param2 # creates a local variable of the function\n",
    "        self.d = c + self.b # could also use param1\n",
    "        # statements ...\n",
    "        \n",
    "    def f(self, x):\n",
    "        \"\"\"This is a method of the class\"\"\"\n",
    "        print(x)\n",
    "        \n",
    "    a=6 # creates a class attribute\n",
    "    \n",
    "y = 3"
   ]
  },
  {
   "cell_type": "markdown",
   "id": "688fd24b",
   "metadata": {},
   "source": [
    "The class definition starts with the `class` statement. With this statement, you give a name for your new type and in parentheses, like the base classes of your class. The next indented block is the *class body*. After the whole class body is read, a new type is created. Note that no instances are created yet. All the attributes and methods of the class are defined in the class body.\n",
    "\n",
    "The example class has two methods: `__init__` and `f`. Note that their first parameter is special: `self`. `__init__` does the initialization when an instance is created. At instantiation with the parameters:"
   ]
  },
  {
   "cell_type": "code",
   "execution_count": 50,
   "id": "a7fc4ae9",
   "metadata": {},
   "outputs": [],
   "source": [
    "i = MyClass(2,3)"
   ]
  },
  {
   "cell_type": "code",
   "execution_count": 51,
   "id": "93303d7e",
   "metadata": {},
   "outputs": [
    {
     "data": {
      "text/plain": [
       "5"
      ]
     },
     "execution_count": 51,
     "metadata": {},
     "output_type": "execute_result"
    }
   ],
   "source": [
    "i.d"
   ]
  },
  {
   "cell_type": "code",
   "execution_count": 22,
   "id": "d5de8bfa",
   "metadata": {},
   "outputs": [
    {
     "data": {
      "text/plain": [
       "2"
      ]
     },
     "execution_count": 22,
     "metadata": {},
     "output_type": "execute_result"
    }
   ],
   "source": [
    "i.b"
   ]
  },
  {
   "cell_type": "code",
   "execution_count": 40,
   "id": "c343a074",
   "metadata": {},
   "outputs": [
    {
     "data": {
      "text/plain": [
       "6"
      ]
     },
     "execution_count": 40,
     "metadata": {},
     "output_type": "execute_result"
    }
   ],
   "source": [
    "i.a"
   ]
  },
  {
   "cell_type": "markdown",
   "id": "d871e918",
   "metadata": {},
   "source": [
    "`param1` and `param2` are bound to values 2 and 3, respectively. Now that we have an instance `i`, we can call its method `f` with the dot operator:"
   ]
  },
  {
   "cell_type": "code",
   "execution_count": 23,
   "id": "f930016f",
   "metadata": {},
   "outputs": [
    {
     "name": "stdout",
     "output_type": "stream",
     "text": [
      "1\n"
     ]
    }
   ],
   "source": [
    "i.f(1)"
   ]
  },
  {
   "cell_type": "markdown",
   "id": "f6c15482",
   "metadata": {},
   "source": [
    "The parameters of `f` are bound in the following way: `self = i` and `x = 1`. \n",
    "\n",
    "There are differences in how an assignment inside a class body creates variables. The attribute `a` is at class level and is common for all instances of the class `MyClass`. The variable `c` is a local variable of the function `__init__`, and therefore cannot be used outside of the function. The attribute `b` is specific to each instance of `MyClass`. Note that `self` refers to the current instance. \n",
    "\n",
    "An example:"
   ]
  },
  {
   "cell_type": "code",
   "execution_count": 32,
   "id": "a43ac675",
   "metadata": {},
   "outputs": [],
   "source": [
    "x = MyClass(1,0)\n",
    "y = MyClass(2,0)"
   ]
  },
  {
   "cell_type": "code",
   "execution_count": 4,
   "id": "521fa788",
   "metadata": {},
   "outputs": [
    {
     "data": {
      "text/plain": [
       "False"
      ]
     },
     "execution_count": 4,
     "metadata": {},
     "output_type": "execute_result"
    }
   ],
   "source": [
    "x.b == y.b"
   ]
  },
  {
   "cell_type": "code",
   "execution_count": 33,
   "id": "777f4dd5",
   "metadata": {},
   "outputs": [
    {
     "data": {
      "text/plain": [
       "True"
      ]
     },
     "execution_count": 33,
     "metadata": {},
     "output_type": "execute_result"
    }
   ],
   "source": [
    "x.a == y.a"
   ]
  },
  {
   "cell_type": "markdown",
   "id": "db2bdc82",
   "metadata": {},
   "source": [
    "All methods of a class have a mandatory first parameter which refers to the instance on which you called the method. This parameter is usually named `self`. If you want to access the class attribute `a` from a method of the class, use the fully qualified form:"
   ]
  },
  {
   "cell_type": "code",
   "execution_count": 34,
   "id": "de2d4f48",
   "metadata": {},
   "outputs": [
    {
     "data": {
      "text/plain": [
       "6"
      ]
     },
     "execution_count": 34,
     "metadata": {},
     "output_type": "execute_result"
    }
   ],
   "source": [
    "MyClass.a"
   ]
  },
  {
   "cell_type": "markdown",
   "id": "2fb1e37c",
   "metadata": {},
   "source": [
    "The methods whose names both begin and end with two underscores are called *special methods*. For example, `__init__` is a special method. This method sets the instance attributes to some initial value. Its first parameter is `self`, and the subsequent parameters are the ones that were passed to the call of the class. The `__init__` method should return no value. "
   ]
  },
  {
   "cell_type": "markdown",
   "id": "df26a564",
   "metadata": {},
   "source": [
    "### Instances"
   ]
  },
  {
   "cell_type": "markdown",
   "id": "55a8ec3e",
   "metadata": {},
   "source": [
    "We can create instances by calling a class like it were a function: `i = ClassName(...)`. Then, parameters given in the call will be passed to the `__init__` function. In the `__init__` method, you can create the instance specific attributes. If `__init__` is missing, we can create an instance without giving any parameters. As a consequence, the instance has no attributes. Later, you can (re)bind attributes with the assignment `instance.attribute = new value`.\n",
    "\n",
    "If that attribute did not exist before, it will be added to the instance with the assigned value. In Python, we can add attributes to or delete attributes from an existing instance. This is possible because the attribute names and the corresponding values are actually stored in a dictionary. This dictionary is also an attribute of the instance and is called `dict`. Another standard attribute in addition to `dict` is called `__class__`. This attribute stores the class of the instance; that is, the type of the object:"
   ]
  },
  {
   "cell_type": "code",
   "execution_count": 12,
   "id": "fdedc6be",
   "metadata": {},
   "outputs": [
    {
     "data": {
      "text/plain": [
       "__main__.MyClass"
      ]
     },
     "execution_count": 12,
     "metadata": {},
     "output_type": "execute_result"
    }
   ],
   "source": [
    "i.__class__"
   ]
  },
  {
   "cell_type": "markdown",
   "id": "78fb73a1",
   "metadata": {},
   "source": [
    "### Attribute Lookup"
   ]
  },
  {
   "cell_type": "markdown",
   "id": "0bbe6b52",
   "metadata": {},
   "source": [
    "Suppose `x` is an instance of class `X`, and we want to read an attribute `x.a`. The lookup has three phases:\n",
    "\n",
    "1. First, it is checked whether the attribute `a` is an attribute of the instance `x`\n",
    "2. If not, then it is checked whether `a` is a class attribute of `x`'s class `X`\n",
    "3. If not, then the base classes of `X` are checked\n",
    "\n",
    "If instead we want to bind the attribute `a`, things are much simpler. `x.a = value` will set the instance attribute. `X.a = value` will set the class attribute. Note that if a base of `X`, the class `X`, and the instance `x` each have an attribute called `a`, `x.a` hides `X.a`, and `X.a` hides the attribute of the base class."
   ]
  },
  {
   "cell_type": "code",
   "execution_count": null,
   "id": "d59e8227",
   "metadata": {},
   "outputs": [],
   "source": [
    "x = X(...)"
   ]
  }
 ],
 "metadata": {
  "kernelspec": {
   "display_name": "Python 3 (ipykernel)",
   "language": "python",
   "name": "python3"
  },
  "language_info": {
   "codemirror_mode": {
    "name": "ipython",
    "version": 3
   },
   "file_extension": ".py",
   "mimetype": "text/x-python",
   "name": "python",
   "nbconvert_exporter": "python",
   "pygments_lexer": "ipython3",
   "version": "3.9.13"
  }
 },
 "nbformat": 4,
 "nbformat_minor": 5
}
