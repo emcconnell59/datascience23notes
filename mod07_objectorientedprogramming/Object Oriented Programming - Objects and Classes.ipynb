{
 "cells": [
  {
   "cell_type": "markdown",
   "id": "d9a931be",
   "metadata": {},
   "source": [
    "## Objects and Classes"
   ]
  },
  {
   "cell_type": "markdown",
   "id": "7ce22be0",
   "metadata": {},
   "source": [
    "Python is an object-oriented programming language, but Python doesn't force you to use classes, inheritance, and methods.\n",
    "\n",
    "Every value in Python is an object. Objects are a way to combine data and the functions that handle that data. This combination is called *encapsulation*. The data items and functions are objects are called *attributes*, and in particular, the function attributes are called *methods*. For example, the operator `+` on integers calls a method of integers, and the operator `+` on strings calls a method of strings.\n",
    "\n",
    "Functions, modules, methods, classes, etc., are all first class objects. This means that these objects can be:\n",
    "\n",
    "- Stored in a container\n",
    "- Passed to a function as a parameter\n",
    "- Returned by a function\n",
    "- Bound to a variable\n",
    "\n",
    "One can access an attribute of an object using the *dot operator*: `object.attribute`. For example, if `L` is a list, we can refer to the method `append` with `L.append`. This method call can look, for instance, like this: `L.append(4)`. Because modules are also objects in Python, we can interpret the expression `math.pi` as accessing the data attribute `pi` of the module object `math`. \n",
    "\n",
    "Numbers like 2 and 100 are instances of type `int`. Similarly, `\"hello\"` is an instance of type `str`. When we write `s=set()`, we are actually creating a new instance of type `set`, and binding the resulting instance object to `s`.\n",
    "\n",
    "A user can define their own data types. These are called *classes*. A user can call these classes like they were functions, and they return a new instance object of that type. Classes can be thought of as recipes for creating objects.\n",
    "\n",
    "An example of class definition:"
   ]
  },
  {
   "cell_type": "code",
   "execution_count": 2,
   "id": "bdbbb664",
   "metadata": {},
   "outputs": [],
   "source": [
    "class MyClass(object):\n",
    "    \"\"\"Documentation string of the class\"\"\"\n",
    "    \n",
    "    def __init__(self, param1, param2):\n",
    "        \"\"\"This initializes an instance of type MyClass\"\"\"\n",
    "        self.b = param1 # creates an instance attribute\n",
    "        c = param2 # creates a local variable of the function\n",
    "        # statements ...\n",
    "        \n",
    "    def f(self, param1):\n",
    "        \"\"\"This is a method of the class\"\"\"\n",
    "        # some statements\n",
    "        \n",
    "    a=1 # creates a class attribute"
   ]
  },
  {
   "cell_type": "markdown",
   "id": "762ead01",
   "metadata": {},
   "source": [
    "The class definition starts with the `class` statement. With this statement, you give a name for your new type and in parentheses, like the base classes of your class. The next indented block is the *class body*. After the whole class body is read, a new type is created. Note that no instances are created yet. All the attributes and methods of the class are defined in the class body.\n",
    "\n",
    "The example class has two methods: `__init__` and `f`. Note that their first parameter is special: `self`. `__init__` does the initialization when an instance is created. At instantiation with the parameters:"
   ]
  },
  {
   "cell_type": "code",
   "execution_count": 10,
   "id": "8b24c8d2",
   "metadata": {},
   "outputs": [],
   "source": [
    "i = MyClass(2,3)"
   ]
  },
  {
   "cell_type": "markdown",
   "id": "4b290e17",
   "metadata": {},
   "source": [
    "`param1` and `param2` are bound to values 2 and 3, respectively. Now that we have an instance `i`, we can call its method `f` with the dot operator:"
   ]
  },
  {
   "cell_type": "code",
   "execution_count": 7,
   "id": "d82cd64f",
   "metadata": {},
   "outputs": [],
   "source": [
    "i.f(1)"
   ]
  },
  {
   "cell_type": "markdown",
   "id": "8cca177a",
   "metadata": {},
   "source": [
    "The parameters of `f` are bound in the following way: `self = i` and `param1 = 1`. \n",
    "\n",
    "There are differences in how an assignment inside a class body creates variables. The attribute `a` is at class level and is common for all instances of the class `MyClass`. The variable `c` is a local variable of the function `__init__`, and therefore cannot be used outside of the function. The attribute `b` is specific to each instance of `MyClass`. Note that `self` refers to the current instance. \n",
    "\n",
    "An example:"
   ]
  },
  {
   "cell_type": "code",
   "execution_count": 3,
   "id": "3b6bc69a",
   "metadata": {},
   "outputs": [],
   "source": [
    "x = MyClass(1,0)\n",
    "y = MyClass(2,0)"
   ]
  },
  {
   "cell_type": "code",
   "execution_count": 4,
   "id": "cd8bd6ca",
   "metadata": {},
   "outputs": [
    {
     "data": {
      "text/plain": [
       "False"
      ]
     },
     "execution_count": 4,
     "metadata": {},
     "output_type": "execute_result"
    }
   ],
   "source": [
    "x.b == y.b"
   ]
  },
  {
   "cell_type": "code",
   "execution_count": 5,
   "id": "fcf75a7a",
   "metadata": {},
   "outputs": [
    {
     "data": {
      "text/plain": [
       "True"
      ]
     },
     "execution_count": 5,
     "metadata": {},
     "output_type": "execute_result"
    }
   ],
   "source": [
    "x.a == y.a"
   ]
  },
  {
   "cell_type": "markdown",
   "id": "c1c78b8b",
   "metadata": {},
   "source": [
    "All methods of a class have a mandatory first parameter which refers to the instance on which you called the method. This parameter is usually named `self`. If you want to access the class attribute `a` from a method of the class, use the fully qualified form:"
   ]
  },
  {
   "cell_type": "code",
   "execution_count": 8,
   "id": "de2c6a5b",
   "metadata": {},
   "outputs": [
    {
     "data": {
      "text/plain": [
       "1"
      ]
     },
     "execution_count": 8,
     "metadata": {},
     "output_type": "execute_result"
    }
   ],
   "source": [
    "MyClass.a"
   ]
  },
  {
   "cell_type": "markdown",
   "id": "7c565df2",
   "metadata": {},
   "source": [
    "The methods whose names both begin and end with two underscores are called *special methods*. For example, `__init__` is a special method. These methods will be discussed in detail later."
   ]
  },
  {
   "cell_type": "markdown",
   "id": "ecaf13ca",
   "metadata": {},
   "source": [
    "### Instances"
   ]
  },
  {
   "cell_type": "markdown",
   "id": "0f7d5e1a",
   "metadata": {},
   "source": [
    "We can create instances by calling a class like it were a function: `i = ClassName(...)`. Then, parameters given in the call will be passed to the `__init__` function. In the `__init__` method, you can create the instance specific attributes. If `__init__` is missing, we can create an instance without giving any parameters. As a consequence, the instance has no attributes. Later, you can (re)bind attributes with the assignment `instance.attribute = new value`.\n",
    "\n",
    "If that attribute did not exist before, it will be added to the instance with the assigned value. In Python, we can add attributes to or delete attributes from an existing instance. This is possible because the attribute names and the corresponding values are actually stored in a dictionary. This dictionary is also an attribute of the instance and is called `dict`. Another standard attribute in addition to `dict` is called `__class__`. This attribute stores the class of the instance; that is, the type of the object:"
   ]
  },
  {
   "cell_type": "code",
   "execution_count": 12,
   "id": "d5ac4902",
   "metadata": {},
   "outputs": [
    {
     "data": {
      "text/plain": [
       "__main__.MyClass"
      ]
     },
     "execution_count": 12,
     "metadata": {},
     "output_type": "execute_result"
    }
   ],
   "source": [
    "i.__class__"
   ]
  },
  {
   "cell_type": "markdown",
   "id": "d82800b4",
   "metadata": {},
   "source": [
    "### Attribute Lookup"
   ]
  },
  {
   "cell_type": "markdown",
   "id": "e335d069",
   "metadata": {},
   "source": [
    "Suppose `x` is an instance of class `X`, and we want to read an attribute `x.a`. The lookup has three phases:\n",
    "\n",
    "1. First, it is checked whether the attribute `a` is an attribute of the instance `x`\n",
    "2. If not, then it is checked whether `a` is a class attribute of `x`'s class `X`\n",
    "3. If not, then the base classes of `X` are checked\n",
    "\n",
    "If instead we want to bind the attribute `a`, things are much simpler. `x.a = value` will set the instance attribute. `X.a = value` will set the class attribute. Note that if a base of `X`, the class `X`, and the instance `x` each have an attribute called `a`, `x.a` hides `X.a`, and `X.a` hides the attribute of the base class."
   ]
  }
 ],
 "metadata": {
  "kernelspec": {
   "display_name": "Python 3 (ipykernel)",
   "language": "python",
   "name": "python3"
  },
  "language_info": {
   "codemirror_mode": {
    "name": "ipython",
    "version": 3
   },
   "file_extension": ".py",
   "mimetype": "text/x-python",
   "name": "python",
   "nbconvert_exporter": "python",
   "pygments_lexer": "ipython3",
   "version": "3.9.13"
  }
 },
 "nbformat": 4,
 "nbformat_minor": 5
}
