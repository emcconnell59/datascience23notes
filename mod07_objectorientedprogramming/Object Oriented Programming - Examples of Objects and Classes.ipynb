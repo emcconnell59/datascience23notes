{
 "cells": [
  {
   "cell_type": "markdown",
   "id": "99532397",
   "metadata": {},
   "source": [
    "## Examples of Objects and Classes"
   ]
  },
  {
   "cell_type": "markdown",
   "id": "48247f41",
   "metadata": {},
   "source": [
    "Objects are an encapsulation of variables and functions into a single entity. Objects get their variables and functions from classes. Classes are essentially a template to create your objects.\n",
    "\n",
    "A very basic class would look something like this:"
   ]
  },
  {
   "cell_type": "code",
   "execution_count": 9,
   "id": "aac91997",
   "metadata": {},
   "outputs": [],
   "source": [
    "class MyClass:\n",
    "    \"\"\"Documentation here to say there is a variable named variable\"\"\"\n",
    "    \n",
    "    variable = \"this is not a trick\" # class level attribute\n",
    "    \n",
    "    def function(self):\n",
    "        print(\"This is a message inside the class.\")"
   ]
  },
  {
   "cell_type": "markdown",
   "id": "de4ca859",
   "metadata": {},
   "source": [
    "To assign the above class to an object, you would do the following:"
   ]
  },
  {
   "cell_type": "code",
   "execution_count": 15,
   "id": "95b624e6",
   "metadata": {},
   "outputs": [
    {
     "name": "stdout",
     "output_type": "stream",
     "text": [
      "<__main__.MyClass object at 0x7ff0fd928c40>\n"
     ]
    },
    {
     "data": {
      "text/plain": [
       "__main__.MyClass"
      ]
     },
     "execution_count": 15,
     "metadata": {},
     "output_type": "execute_result"
    }
   ],
   "source": [
    "myobjectx = MyClass()\n",
    "print(myobjectx)\n",
    "type(myobjectx)"
   ]
  },
  {
   "cell_type": "markdown",
   "id": "a7766c6f",
   "metadata": {},
   "source": [
    "Now the variable `myobjectx` holds an object of the class `MyClass` that contains the variable and the function defined within the class `MyClass`."
   ]
  },
  {
   "cell_type": "markdown",
   "id": "a122e864",
   "metadata": {},
   "source": [
    "### Accessing Object Variables"
   ]
  },
  {
   "cell_type": "markdown",
   "id": "952584d1",
   "metadata": {},
   "source": [
    "To access the variable inside of the newly created object `myobjectx`, you would do the following:"
   ]
  },
  {
   "cell_type": "code",
   "execution_count": 5,
   "id": "5e8252be",
   "metadata": {},
   "outputs": [
    {
     "data": {
      "text/plain": [
       "'this is not a trick'"
      ]
     },
     "execution_count": 5,
     "metadata": {},
     "output_type": "execute_result"
    }
   ],
   "source": [
    "myobjectx.variable"
   ]
  },
  {
   "cell_type": "code",
   "execution_count": 10,
   "id": "1a17fa89",
   "metadata": {},
   "outputs": [
    {
     "data": {
      "text/plain": [
       "'this is not a trick'"
      ]
     },
     "execution_count": 10,
     "metadata": {},
     "output_type": "execute_result"
    }
   ],
   "source": [
    "myobjecty = MyClass()\n",
    "myobjecty.variable"
   ]
  },
  {
   "cell_type": "code",
   "execution_count": 14,
   "id": "cad7b4bd",
   "metadata": {},
   "outputs": [
    {
     "data": {
      "text/plain": [
       "3"
      ]
     },
     "execution_count": 14,
     "metadata": {},
     "output_type": "execute_result"
    }
   ],
   "source": [
    "myobjectx.x = 3\n",
    "myobjectx.x"
   ]
  },
  {
   "cell_type": "markdown",
   "id": "2c00ed98",
   "metadata": {},
   "source": [
    "So for instance, the below would output the string `\"Gary is a bad coder\"`:"
   ]
  },
  {
   "cell_type": "code",
   "execution_count": 16,
   "id": "23d14de4",
   "metadata": {},
   "outputs": [
    {
     "name": "stdout",
     "output_type": "stream",
     "text": [
      "Gary is a bad coder\n"
     ]
    }
   ],
   "source": [
    "class MyClass:\n",
    "    variable = \"Gary is a bad coder\"\n",
    "    \n",
    "    def function(self):\n",
    "        print(\"This is a message inside the class.\")\n",
    "        \n",
    "myobjectx = MyClass()\n",
    "\n",
    "print(myobjectx.variable)"
   ]
  },
  {
   "cell_type": "markdown",
   "id": "37645a51",
   "metadata": {},
   "source": [
    "You can create multiple different objects that are of the same class (have the same variables and functions defined). However, each object contains independent copies of the variables defined in the class. For instance, if we were to define another object with the `MyClass` class and then change the string in the variable above:"
   ]
  },
  {
   "cell_type": "code",
   "execution_count": 17,
   "id": "0a10b63d",
   "metadata": {},
   "outputs": [
    {
     "name": "stdout",
     "output_type": "stream",
     "text": [
      "I code very well\n",
      "yackity\n"
     ]
    }
   ],
   "source": [
    "class MyClass:\n",
    "    variable = \"I code very well\"\n",
    "    \n",
    "    def function(self):\n",
    "        print(\"This is a message inside the class.\")\n",
    "        \n",
    "myobjectx = MyClass()\n",
    "myobjecty = MyClass()\n",
    "\n",
    "myobjecty.variable = \"yackity\"\n",
    "\n",
    "# then print out both values\n",
    "print(myobjectx.variable)\n",
    "print(myobjecty.variable)"
   ]
  },
  {
   "cell_type": "markdown",
   "id": "0954f426",
   "metadata": {},
   "source": [
    "### Accessing Object Functions"
   ]
  },
  {
   "cell_type": "markdown",
   "id": "dc8d73a4",
   "metadata": {},
   "source": [
    "To access a function inside of an object, you use notation similar to accessing a variable:"
   ]
  },
  {
   "cell_type": "code",
   "execution_count": 8,
   "id": "909b483a",
   "metadata": {},
   "outputs": [
    {
     "name": "stdout",
     "output_type": "stream",
     "text": [
      "This is a message inside the class.\n"
     ]
    }
   ],
   "source": [
    "myobjectx.function()"
   ]
  }
 ],
 "metadata": {
  "kernelspec": {
   "display_name": "Python 3 (ipykernel)",
   "language": "python",
   "name": "python3"
  },
  "language_info": {
   "codemirror_mode": {
    "name": "ipython",
    "version": 3
   },
   "file_extension": ".py",
   "mimetype": "text/x-python",
   "name": "python",
   "nbconvert_exporter": "python",
   "pygments_lexer": "ipython3",
   "version": "3.9.13"
  }
 },
 "nbformat": 4,
 "nbformat_minor": 5
}
