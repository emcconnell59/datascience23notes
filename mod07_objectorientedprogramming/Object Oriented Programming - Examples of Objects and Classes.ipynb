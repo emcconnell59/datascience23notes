{
 "cells": [
  {
   "cell_type": "markdown",
   "id": "b4581877",
   "metadata": {},
   "source": [
    "## Examples of Objects and Classes"
   ]
  },
  {
   "cell_type": "markdown",
   "id": "3731b32a",
   "metadata": {},
   "source": [
    "Objects are an encapsulation of variables and functions into a single entity. Objects get their variables and functions from classes. Classes are essentially a template to create your objects.\n",
    "\n",
    "A very basic class would look something like this:"
   ]
  },
  {
   "cell_type": "code",
   "execution_count": 3,
   "id": "75961ec4",
   "metadata": {},
   "outputs": [],
   "source": [
    "class MyClass:\n",
    "    \"\"\"Documentation here to say there is a variable named variable\"\"\"\n",
    "    \n",
    "    variable = \"this is not a trick\"\n",
    "    \n",
    "    def function(self):\n",
    "        print(\"This is a message inside the class.\")"
   ]
  },
  {
   "cell_type": "markdown",
   "id": "19c45526",
   "metadata": {},
   "source": [
    "To assign the above class to an object, you would do the following:"
   ]
  },
  {
   "cell_type": "code",
   "execution_count": 4,
   "id": "00de8b46",
   "metadata": {},
   "outputs": [
    {
     "name": "stdout",
     "output_type": "stream",
     "text": [
      "<__main__.MyClass object at 0x7ff0fd9285e0>\n"
     ]
    }
   ],
   "source": [
    "myobjectx = MyClass()\n",
    "print(myobjectx)"
   ]
  },
  {
   "cell_type": "markdown",
   "id": "2af404c8",
   "metadata": {},
   "source": [
    "Now the variable `myobjectx` holds an object of the class `MyClass` that contains the variable and the function defined within the class `MyClass`."
   ]
  },
  {
   "cell_type": "markdown",
   "id": "a536514b",
   "metadata": {},
   "source": [
    "### Accessing Object Variables"
   ]
  },
  {
   "cell_type": "markdown",
   "id": "cbb051e0",
   "metadata": {},
   "source": [
    "To access the variable inside of the newly created object `myobjectx`, you would do the following:"
   ]
  },
  {
   "cell_type": "code",
   "execution_count": 5,
   "id": "ec42dc4a",
   "metadata": {},
   "outputs": [
    {
     "data": {
      "text/plain": [
       "'this is not a trick'"
      ]
     },
     "execution_count": 5,
     "metadata": {},
     "output_type": "execute_result"
    }
   ],
   "source": [
    "myobjectx.variable"
   ]
  },
  {
   "cell_type": "markdown",
   "id": "d7605cf9",
   "metadata": {},
   "source": [
    "So for instance, the below would output the string `\"Gary is a bad coder\"`:"
   ]
  },
  {
   "cell_type": "code",
   "execution_count": 6,
   "id": "39a6e848",
   "metadata": {},
   "outputs": [
    {
     "name": "stdout",
     "output_type": "stream",
     "text": [
      "Gary is a bad coder\n"
     ]
    }
   ],
   "source": [
    "class MyClass:\n",
    "    variable = \"Gary is a bad coder\"\n",
    "    \n",
    "    def function(self):\n",
    "        print(\"This is a message inside the class.\")\n",
    "        \n",
    "myobjectx = MyClass()\n",
    "\n",
    "print(myobjectx.variable)"
   ]
  },
  {
   "cell_type": "markdown",
   "id": "dd2bd750",
   "metadata": {},
   "source": [
    "You can create multiple different objects that are of the same class (have the same variables and functions defined). However, each object contains independent copies of the variables defined in the class. For instance, if we were to define another object with the `MyClass` class and then change the string in the variable above:"
   ]
  },
  {
   "cell_type": "code",
   "execution_count": 7,
   "id": "ec307f55",
   "metadata": {},
   "outputs": [
    {
     "name": "stdout",
     "output_type": "stream",
     "text": [
      "I code very well\n",
      "yackity\n"
     ]
    }
   ],
   "source": [
    "class MyClass:\n",
    "    variable = \"I code very well\"\n",
    "    \n",
    "    def function(self):\n",
    "        print(\"This is a message inside the class.\")\n",
    "        \n",
    "myobjectx = MyClass()\n",
    "myobjecty = MyClass()\n",
    "\n",
    "myobjecty.variable = \"yackity\"\n",
    "\n",
    "# then print out both values\n",
    "print(myobjectx.variable)\n",
    "print(myobjecty.variable)"
   ]
  },
  {
   "cell_type": "markdown",
   "id": "bb8d018b",
   "metadata": {},
   "source": [
    "### Accessing Object Functions"
   ]
  },
  {
   "cell_type": "markdown",
   "id": "d4c25e7e",
   "metadata": {},
   "source": [
    "To access a function inside of an object, you use notation similar to accessing a variable:"
   ]
  },
  {
   "cell_type": "code",
   "execution_count": 8,
   "id": "1307b069",
   "metadata": {},
   "outputs": [
    {
     "name": "stdout",
     "output_type": "stream",
     "text": [
      "This is a message inside the class.\n"
     ]
    }
   ],
   "source": [
    "myobjectx.function()"
   ]
  }
 ],
 "metadata": {
  "kernelspec": {
   "display_name": "Python 3 (ipykernel)",
   "language": "python",
   "name": "python3"
  },
  "language_info": {
   "codemirror_mode": {
    "name": "ipython",
    "version": 3
   },
   "file_extension": ".py",
   "mimetype": "text/x-python",
   "name": "python",
   "nbconvert_exporter": "python",
   "pygments_lexer": "ipython3",
   "version": "3.9.13"
  }
 },
 "nbformat": 4,
 "nbformat_minor": 5
}
