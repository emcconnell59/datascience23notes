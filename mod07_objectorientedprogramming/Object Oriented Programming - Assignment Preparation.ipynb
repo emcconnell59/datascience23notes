{
 "cells": [
  {
   "cell_type": "markdown",
   "id": "e24a9f30",
   "metadata": {},
   "source": [
    "## Assignment Preparation"
   ]
  },
  {
   "cell_type": "markdown",
   "id": "a013f782",
   "metadata": {},
   "source": [
    "### Addition of Two Complex Numbers"
   ]
  },
  {
   "cell_type": "markdown",
   "id": "24101c6a",
   "metadata": {},
   "source": [
    "Consider two complex numbers, `x = a + bi` and `y = c + di`, where `a` and `c` are the real numbers and `bi` and `di` are the imaginary numbers. The addition of the complex numbers `x` and `y` is defined as:\n",
    "\n",
    "`x + y = (a + c) + i(b + d)`\n",
    "\n",
    "The real part of the resulting complex number is the sum of the real part of each complex number, and the imaginary part of the resulting complex number is equal to the sum of the imaginary part of each complex number.\n",
    "\n",
    "For example, for `x = 3 + 4i` and `y = 5 + 6i`, `x + y` is:\n",
    "\n",
    "`x + y = (3 + 5) + i(4 + 6) = 8 + 10i`"
   ]
  },
  {
   "cell_type": "markdown",
   "id": "ae3bb501",
   "metadata": {},
   "source": [
    "### Difference of Two Complex Numbers"
   ]
  },
  {
   "cell_type": "markdown",
   "id": "c58cc3af",
   "metadata": {},
   "source": [
    "Consider two complex numbers, `x = a + bi` and `y = c + di`, where `a` and `c` are the real numbers and `bi` and `di` are the imaginary numbers. The difference of the complex numbers `x` and `y` is defined as:\n",
    "\n",
    "`x - y = (a - c) + i(b - d)`\n",
    "\n",
    "The real part of the resulting complex number is the difference of the real part of each complex number, and the imaginary part of the resulting complex number is equal to the difference of the imaginary part of each complex number.\n",
    "\n",
    "For example, for `x = 5 + 6i` and `y = 3 + 4i`, `x - y` is:\n",
    "\n",
    "`x - y = (5 - 3) + i(6 - 4) = 2 + 2i`"
   ]
  },
  {
   "cell_type": "markdown",
   "id": "6ea8d10d",
   "metadata": {},
   "source": [
    "### Multiplication of Two Complex Numbers"
   ]
  },
  {
   "cell_type": "markdown",
   "id": "ea4c0ac4",
   "metadata": {},
   "source": [
    "We know the expansion of `(a + b)(c + d)` is \n",
    "\n",
    "`a*c + a*d + b*c + b*d`\n",
    "\n",
    "Similarly, consider two complex numbers, `x = a + bi` and `y = c + di`, where `a` and `c` are the real numbers and `bi` and `di` are the imaginary numbers. The product of the complex numbers `x` and `y` is defined as:\n",
    "\n",
    "`x*y = (a + bi)(c + di) \n",
    " x*y= a*c + a*di + bi*c + b*d*i**2\n",
    " x*y = (a*c - b*d) + i(a*d + b*c)`\n",
    " \n",
    "where `i**2 = -1`.\n",
    "\n",
    "For example, for `x = 5 + 6i` and `y = 3 + 4i`, `x*y` is:\n",
    "\n",
    "`x*y = (5*3 - 6*4) + i(5*4 + 6*3) \n",
    " x*y = (15 - 24) + i(20 + 18)\n",
    " x*y = -9 + 38i`"
   ]
  },
  {
   "cell_type": "markdown",
   "id": "39b7374b",
   "metadata": {},
   "source": [
    "### Multiplicative Inverse of a Complex Number"
   ]
  },
  {
   "cell_type": "markdown",
   "id": "d10b806c",
   "metadata": {},
   "source": [
    "For any non-zero complex number `x = a + bi`, there exists another complex number `1/x`, which is known as the multiplicative inverse of `x` such that `x*(1/x) = 1`. This is defined as:\n",
    "\n",
    "`1/x = a/(a**2 + b**2) + i * (-b)/(a**2 + b**2)`\n",
    "\n",
    "For example, for `x = 3 + 4i`, `1/x` is:\n",
    "\n",
    "`1/x = 3/(3**2 + 4**2) + i * (-4)/(3**2 + 4**2)\n",
    " 1/x = 3/(9 + 16) - i * 4/(9 + 16)\n",
    " 1/x = 3/25 - i * 4/25`"
   ]
  },
  {
   "cell_type": "markdown",
   "id": "7dffd5bc",
   "metadata": {},
   "source": [
    "### Division of Complex Numbers"
   ]
  },
  {
   "cell_type": "markdown",
   "id": "ca1d1b8c",
   "metadata": {},
   "source": [
    "Consider two complex numbers, `x = a + bi` and `y = c + di`, where `a` and `c` are the real numbers and `bi` and `di` are the imaginary numbers. The quotient of the complex numbers `x` and `y` is defined as:\n",
    "\n",
    "`x/y = x * 1/y`\n",
    "\n",
    "Therefore, to find `x/y`, we have to multiply `x` with the multiplicative inverse of `y`. To define `x/y` in more detail:\n",
    "\n",
    "`x/y = (a + bi)/(c + di)\n",
    " x/y = [(a*c + b*d)/(c**2 + d**2)] + i * [(c*b - a*d)/(c**2 + d**2)]`\n",
    "\n",
    "For example, for `x = 5 + 6i` and `y = 3 + 4i`, `x/y` is:\n",
    "\n",
    "`x/y = (5 + 6i)/(3 + 4i)\n",
    " x/y = [(5*3 + 6*4)/(3**2 + 4**2)] + i * [(3*6 - 5*4)/(3**2 + 4**2)]\n",
    " x/y = [(15 + 24)/(9 + 16)] + i * [(18 - 20)/(9 + 16)]\n",
    " x/y = (39 - 2i)/25`"
   ]
  },
  {
   "cell_type": "markdown",
   "id": "f480c0cb",
   "metadata": {},
   "source": [
    "### Modulus of a Complex Number"
   ]
  },
  {
   "cell_type": "markdown",
   "id": "b443a891",
   "metadata": {},
   "source": [
    "The modulus of a complex number is the square root of the sum of the squares of the real part and the imaginary part of the complex number. For a complex number `x = a + bi`, `mod(x)` is defined as:\n",
    "\n",
    "`mod(x) = math.sqrt(a**2 + b**2)`\n",
    "\n",
    "For example, for `x = 5 + 6i`, `mod(x)` is:\n",
    "\n",
    "`mod(x) = math.sqrt(5**2 + 6**2)\n",
    " mod(x) = math.sqrt(25 + 36)\n",
    " mod(x) = math.sqrt(61)`"
   ]
  }
 ],
 "metadata": {
  "kernelspec": {
   "display_name": "Python 3 (ipykernel)",
   "language": "python",
   "name": "python3"
  },
  "language_info": {
   "codemirror_mode": {
    "name": "ipython",
    "version": 3
   },
   "file_extension": ".py",
   "mimetype": "text/x-python",
   "name": "python",
   "nbconvert_exporter": "python",
   "pygments_lexer": "ipython3",
   "version": "3.9.13"
  }
 },
 "nbformat": 4,
 "nbformat_minor": 5
}
