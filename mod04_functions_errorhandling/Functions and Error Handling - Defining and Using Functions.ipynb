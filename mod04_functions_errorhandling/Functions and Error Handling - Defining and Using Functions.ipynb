{
 "cells": [
  {
   "cell_type": "markdown",
   "id": "094a56e1",
   "metadata": {},
   "source": [
    "## Defining and Using Functions"
   ]
  },
  {
   "cell_type": "markdown",
   "id": "c0601b5b",
   "metadata": {},
   "source": [
    "So far, our scripts have been simple, single-use code blocks. Like we've seen, one way to reorgnize our Python code and to make it more readable and reusable is to factor out useful pieces into reusable *functions*. \n",
    "\n",
    "Here, we'll finish covering the first way of creating functions, the `def` statement, useful for any type of function, and we'll cover the second way of creating functions, the `lambda` statement, useful for creating short anonymous functions."
   ]
  },
  {
   "cell_type": "markdown",
   "id": "16d18f71",
   "metadata": {},
   "source": [
    "### Using Functions"
   ]
  },
  {
   "cell_type": "markdown",
   "id": "ad8bd770",
   "metadata": {},
   "source": [
    "Functions are groups of code that have a name, and can be called using parentheses. We've seen functions before. For example, `print` is a function:"
   ]
  },
  {
   "cell_type": "code",
   "execution_count": 1,
   "id": "a14ac01d",
   "metadata": {},
   "outputs": [
    {
     "name": "stdout",
     "output_type": "stream",
     "text": [
      "abc\n"
     ]
    }
   ],
   "source": [
    "print('abc')"
   ]
  },
  {
   "cell_type": "markdown",
   "id": "2daae0ea",
   "metadata": {},
   "source": [
    "Here `print` is the function name, and `'abc'` is the function's *argument*.\n",
    "\n",
    "In addition to arguments, there are *keyword arguments* that are specified by name. One available keyword argument for the `print()` function is `sep`, which tells what character or characters should be used to separate multiple items:"
   ]
  },
  {
   "cell_type": "code",
   "execution_count": 2,
   "id": "34e74ff8",
   "metadata": {},
   "outputs": [
    {
     "name": "stdout",
     "output_type": "stream",
     "text": [
      "1 2 3\n"
     ]
    }
   ],
   "source": [
    "print(1, 2, 3)"
   ]
  },
  {
   "cell_type": "code",
   "execution_count": 20,
   "id": "cd82e766",
   "metadata": {},
   "outputs": [
    {
     "name": "stdout",
     "output_type": "stream",
     "text": [
      "1--2--3\n"
     ]
    }
   ],
   "source": [
    "print(1, 2, 3, sep='--')"
   ]
  },
  {
   "cell_type": "markdown",
   "id": "6c6be134",
   "metadata": {},
   "source": [
    "When non-keyword arguments are used together with keyword arguments, the keyword arguments must come at the end."
   ]
  },
  {
   "cell_type": "markdown",
   "id": "b0551abb",
   "metadata": {},
   "source": [
    "### Default Argument Values"
   ]
  },
  {
   "cell_type": "markdown",
   "id": "d9299c31",
   "metadata": {},
   "source": [
    "In our previous notes, we saw how to define a function with the `def` statement. Now we'll continue that discussion.\n",
    "\n",
    "Often when defining a function, there are certain values that we want the function to use *most* of the time, but we'd also like to give the user some flexibility. In this case, we can use *default values* for arguments. Consider the `fibonacci` function from before. What if we would like the user to be able to play with the starting values? We could do that as follows:"
   ]
  },
  {
   "cell_type": "code",
   "execution_count": 23,
   "id": "a626dde6",
   "metadata": {},
   "outputs": [],
   "source": [
    "def fibonacci(N, a=0, b=1):\n",
    "    L = []\n",
    "    while len(L) < N:\n",
    "        a, b = b, a + b\n",
    "        L.append(a)\n",
    "    return L"
   ]
  },
  {
   "cell_type": "markdown",
   "id": "d1a475b2",
   "metadata": {},
   "source": [
    "With a single argument, the result of the function call is identical to before:"
   ]
  },
  {
   "cell_type": "code",
   "execution_count": 24,
   "id": "c0937e05",
   "metadata": {},
   "outputs": [
    {
     "data": {
      "text/plain": [
       "[1, 1, 2, 3, 5, 8, 13, 21, 34, 55]"
      ]
     },
     "execution_count": 24,
     "metadata": {},
     "output_type": "execute_result"
    }
   ],
   "source": [
    "fibonacci(10)"
   ]
  },
  {
   "cell_type": "markdown",
   "id": "f0f1f561",
   "metadata": {},
   "source": [
    "But now, we can use the function to explore new things, such as the effect of new starting values:"
   ]
  },
  {
   "cell_type": "code",
   "execution_count": 6,
   "id": "39d4f230",
   "metadata": {},
   "outputs": [
    {
     "data": {
      "text/plain": [
       "[2, 2, 4, 6, 10, 16, 26, 42, 68, 110]"
      ]
     },
     "execution_count": 6,
     "metadata": {},
     "output_type": "execute_result"
    }
   ],
   "source": [
    "fibonacci(10, 0, 2)"
   ]
  },
  {
   "cell_type": "markdown",
   "id": "ce7e1d54",
   "metadata": {},
   "source": [
    "The values can also be specified by name if desired, in which case the order of the named values does not matter:"
   ]
  },
  {
   "cell_type": "code",
   "execution_count": 7,
   "id": "b5dfd858",
   "metadata": {},
   "outputs": [
    {
     "data": {
      "text/plain": [
       "[3, 4, 7, 11, 18, 29, 47, 76, 123, 199]"
      ]
     },
     "execution_count": 7,
     "metadata": {},
     "output_type": "execute_result"
    }
   ],
   "source": [
    "fibonacci(10, b=3, a=1)"
   ]
  },
  {
   "cell_type": "markdown",
   "id": "578daa59",
   "metadata": {},
   "source": [
    "### Anonymous (`lambda`) Functions"
   ]
  },
  {
   "cell_type": "markdown",
   "id": "db1a0df2",
   "metadata": {},
   "source": [
    "We've covered the most common way of defining functions, the `def` statement. You'll likely come across another way of defining short, one-off functions with the `lambda` statement. It looks something like this:"
   ]
  },
  {
   "cell_type": "code",
   "execution_count": 8,
   "id": "8cdd2aa4",
   "metadata": {},
   "outputs": [
    {
     "data": {
      "text/plain": [
       "3"
      ]
     },
     "execution_count": 8,
     "metadata": {},
     "output_type": "execute_result"
    }
   ],
   "source": [
    "add = lambda x, y: x + y\n",
    "add(1, 2)"
   ]
  },
  {
   "cell_type": "code",
   "execution_count": 9,
   "id": "8376b41d",
   "metadata": {},
   "outputs": [
    {
     "data": {
      "text/plain": [
       "7"
      ]
     },
     "execution_count": 9,
     "metadata": {},
     "output_type": "execute_result"
    }
   ],
   "source": [
    "add(3, 4)"
   ]
  },
  {
   "cell_type": "code",
   "execution_count": 10,
   "id": "7e5b4d7f",
   "metadata": {},
   "outputs": [
    {
     "data": {
      "text/plain": [
       "17"
      ]
     },
     "execution_count": 10,
     "metadata": {},
     "output_type": "execute_result"
    }
   ],
   "source": [
    "add(8, 9)"
   ]
  },
  {
   "cell_type": "markdown",
   "id": "533d0120",
   "metadata": {},
   "source": [
    "This lambda function is roughly equivalent to:"
   ]
  },
  {
   "cell_type": "code",
   "execution_count": 11,
   "id": "1507b70c",
   "metadata": {},
   "outputs": [],
   "source": [
    "def add(x, y):\n",
    "    return x + y"
   ]
  },
  {
   "cell_type": "markdown",
   "id": "be347f09",
   "metadata": {},
   "source": [
    "So why would you ever want to use such a thing? Primarily, it comes down to the fact that *everything is an object* in Python, even functions themselves! That means that functions can be passed as arguments to functions.\n",
    "\n",
    "As an example of this, suppose we have some data stored in a list of dictionaries:"
   ]
  },
  {
   "cell_type": "code",
   "execution_count": 13,
   "id": "cbef4002",
   "metadata": {},
   "outputs": [],
   "source": [
    "data = [{'first':'Guido', 'last':'Van Rossum', 'YOB':1956},\n",
    "        {'first':'Grace', 'last':'Hopper', 'YOB':1906},\n",
    "        {'first':'Alan', 'last':'Turing', 'YOB':1912}]"
   ]
  },
  {
   "cell_type": "markdown",
   "id": "1baa57c6",
   "metadata": {},
   "source": [
    "Now suppose we want to sort this data. Python has a `sorted` function that does this:"
   ]
  },
  {
   "cell_type": "code",
   "execution_count": 14,
   "id": "616cb856",
   "metadata": {},
   "outputs": [
    {
     "data": {
      "text/plain": [
       "[1, 2, 3, 4, 5, 6]"
      ]
     },
     "execution_count": 14,
     "metadata": {},
     "output_type": "execute_result"
    }
   ],
   "source": [
    "sorted([2,4,3,5,1,6])"
   ]
  },
  {
   "cell_type": "markdown",
   "id": "afb43ba8",
   "metadata": {},
   "source": [
    "But dictionaries are not orderable: we need a way to tell the function *how* to sort our data. We can do this by specifying the `key` function, a function which given an item, returns the sorting key for that item:"
   ]
  },
  {
   "cell_type": "code",
   "execution_count": 15,
   "id": "310a1148",
   "metadata": {},
   "outputs": [
    {
     "data": {
      "text/plain": [
       "[{'first': 'Alan', 'last': 'Turing', 'YOB': 1912},\n",
       " {'first': 'Grace', 'last': 'Hopper', 'YOB': 1906},\n",
       " {'first': 'Guido', 'last': 'Van Rossum', 'YOB': 1956}]"
      ]
     },
     "execution_count": 15,
     "metadata": {},
     "output_type": "execute_result"
    }
   ],
   "source": [
    "# sort alphabetically by first name\n",
    "sorted(data, key=lambda item: item['first'])"
   ]
  },
  {
   "cell_type": "code",
   "execution_count": 16,
   "id": "2e6c835c",
   "metadata": {},
   "outputs": [
    {
     "data": {
      "text/plain": [
       "[{'first': 'Grace', 'last': 'Hopper', 'YOB': 1906},\n",
       " {'first': 'Alan', 'last': 'Turing', 'YOB': 1912},\n",
       " {'first': 'Guido', 'last': 'Van Rossum', 'YOB': 1956}]"
      ]
     },
     "execution_count": 16,
     "metadata": {},
     "output_type": "execute_result"
    }
   ],
   "source": [
    "# sort by year of birth\n",
    "sorted(data, key=lambda item: item['YOB'])"
   ]
  },
  {
   "cell_type": "markdown",
   "id": "b1de8cb9",
   "metadata": {},
   "source": [
    "While these key functions could certainly be created by the normal `def` syntax, the `lambda` syntax is convenient for such short one-off functions like these."
   ]
  }
 ],
 "metadata": {
  "kernelspec": {
   "display_name": "Python 3 (ipykernel)",
   "language": "python",
   "name": "python3"
  },
  "language_info": {
   "codemirror_mode": {
    "name": "ipython",
    "version": 3
   },
   "file_extension": ".py",
   "mimetype": "text/x-python",
   "name": "python",
   "nbconvert_exporter": "python",
   "pygments_lexer": "ipython3",
   "version": "3.9.13"
  }
 },
 "nbformat": 4,
 "nbformat_minor": 5
}
