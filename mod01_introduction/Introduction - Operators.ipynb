{
 "cells": [
  {
   "cell_type": "markdown",
   "id": "3ac53f04",
   "metadata": {},
   "source": [
    "## Operators"
   ]
  },
  {
   "cell_type": "markdown",
   "id": "0ca8b96b",
   "metadata": {},
   "source": [
    "In the previous section, we began to look at the semantics of Python variables and objects; here, we'll dig into the semantics of the various *operators* included in the language. By the end of this section, you'll have the basic tools to begin comparing and operating on data in Python."
   ]
  },
  {
   "cell_type": "markdown",
   "id": "f447c7b4",
   "metadata": {},
   "source": [
    "### Arithmetic Operations"
   ]
  },
  {
   "cell_type": "markdown",
   "id": "1fdf417b",
   "metadata": {},
   "source": [
    "Python implements seven basic binary arithmetic operators. They are summarized below:\n",
    "\n",
    "`a + b`: Sum of `a` and `b`\n",
    "\n",
    "`a - b`: Difference of `a` and `b`\n",
    "\n",
    "`a * b`: Product of `a` and `b`\n",
    "\n",
    "`a / b`: Quotient of `a` and `b`\n",
    "\n",
    "`a // b`: Quotient of `a` and `b` removing fractional parts\n",
    "\n",
    "`a % b`: Integer remainder after division of `a` by `b` (modulus)\n",
    "\n",
    "`a ** b`: `a` raised to the power of `b`\n",
    "\n",
    "`-a`: The negative of `a`\n",
    "\n",
    "These operators can be used and combined in intuitive ways, using standard parentheses to group operations. For example:"
   ]
  },
  {
   "cell_type": "code",
   "execution_count": 2,
   "id": "05886e6e",
   "metadata": {},
   "outputs": [
    {
     "data": {
      "text/plain": [
       "36.900000000000006"
      ]
     },
     "execution_count": 2,
     "metadata": {},
     "output_type": "execute_result"
    }
   ],
   "source": [
    "# addition, subtraction, multiplication\n",
    "x = (4 + 8.3) * (6 - 3)\n",
    "x"
   ]
  },
  {
   "cell_type": "markdown",
   "id": "d8753ba3",
   "metadata": {},
   "source": [
    "Floor division is true division with fractional parts truncated:"
   ]
  },
  {
   "cell_type": "code",
   "execution_count": 3,
   "id": "175b0fd2",
   "metadata": {},
   "outputs": [
    {
     "name": "stdout",
     "output_type": "stream",
     "text": [
      "5.5\n"
     ]
    }
   ],
   "source": [
    "# true division\n",
    "print(11 / 2)"
   ]
  },
  {
   "cell_type": "code",
   "execution_count": 4,
   "id": "b4ab370c",
   "metadata": {},
   "outputs": [
    {
     "name": "stdout",
     "output_type": "stream",
     "text": [
      "5\n"
     ]
    }
   ],
   "source": [
    "# floor division\n",
    "print(11 // 2)"
   ]
  },
  {
   "cell_type": "markdown",
   "id": "125ea7a8",
   "metadata": {},
   "source": [
    "### Assignment Operations"
   ]
  },
  {
   "cell_type": "markdown",
   "id": "3856a60b",
   "metadata": {},
   "source": [
    "We've seen that variables can be assigned with the \"`=`\" operator, and the values stored for later use. For example:"
   ]
  },
  {
   "cell_type": "code",
   "execution_count": 7,
   "id": "81842a85",
   "metadata": {},
   "outputs": [
    {
     "name": "stdout",
     "output_type": "stream",
     "text": [
      "24\n"
     ]
    }
   ],
   "source": [
    "a = 24\n",
    "print(a)"
   ]
  },
  {
   "cell_type": "markdown",
   "id": "0df36eb7",
   "metadata": {},
   "source": [
    "We can use these variables in expressions with any of the operators mentioned earlier. For example, to add `2` to `a`, we write:"
   ]
  },
  {
   "cell_type": "code",
   "execution_count": 8,
   "id": "0a0b0e68",
   "metadata": {},
   "outputs": [
    {
     "data": {
      "text/plain": [
       "26"
      ]
     },
     "execution_count": 8,
     "metadata": {},
     "output_type": "execute_result"
    }
   ],
   "source": [
    "a + 2"
   ]
  },
  {
   "cell_type": "markdown",
   "id": "0790fadd",
   "metadata": {},
   "source": [
    "We might want to update the variable `a` with this new value. In this case, we could combine the addition and the assignment and write `a = a + 2`. Because this type of combined operation and assignment is so common, Python includes built-in update operators for all of the arithmetic operations:"
   ]
  },
  {
   "cell_type": "code",
   "execution_count": 9,
   "id": "02aab3b8",
   "metadata": {},
   "outputs": [
    {
     "name": "stdout",
     "output_type": "stream",
     "text": [
      "26\n"
     ]
    }
   ],
   "source": [
    "a += 2 # equivalent to a = a + 2\n",
    "print(a)"
   ]
  },
  {
   "cell_type": "markdown",
   "id": "9256d36a",
   "metadata": {},
   "source": [
    "There is an augmented assignment operator corresponding to each of the binary operators listed earlier; in brief, they are:\n",
    "\n",
    "`a += b`\n",
    "\n",
    "`a -= b`\n",
    "\n",
    "`a *= b`\n",
    "\n",
    "`a /= b`\n",
    "\n",
    "`a //= b`\n",
    "\n",
    "`a %= b`\n",
    "\n",
    "`a **= b`\n",
    "\n",
    "Each one is equivalent to the corresponding operation followed by assignment: that is, for any operator \"`o`\", the expression `a o= b` is equivalent to `a = a o b`."
   ]
  },
  {
   "cell_type": "markdown",
   "id": "7e08de67",
   "metadata": {},
   "source": [
    "### Comparison Operations"
   ]
  },
  {
   "cell_type": "markdown",
   "id": "65701df1",
   "metadata": {},
   "source": [
    "Another type of operation which can be very useful is comparison of different values. For this, Python implements standard comparison operators, which return boolean values `True` and `False`. The comparison operators are listed below:\n",
    "\n",
    "`a == b`: `a` equal to `b`\n",
    "\n",
    "`a < b`: `a` less than `b`\n",
    "\n",
    "`a <= b`: `a` less than or equal to `b`\n",
    "\n",
    "`a != b`: `a` not equal to `b`\n",
    "\n",
    "`a > b`: `a` greater than `b`\n",
    "\n",
    "`a >= b`: `a` greater than or equal to `b`\n",
    "\n",
    "These comparison operators can be combined with the arithmetic operators to express a virtually limitless range of tests for the numbers. For example, we can check if a number is odd by checking that the modulus with 2 returns 1:"
   ]
  },
  {
   "cell_type": "code",
   "execution_count": 10,
   "id": "c994ed60",
   "metadata": {},
   "outputs": [
    {
     "data": {
      "text/plain": [
       "True"
      ]
     },
     "execution_count": 10,
     "metadata": {},
     "output_type": "execute_result"
    }
   ],
   "source": [
    "# 25 is odd\n",
    "25 % 2 == 1"
   ]
  },
  {
   "cell_type": "code",
   "execution_count": 25,
   "id": "29dd7eee",
   "metadata": {},
   "outputs": [
    {
     "data": {
      "text/plain": [
       "False"
      ]
     },
     "execution_count": 25,
     "metadata": {},
     "output_type": "execute_result"
    }
   ],
   "source": [
    "# 66 is odd\n",
    "66 % 2 == 1"
   ]
  },
  {
   "cell_type": "markdown",
   "id": "d96317be",
   "metadata": {},
   "source": [
    "We can string together multiple comparisons to check more complicated relationships:"
   ]
  },
  {
   "cell_type": "code",
   "execution_count": 12,
   "id": "9c73bd93",
   "metadata": {},
   "outputs": [
    {
     "data": {
      "text/plain": [
       "True"
      ]
     },
     "execution_count": 12,
     "metadata": {},
     "output_type": "execute_result"
    }
   ],
   "source": [
    "# check if a is between 15 and 30\n",
    "a = 25\n",
    "15 < a < 30"
   ]
  },
  {
   "cell_type": "markdown",
   "id": "0cbc19b6",
   "metadata": {},
   "source": [
    "### Boolean Operations"
   ]
  },
  {
   "cell_type": "markdown",
   "id": "f6844546",
   "metadata": {},
   "source": [
    "When working with boolean values, Python provides operators to combine the values using the standard concepts of \"and\", \"or\", and \"not\". Predictably, these operators are expressed using the words `and`, `or`, and `not`:"
   ]
  },
  {
   "cell_type": "code",
   "execution_count": 13,
   "id": "6495803b",
   "metadata": {},
   "outputs": [
    {
     "data": {
      "text/plain": [
       "True"
      ]
     },
     "execution_count": 13,
     "metadata": {},
     "output_type": "execute_result"
    }
   ],
   "source": [
    "x = 4\n",
    "(x < 6) and (x > 2)"
   ]
  },
  {
   "cell_type": "code",
   "execution_count": 14,
   "id": "f5230899",
   "metadata": {},
   "outputs": [
    {
     "data": {
      "text/plain": [
       "True"
      ]
     },
     "execution_count": 14,
     "metadata": {},
     "output_type": "execute_result"
    }
   ],
   "source": [
    "(x > 10) or (x % 2 == 0)"
   ]
  },
  {
   "cell_type": "code",
   "execution_count": 15,
   "id": "b338b752",
   "metadata": {},
   "outputs": [
    {
     "data": {
      "text/plain": [
       "False"
      ]
     },
     "execution_count": 15,
     "metadata": {},
     "output_type": "execute_result"
    }
   ],
   "source": [
    "not (x < 6)"
   ]
  },
  {
   "cell_type": "markdown",
   "id": "9ab7e0d1",
   "metadata": {},
   "source": [
    "These sorts of boolean operations will become extremely useful when we begin discussing *control flow statements* such as conditionals and loops."
   ]
  },
  {
   "cell_type": "markdown",
   "id": "c25a7d3b",
   "metadata": {},
   "source": [
    "### Identity and Membership Operators"
   ]
  },
  {
   "cell_type": "markdown",
   "id": "193c0c5e",
   "metadata": {},
   "source": [
    "Like `and`, `or`, and `not`, Python also contains prose-like operators to check for identity and membership. They are the following:\n",
    "\n",
    "`a is b`: True if `a` and `b` are identical objects\n",
    "\n",
    "`a is not b`: True if `a` and `b` are not identical objects\n",
    "\n",
    "`a in b`: True if `a` is a member of `b`\n",
    "\n",
    "`a not in b`: True if `a` is not a member of `b`"
   ]
  },
  {
   "cell_type": "markdown",
   "id": "3bfbc896",
   "metadata": {},
   "source": [
    "#### Identity Operators: \"`is`\" and \"`is not`\""
   ]
  },
  {
   "cell_type": "markdown",
   "id": "6fb62414",
   "metadata": {},
   "source": [
    "The identity operators \"`is`\" and \"`is not`\" check for *object identity*. Object identity is different than equality, as we can see here:"
   ]
  },
  {
   "cell_type": "code",
   "execution_count": 28,
   "id": "1b24716a",
   "metadata": {},
   "outputs": [
    {
     "name": "stdout",
     "output_type": "stream",
     "text": [
      "[1, 2, 3]\n"
     ]
    }
   ],
   "source": [
    "a = [1, 2, 3]\n",
    "b = [1, 2, 3]\n",
    "\n",
    "c = a\n",
    "print(c)"
   ]
  },
  {
   "cell_type": "code",
   "execution_count": 17,
   "id": "371721e0",
   "metadata": {},
   "outputs": [
    {
     "data": {
      "text/plain": [
       "True"
      ]
     },
     "execution_count": 17,
     "metadata": {},
     "output_type": "execute_result"
    }
   ],
   "source": [
    "c == a"
   ]
  },
  {
   "cell_type": "code",
   "execution_count": 26,
   "id": "31245f22",
   "metadata": {},
   "outputs": [
    {
     "data": {
      "text/plain": [
       "True"
      ]
     },
     "execution_count": 26,
     "metadata": {},
     "output_type": "execute_result"
    }
   ],
   "source": [
    "a == c"
   ]
  },
  {
   "cell_type": "code",
   "execution_count": 29,
   "id": "86a1b563",
   "metadata": {},
   "outputs": [
    {
     "data": {
      "text/plain": [
       "True"
      ]
     },
     "execution_count": 29,
     "metadata": {},
     "output_type": "execute_result"
    }
   ],
   "source": [
    "a is c"
   ]
  },
  {
   "cell_type": "code",
   "execution_count": 18,
   "id": "e0a131a5",
   "metadata": {},
   "outputs": [
    {
     "data": {
      "text/plain": [
       "True"
      ]
     },
     "execution_count": 18,
     "metadata": {},
     "output_type": "execute_result"
    }
   ],
   "source": [
    "c is a"
   ]
  },
  {
   "cell_type": "code",
   "execution_count": 19,
   "id": "acd9ffee",
   "metadata": {},
   "outputs": [
    {
     "data": {
      "text/plain": [
       "True"
      ]
     },
     "execution_count": 19,
     "metadata": {},
     "output_type": "execute_result"
    }
   ],
   "source": [
    "a == b"
   ]
  },
  {
   "cell_type": "code",
   "execution_count": 20,
   "id": "ebd0faf3",
   "metadata": {},
   "outputs": [
    {
     "data": {
      "text/plain": [
       "False"
      ]
     },
     "execution_count": 20,
     "metadata": {},
     "output_type": "execute_result"
    }
   ],
   "source": [
    "a is b"
   ]
  },
  {
   "cell_type": "code",
   "execution_count": 21,
   "id": "1588879b",
   "metadata": {},
   "outputs": [
    {
     "data": {
      "text/plain": [
       "True"
      ]
     },
     "execution_count": 21,
     "metadata": {},
     "output_type": "execute_result"
    }
   ],
   "source": [
    "a is not b"
   ]
  },
  {
   "cell_type": "markdown",
   "id": "c49e3f18",
   "metadata": {},
   "source": [
    "What do identical objects look like? Here is an example:"
   ]
  },
  {
   "cell_type": "code",
   "execution_count": 30,
   "id": "6a610e9f",
   "metadata": {},
   "outputs": [
    {
     "data": {
      "text/plain": [
       "True"
      ]
     },
     "execution_count": 30,
     "metadata": {},
     "output_type": "execute_result"
    }
   ],
   "source": [
    "a = [1, 2, 3]\n",
    "b = a\n",
    "a is b"
   ]
  },
  {
   "cell_type": "code",
   "execution_count": 31,
   "id": "96df68b8",
   "metadata": {},
   "outputs": [
    {
     "data": {
      "text/plain": [
       "True"
      ]
     },
     "execution_count": 31,
     "metadata": {},
     "output_type": "execute_result"
    }
   ],
   "source": [
    "b is a"
   ]
  },
  {
   "cell_type": "markdown",
   "id": "28ab78e7",
   "metadata": {},
   "source": [
    "The difference between the two cases here is that in the first, `a` and `b` point to *different objects*, while in the second, they point to the *same object*. As we saw in the previous section, Python variables are pointers. The \"`is`\" operator checks whether the two variables are pointing to the same container (object), rather than referring to what the container contains. With this in mind, in most cases a beginner is tempted to use \"`is`\", when what they really mean is `==`'."
   ]
  },
  {
   "cell_type": "markdown",
   "id": "e5d97eba",
   "metadata": {},
   "source": [
    "#### Membership Operators"
   ]
  },
  {
   "cell_type": "markdown",
   "id": "b69ab464",
   "metadata": {},
   "source": [
    "Membership operators check for membership within compound objects. So, for example, we can write:"
   ]
  },
  {
   "cell_type": "code",
   "execution_count": 23,
   "id": "41c93402",
   "metadata": {},
   "outputs": [
    {
     "data": {
      "text/plain": [
       "True"
      ]
     },
     "execution_count": 23,
     "metadata": {},
     "output_type": "execute_result"
    }
   ],
   "source": [
    "1 in [1, 2, 3]"
   ]
  },
  {
   "cell_type": "code",
   "execution_count": 24,
   "id": "94cb766f",
   "metadata": {},
   "outputs": [
    {
     "data": {
      "text/plain": [
       "False"
      ]
     },
     "execution_count": 24,
     "metadata": {},
     "output_type": "execute_result"
    }
   ],
   "source": [
    "2 not in [1, 2, 3]"
   ]
  },
  {
   "cell_type": "markdown",
   "id": "cb3ccb78",
   "metadata": {},
   "source": [
    "These membership operations are an example of what makes Python so easy to use compared to lower-level languages such as C. In C, membership would generally be determined by manually constructing a loop over the list and checking for equality of each value. In Python, you just type what you want to know, in a manner reminiscent of straightforward English prose."
   ]
  }
 ],
 "metadata": {
  "kernelspec": {
   "display_name": "Python 3 (ipykernel)",
   "language": "python",
   "name": "python3"
  },
  "language_info": {
   "codemirror_mode": {
    "name": "ipython",
    "version": 3
   },
   "file_extension": ".py",
   "mimetype": "text/x-python",
   "name": "python",
   "nbconvert_exporter": "python",
   "pygments_lexer": "ipython3",
   "version": "3.9.13"
  }
 },
 "nbformat": 4,
 "nbformat_minor": 5
}
