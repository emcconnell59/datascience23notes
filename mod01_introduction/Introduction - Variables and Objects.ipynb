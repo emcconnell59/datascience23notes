{
 "cells": [
  {
   "cell_type": "markdown",
   "id": "f88d1ac4",
   "metadata": {},
   "source": [
    "## Variables and Objects"
   ]
  },
  {
   "cell_type": "markdown",
   "id": "c894244a",
   "metadata": {},
   "source": [
    "This section will begin to cover the basic semantics of the Python language. As opposed to the *syntax* covered in the previous section, the *semantics* of a language involve the meaning of the statements. As with our discussion of syntax, here we'll preview a few of the essential semantic constructions in Python to give you a better frame of reference for understanding the code in the following sections."
   ]
  },
  {
   "cell_type": "markdown",
   "id": "a068a19f",
   "metadata": {},
   "source": [
    "This section will cover the semantics of *variables* and *objects*, which are the main ways you store, reference, and operate on data within a Python script."
   ]
  },
  {
   "cell_type": "markdown",
   "id": "f49f27c9",
   "metadata": {},
   "source": [
    "### Python Variables Are Pointers"
   ]
  },
  {
   "cell_type": "markdown",
   "id": "b68cce52",
   "metadata": {},
   "source": [
    "Assigning variables in Python is as easy as putting a variable name to the left of the equals (`=`) sign:"
   ]
  },
  {
   "cell_type": "code",
   "execution_count": 1,
   "id": "2525595c",
   "metadata": {},
   "outputs": [],
   "source": [
    "# assign 4 to the variable x\n",
    "x = 4"
   ]
  },
  {
   "cell_type": "markdown",
   "id": "569556ec",
   "metadata": {},
   "source": [
    "This may seem straightforward, but if you have the wrong mental model of what this operation does, the way Python works may seem confusing. We'll briefly dig into that here.\n",
    "\n",
    "In many programming languages, variables are best thought of as containers or buckets into which you put data. So in C, for example, when you write\n",
    "\n",
    "`// C code\n",
    "int x = 4;`\n",
    "\n",
    "you are essentially defining a \"memory bucket\" named `x`, and putting the value `4` into it. In Python, by contrast, variables are best thought of not as containers but as pointers. So in Python, when you write"
   ]
  },
  {
   "cell_type": "code",
   "execution_count": 2,
   "id": "ab7b1ef5",
   "metadata": {},
   "outputs": [],
   "source": [
    "x = 4"
   ]
  },
  {
   "cell_type": "markdown",
   "id": "447e19ad",
   "metadata": {},
   "source": [
    "you are essentially defining a *pointer* named `x` that points to some other bucket containing the value `4`. Note one consequence of this: because Python variables just point to various objects, there is no need to \"declare\" the variable, or even require the variable to always point to information of the same type. This is the sense in which people say Python is *dynamically-typed*: variable names can point to objects of any type. So in Python, you can do things like this:"
   ]
  },
  {
   "cell_type": "code",
   "execution_count": 3,
   "id": "d7ebd228",
   "metadata": {},
   "outputs": [],
   "source": [
    "x = 1 # x is an integer\n",
    "x = 'tech talent south' # now x is a string\n",
    "x = [1, 2, 3] # now x is a list"
   ]
  },
  {
   "cell_type": "markdown",
   "id": "ea27db21",
   "metadata": {},
   "source": [
    "There is a consequence of this \"variable as pointer\" approach that you need to be aware of. If we have two variables names pointing to the same *mutable* object, then changing one will change the other as well. For example, let's create and modify a list:"
   ]
  },
  {
   "cell_type": "code",
   "execution_count": 4,
   "id": "6daf2213",
   "metadata": {},
   "outputs": [],
   "source": [
    "x = [1, 5, 3]\n",
    "y = x"
   ]
  },
  {
   "cell_type": "markdown",
   "id": "4128fba0",
   "metadata": {},
   "source": [
    "We've created two variables `x` and `y`, which both point to the same object. Because of this, if we modify the list via one of its names, we'll see that the \"other\" list will be modified as well:"
   ]
  },
  {
   "cell_type": "code",
   "execution_count": 5,
   "id": "569279f0",
   "metadata": {},
   "outputs": [],
   "source": [
    "x.append(4) # append 4 to the list pointed to by x"
   ]
  },
  {
   "cell_type": "code",
   "execution_count": 6,
   "id": "8b667814",
   "metadata": {},
   "outputs": [
    {
     "name": "stdout",
     "output_type": "stream",
     "text": [
      "[1, 5, 3, 4]\n"
     ]
    }
   ],
   "source": [
    "print(y) # y's list is modified as well"
   ]
  },
  {
   "cell_type": "markdown",
   "id": "baa321e1",
   "metadata": {},
   "source": [
    "This behavior might seem confusing if you're wrongly thinking of variables as buckets that contain data. But if you're correctly thinking of variables as pointers to objects, then this behavior makes sense.\n",
    "\n",
    "Note also that if we use \"`=`\" to assign another value to `x`, this will not affect the value of `y` - assignment is simply a change of what object the variable points to:"
   ]
  },
  {
   "cell_type": "code",
   "execution_count": 7,
   "id": "c84e878f",
   "metadata": {},
   "outputs": [
    {
     "name": "stdout",
     "output_type": "stream",
     "text": [
      "[1, 5, 3, 4]\n",
      "something else\n"
     ]
    }
   ],
   "source": [
    "x = 'something else'\n",
    "print(y) # y is unchanged\n",
    "print(x)"
   ]
  },
  {
   "cell_type": "markdown",
   "id": "1583f931",
   "metadata": {},
   "source": [
    "Again, this makes perfect sense if you think of `x` and `y` as pointers, and the \"`=`\" operator as an operation that changes what the name points to.\n",
    "\n",
    "You might wonder whether this pointer idea makes arithmetic operations in Python difficult to track, but Python is set up so that this is not an issue. Numbers, strings, and other *simple types* are immutable: you can't change their value, you can only change what values the variables point to. So, for example, it's perfectly safe to do operations like the following:"
   ]
  },
  {
   "cell_type": "code",
   "execution_count": 24,
   "id": "2826251c",
   "metadata": {},
   "outputs": [
    {
     "name": "stdout",
     "output_type": "stream",
     "text": [
      "x = 15\n",
      "y = 10\n"
     ]
    }
   ],
   "source": [
    "x = 10\n",
    "y = x\n",
    "x += 5 # add 5 to x's value and assign it to x\n",
    "print(\"x =\", x)\n",
    "print(\"y =\", y)"
   ]
  },
  {
   "cell_type": "markdown",
   "id": "26e726f5",
   "metadata": {},
   "source": [
    "When we call `x += 5`, we are not modifying the value of the `10` object pointed to by `x`; rather, we are changing the variable `x` so that it points to a new integer object with the value `15`. For this reason, the value of `y` is not affected by the operation."
   ]
  },
  {
   "cell_type": "markdown",
   "id": "39a2953f",
   "metadata": {},
   "source": [
    "### Everything Is an Object"
   ]
  },
  {
   "cell_type": "markdown",
   "id": "9dd814d1",
   "metadata": {},
   "source": [
    "Python is an object-oriented programming language, and in Python, everything is an object.\n",
    "\n",
    "Let's flesh out what this means. Earlier, we saw that variables are simply pointers, and the variable names themselves have no attached type information. This leads some to claim erroneously that Python is a type-free language, but that is not the case. Consider the following:"
   ]
  },
  {
   "cell_type": "code",
   "execution_count": 9,
   "id": "3776c06e",
   "metadata": {},
   "outputs": [
    {
     "data": {
      "text/plain": [
       "int"
      ]
     },
     "execution_count": 9,
     "metadata": {},
     "output_type": "execute_result"
    }
   ],
   "source": [
    "x = 4\n",
    "type(x)"
   ]
  },
  {
   "cell_type": "code",
   "execution_count": 10,
   "id": "cec859f6",
   "metadata": {},
   "outputs": [
    {
     "data": {
      "text/plain": [
       "str"
      ]
     },
     "execution_count": 10,
     "metadata": {},
     "output_type": "execute_result"
    }
   ],
   "source": [
    "x = 'hello'\n",
    "type(x)"
   ]
  },
  {
   "cell_type": "code",
   "execution_count": 11,
   "id": "12dd6604",
   "metadata": {},
   "outputs": [
    {
     "data": {
      "text/plain": [
       "float"
      ]
     },
     "execution_count": 11,
     "metadata": {},
     "output_type": "execute_result"
    }
   ],
   "source": [
    "x = 3.14159\n",
    "type(x)"
   ]
  },
  {
   "cell_type": "markdown",
   "id": "a31b0959",
   "metadata": {},
   "source": [
    "Python has types; however, the types are linked not to the variable names but *to the objects themselves*.\n",
    "\n",
    "In object-oriented programming languages like Python, an *object* is an entity that contains data along with associated metadata and/or functionality. In Python, everything is an object, which means every entity has some metadata (called *attributes*) and associated functionality (called *methods*). These attributes and methods are accessed via the dot syntax.\n",
    "\n",
    "For example, before we saw that lists have an `append` method, which adds an item to the list, and is accessed via the dot (\"`.`\") syntax:"
   ]
  },
  {
   "cell_type": "code",
   "execution_count": 12,
   "id": "d95f6691",
   "metadata": {},
   "outputs": [
    {
     "name": "stdout",
     "output_type": "stream",
     "text": [
      "[1, 2, 3, 100]\n"
     ]
    }
   ],
   "source": [
    "G = [1, 2, 3]\n",
    "G.append(100)\n",
    "print(G)"
   ]
  },
  {
   "cell_type": "markdown",
   "id": "c21ad84a",
   "metadata": {},
   "source": [
    "While it might be expected for compound objects like lists to have attributes and methods, what is sometimes unexpected is that in Python, even simple types have attached attributes and methods. For example, numerical types have a `real` and `imag` attribute that returns the real and imaginary part of the value if viewed as a complex number:"
   ]
  },
  {
   "cell_type": "code",
   "execution_count": 13,
   "id": "b1c81ae4",
   "metadata": {},
   "outputs": [
    {
     "name": "stdout",
     "output_type": "stream",
     "text": [
      "4.5 + 0.0 i\n"
     ]
    }
   ],
   "source": [
    "x = 4.5\n",
    "print(x.real, \"+\", x.imag, 'i')"
   ]
  },
  {
   "cell_type": "markdown",
   "id": "f94804d8",
   "metadata": {},
   "source": [
    "Methods are like attributes, except they are functions that you can call using opening and closing parentheses. For example, strings have a method called `capitalize` that capitalizes the first letter in a string:"
   ]
  },
  {
   "cell_type": "code",
   "execution_count": 19,
   "id": "be99c489",
   "metadata": {},
   "outputs": [
    {
     "data": {
      "text/plain": [
       "'Hello'"
      ]
     },
     "execution_count": 19,
     "metadata": {},
     "output_type": "execute_result"
    }
   ],
   "source": [
    "x = 'hello'\n",
    "x.capitalize()"
   ]
  },
  {
   "cell_type": "markdown",
   "id": "0c3782bf",
   "metadata": {},
   "source": [
    "When we say that everything in Python is an object, we really mean that *everything* is an object - even the attributes and methods of objects are themselves objects with their own type information:"
   ]
  },
  {
   "cell_type": "code",
   "execution_count": 22,
   "id": "29a691e3",
   "metadata": {},
   "outputs": [
    {
     "data": {
      "text/plain": [
       "builtin_function_or_method"
      ]
     },
     "execution_count": 22,
     "metadata": {},
     "output_type": "execute_result"
    }
   ],
   "source": [
    "type(x.capitalize)"
   ]
  },
  {
   "cell_type": "markdown",
   "id": "be5a5d93",
   "metadata": {},
   "source": [
    "We'll find that the everything-is-object design choice of Python allows for some very convenient language constructs."
   ]
  }
 ],
 "metadata": {
  "kernelspec": {
   "display_name": "Python 3 (ipykernel)",
   "language": "python",
   "name": "python3"
  },
  "language_info": {
   "codemirror_mode": {
    "name": "ipython",
    "version": 3
   },
   "file_extension": ".py",
   "mimetype": "text/x-python",
   "name": "python",
   "nbconvert_exporter": "python",
   "pygments_lexer": "ipython3",
   "version": "3.9.13"
  }
 },
 "nbformat": 4,
 "nbformat_minor": 5
}
