{
 "cells": [
  {
   "cell_type": "markdown",
   "id": "e69892ec",
   "metadata": {},
   "source": [
    "## Assignment Preparation"
   ]
  },
  {
   "cell_type": "markdown",
   "id": "02abf54e",
   "metadata": {},
   "source": [
    "### `input()`"
   ]
  },
  {
   "cell_type": "markdown",
   "id": "98e6162b",
   "metadata": {},
   "source": [
    "The `input()` function allows user input.\n",
    "\n",
    "Syntax: `input(prompt)`\n",
    "\n",
    "Parameter values: `prompt` - a string, representing a default message before the input\n",
    "\n",
    "Example:"
   ]
  },
  {
   "cell_type": "code",
   "execution_count": 19,
   "id": "f077e96d",
   "metadata": {},
   "outputs": [
    {
     "name": "stdout",
     "output_type": "stream",
     "text": [
      "What is your favorite number? 59\n"
     ]
    },
    {
     "data": {
      "text/plain": [
       "int"
      ]
     },
     "execution_count": 19,
     "metadata": {},
     "output_type": "execute_result"
    }
   ],
   "source": [
    "x = int(input('What is your favorite number? '))\n",
    "type(x)\n",
    "#print('Hello, ' + x)"
   ]
  },
  {
   "cell_type": "code",
   "execution_count": 20,
   "id": "eaa9bcc4",
   "metadata": {},
   "outputs": [
    {
     "name": "stdout",
     "output_type": "stream",
     "text": [
      "Enter your name: Erin\n",
      "Hello, Erin\n"
     ]
    }
   ],
   "source": [
    "x = input(\"Enter your name: \")\n",
    "print(\"Hello, \" + x)"
   ]
  },
  {
   "cell_type": "markdown",
   "id": "1b2e9c01",
   "metadata": {},
   "source": [
    "### `int()`"
   ]
  },
  {
   "cell_type": "markdown",
   "id": "bb0c6e94",
   "metadata": {},
   "source": [
    "The `int()` function converts the specified value into an integer number.\n",
    "\n",
    "Syntax: `int(value, base)`\n",
    "\n",
    "Parameter values:\n",
    "\n",
    "1. `value` - a number or a string that can be converted into an integer number\n",
    "2. `base` - a number representing the number format. Default value: 10\n",
    "\n",
    "Example:"
   ]
  },
  {
   "cell_type": "code",
   "execution_count": 14,
   "id": "9404cc34",
   "metadata": {},
   "outputs": [
    {
     "name": "stdout",
     "output_type": "stream",
     "text": [
      "12\n"
     ]
    },
    {
     "data": {
      "text/plain": [
       "int"
      ]
     },
     "execution_count": 14,
     "metadata": {},
     "output_type": "execute_result"
    }
   ],
   "source": [
    "x = int(\"12\")\n",
    "print(x)\n",
    "type(x)"
   ]
  }
 ],
 "metadata": {
  "kernelspec": {
   "display_name": "Python 3 (ipykernel)",
   "language": "python",
   "name": "python3"
  },
  "language_info": {
   "codemirror_mode": {
    "name": "ipython",
    "version": 3
   },
   "file_extension": ".py",
   "mimetype": "text/x-python",
   "name": "python",
   "nbconvert_exporter": "python",
   "pygments_lexer": "ipython3",
   "version": "3.9.13"
  }
 },
 "nbformat": 4,
 "nbformat_minor": 5
}
