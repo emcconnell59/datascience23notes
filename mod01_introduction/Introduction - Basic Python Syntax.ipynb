{
 "cells": [
  {
   "cell_type": "markdown",
   "id": "2eaa7a0b",
   "metadata": {},
   "source": [
    "## Basic Python Syntax"
   ]
  },
  {
   "cell_type": "markdown",
   "id": "9c2cb506",
   "metadata": {},
   "source": [
    "Python was originally developed as a teaching language, but its ease of use and clean syntax have led it to be embraced by beginners and experts alike. Here we'll begin to discuss the main features of Python's syntax."
   ]
  },
  {
   "cell_type": "markdown",
   "id": "64fee04b",
   "metadata": {},
   "source": [
    "Syntax refers to the structure of the language (i.e., what constitutes a correctly-formed program). For the time being, we'll not focus on the semantics - the meaning of the words and symbols within the syntax - but will return to this at a later point."
   ]
  },
  {
   "cell_type": "markdown",
   "id": "8fd456e2",
   "metadata": {},
   "source": [
    "Consider the following code example:"
   ]
  },
  {
   "cell_type": "code",
   "execution_count": 1,
   "id": "c5f51808",
   "metadata": {},
   "outputs": [
    {
     "name": "stdout",
     "output_type": "stream",
     "text": [
      "lower: [0, 1, 2, 3, 4]\n",
      "upper: [5, 6, 7, 8, 9]\n"
     ]
    }
   ],
   "source": [
    "# set the midpoint\n",
    "# don't forget what midpoint means\n",
    "midpoint = 5\n",
    "\n",
    "# make two empty lists\n",
    "lower = []; upper = []\n",
    "\n",
    "# split the numbers into lower and upper\n",
    "for i in range(10):\n",
    "    if (i < midpoint):\n",
    "        lower.append(i)\n",
    "    else:\n",
    "        upper.append(i)\n",
    "        \n",
    "print(\"lower:\", lower)\n",
    "print(\"upper:\", upper)"
   ]
  },
  {
   "cell_type": "markdown",
   "id": "6f79a0f2",
   "metadata": {},
   "source": [
    "This script is a bit silly, but it compactly illustrates several of the important aspects of Python syntax. Let's walk through it and discuss some of the syntactical features of Python."
   ]
  },
  {
   "cell_type": "markdown",
   "id": "012d45b4",
   "metadata": {},
   "source": [
    "### Comments are Marked by ```#```"
   ]
  },
  {
   "cell_type": "markdown",
   "id": "4139c6ca",
   "metadata": {},
   "source": [
    "The script starts with a comment:"
   ]
  },
  {
   "cell_type": "code",
   "execution_count": 4,
   "id": "b490774d",
   "metadata": {},
   "outputs": [],
   "source": [
    "# set the midpoint"
   ]
  },
  {
   "cell_type": "markdown",
   "id": "cea28cd7",
   "metadata": {},
   "source": [
    "Comments in Python are indicated by a pound sign (```#```), and anything on the line following the pound sign is ignored by the interpreter. This means, for example, that you can have standalone comments like the one just shown, as well as inline comments that follow a statement. For example:"
   ]
  },
  {
   "cell_type": "code",
   "execution_count": null,
   "id": "c9ec1025",
   "metadata": {},
   "outputs": [],
   "source": [
    "x += 2 # shorthand for x = x + 2"
   ]
  },
  {
   "cell_type": "markdown",
   "id": "d4a6e6e1",
   "metadata": {},
   "source": [
    "### End-of-Line Terminates a Statement"
   ]
  },
  {
   "cell_type": "markdown",
   "id": "c749861a",
   "metadata": {},
   "source": [
    "The next line in the script is"
   ]
  },
  {
   "cell_type": "code",
   "execution_count": 5,
   "id": "bec3efca",
   "metadata": {},
   "outputs": [],
   "source": [
    "midpoint = 5"
   ]
  },
  {
   "cell_type": "markdown",
   "id": "4b9000bf",
   "metadata": {},
   "source": [
    "This is an assignment operation, where we've created a variable named ```midpoint``` and assigned it the value `5`. Notice that the end of this statement is simply marked by the end of the line. This is in contrast to languages like C and C++ where every statement must end with a semicolon (`;`)."
   ]
  },
  {
   "cell_type": "markdown",
   "id": "18878b5a",
   "metadata": {},
   "source": [
    "In Python, if you'd like a statement to continue to the next line, it is possible to use the \"`\\`\" marker to indicate this:"
   ]
  },
  {
   "cell_type": "code",
   "execution_count": 23,
   "id": "34de60b0",
   "metadata": {},
   "outputs": [],
   "source": [
    "x = 1 + 2 + 3 + 4 +\\\n",
    "    5 + 6 + 7 + 8"
   ]
  },
  {
   "cell_type": "markdown",
   "id": "b318a1c8",
   "metadata": {},
   "source": [
    "It is also possible to continue expressions on the next line within parentheses, without using the \"`\\`\" marker:"
   ]
  },
  {
   "cell_type": "code",
   "execution_count": 7,
   "id": "96771851",
   "metadata": {},
   "outputs": [],
   "source": [
    "x = (1 + 2 + 3 + 4 +\n",
    "    5 + 6 + 7 + 8)"
   ]
  },
  {
   "cell_type": "markdown",
   "id": "59262222",
   "metadata": {},
   "source": [
    "Most Python style guides recommend the second version of line continuation (within parentheses) to the first (use of the \"`\\`\" marker)."
   ]
  },
  {
   "cell_type": "markdown",
   "id": "bfc33742",
   "metadata": {},
   "source": [
    "### Semicolon Can Optionally Terminate a Statement"
   ]
  },
  {
   "cell_type": "markdown",
   "id": "d5f18177",
   "metadata": {},
   "source": [
    "Sometimes it can be useful to put multiple statements on a single line. The next portion of the script is"
   ]
  },
  {
   "cell_type": "code",
   "execution_count": 8,
   "id": "a7a4bb18",
   "metadata": {},
   "outputs": [],
   "source": [
    "lower = []; upper = []"
   ]
  },
  {
   "cell_type": "markdown",
   "id": "251ef625",
   "metadata": {},
   "source": [
    "This shows the example of how the semicolon (`;`) can be used optionally in Python to put two statements on a single line. Functionally, this is equivalent to writing:"
   ]
  },
  {
   "cell_type": "code",
   "execution_count": 10,
   "id": "00cf3c09",
   "metadata": {},
   "outputs": [],
   "source": [
    "lower = []\n",
    "upper = []"
   ]
  },
  {
   "cell_type": "markdown",
   "id": "e31faef3",
   "metadata": {},
   "source": [
    "Using a semicolon to put multiple statements on a single line is generally discouraged by most Python style guides, though occasionally it proves convenient."
   ]
  },
  {
   "cell_type": "markdown",
   "id": "5dba2744",
   "metadata": {},
   "source": [
    "### Indentation: Whitespace Matters!"
   ]
  },
  {
   "cell_type": "markdown",
   "id": "a4f4b602",
   "metadata": {},
   "source": [
    "Next, we get to the main block of code:"
   ]
  },
  {
   "cell_type": "code",
   "execution_count": 11,
   "id": "10464329",
   "metadata": {},
   "outputs": [],
   "source": [
    "for i in range(10):\n",
    "    if i < midpoint:\n",
    "        lower.append(i)\n",
    "    else:\n",
    "        upper.append(i)"
   ]
  },
  {
   "cell_type": "markdown",
   "id": "b33cb98d",
   "metadata": {},
   "source": [
    "This is a compound control-flow statement including a loop and a conditional - we'll look at these types of statements soon. For now, consider that this demonstrates what is perhapes the most controversial feature of Python's syntax: whitespace is meaningful!"
   ]
  },
  {
   "cell_type": "markdown",
   "id": "18462053",
   "metadata": {},
   "source": [
    "In programming languages, a *block* of code is a set of statements that should be treated as a unit. In Python, indented code blocks are always preceded by a colon (`:`) on the previous line."
   ]
  },
  {
   "cell_type": "markdown",
   "id": "97fd0cfb",
   "metadata": {},
   "source": [
    "The use of indentation helps to enforce the uniform, readable style that many find appealing in Python code; however, it might be confusing to the uninitiated. For example, the following two snippets will produce different results:"
   ]
  },
  {
   "cell_type": "code",
   "execution_count": 12,
   "id": "7eba20c0",
   "metadata": {},
   "outputs": [],
   "source": [
    "if x < 4:\n",
    "    y = x * 2\n",
    "    print(x)"
   ]
  },
  {
   "cell_type": "code",
   "execution_count": null,
   "id": "e778da82",
   "metadata": {},
   "outputs": [],
   "source": [
    "if x < 4:\n",
    "    y = x * 2\n",
    "print(x)"
   ]
  },
  {
   "cell_type": "markdown",
   "id": "acd655e7",
   "metadata": {},
   "source": [
    "In the first snippet, `print(x)` is in the indented block, and will be executed only if `x` is less than `4`. In the second snippet, `print(x)` is outside the block, and will be executed regardless of the value of `x`."
   ]
  },
  {
   "cell_type": "markdown",
   "id": "e7e4fe6f",
   "metadata": {},
   "source": [
    "Python's use of meaningful whitespace is often surprising to programmers who are accustomed to other languages, but in practice, it can lead to much more consistent and readable code than languages that do not enforce indentation of code blocks."
   ]
  },
  {
   "cell_type": "markdown",
   "id": "5e0461f2",
   "metadata": {},
   "source": [
    "Finally, you should be aware that the *amount* of whitespace used for indenting code blocks is up to the coder, as long as it is consistent throughout the script. By convention, most style guides recommend to indent code blocks by four spaces, and that is the convention we will follow. Note that many text editors do four-space indentation automatically."
   ]
  },
  {
   "cell_type": "markdown",
   "id": "9067c39d",
   "metadata": {},
   "source": [
    "### Whitespace *Within* Lines Does Not Matter"
   ]
  },
  {
   "cell_type": "markdown",
   "id": "f8a69ff7",
   "metadata": {},
   "source": [
    "While the mantra of *meaningful whitespace* holds true for whitespace *before* lines (which indicate a code block), whitespace *within* lines of Python code does not matter. For example, all three of these expressions are equivalent:"
   ]
  },
  {
   "cell_type": "code",
   "execution_count": 14,
   "id": "e0520e0e",
   "metadata": {},
   "outputs": [],
   "source": [
    "x=1+2\n",
    "x = 1 + 2\n",
    "x             =        1    +                2"
   ]
  },
  {
   "cell_type": "markdown",
   "id": "e7cbc756",
   "metadata": {},
   "source": [
    "Abusing this flexibility can lead to issues with code readability. Using whitespace effectively can lead to much more readable code, especially in cases where operators follow each other - compare the following two expressions for exponentiating by a negative number:"
   ]
  },
  {
   "cell_type": "code",
   "execution_count": 15,
   "id": "b52fb434",
   "metadata": {},
   "outputs": [],
   "source": [
    "x=10**-2"
   ]
  },
  {
   "cell_type": "markdown",
   "id": "b48e4384",
   "metadata": {},
   "source": [
    "to"
   ]
  },
  {
   "cell_type": "code",
   "execution_count": 16,
   "id": "b510628a",
   "metadata": {},
   "outputs": [],
   "source": [
    "x = 10 ** -2"
   ]
  },
  {
   "cell_type": "markdown",
   "id": "fa70c58f",
   "metadata": {},
   "source": [
    "The second version with spaces is much more easily readable at a single glance."
   ]
  },
  {
   "cell_type": "markdown",
   "id": "96842e7a",
   "metadata": {},
   "source": [
    "### Parentheses Are for Grouping or Calling"
   ]
  },
  {
   "cell_type": "markdown",
   "id": "5c2e2a36",
   "metadata": {},
   "source": [
    "There are two uses of parentheses. First, they can be used in the typical way to group statements or mathematical operations:"
   ]
  },
  {
   "cell_type": "code",
   "execution_count": 24,
   "id": "3c5680cc",
   "metadata": {},
   "outputs": [
    {
     "data": {
      "text/plain": [
       "14"
      ]
     },
     "execution_count": 24,
     "metadata": {},
     "output_type": "execute_result"
    }
   ],
   "source": [
    "2 * (3 + 4)"
   ]
  },
  {
   "cell_type": "code",
   "execution_count": 25,
   "id": "fa149fca",
   "metadata": {},
   "outputs": [
    {
     "data": {
      "text/plain": [
       "10"
      ]
     },
     "execution_count": 25,
     "metadata": {},
     "output_type": "execute_result"
    }
   ],
   "source": [
    "2 * 3 + 4"
   ]
  },
  {
   "cell_type": "markdown",
   "id": "99d2f3e8",
   "metadata": {},
   "source": [
    "They can also be used to indicate that a *function* is being called. In the next snippet, the `print()` function is used to display the contents of a variable. The function call is indicated by a pair of opening and closing parentheses, with the *arguments* to the function contained within:"
   ]
  },
  {
   "cell_type": "code",
   "execution_count": 27,
   "id": "6c2b64cb",
   "metadata": {},
   "outputs": [
    {
     "name": "stdout",
     "output_type": "stream",
     "text": [
      "first value: 1\n"
     ]
    }
   ],
   "source": [
    "print('first value:', 1)"
   ]
  },
  {
   "cell_type": "code",
   "execution_count": 19,
   "id": "cceaf72d",
   "metadata": {},
   "outputs": [
    {
     "name": "stdout",
     "output_type": "stream",
     "text": [
      "second value: 2\n"
     ]
    }
   ],
   "source": [
    "print('second value:', 2)"
   ]
  },
  {
   "cell_type": "markdown",
   "id": "5a1e1b8d",
   "metadata": {},
   "source": [
    "Some functions can be called with no arguments at all, in which case the opening and closing parentheses still must be used to indicate a function evaluation. An example of this is the `sort` method of lists:"
   ]
  },
  {
   "cell_type": "code",
   "execution_count": 20,
   "id": "9845845b",
   "metadata": {},
   "outputs": [],
   "source": [
    "bob = [7,10,3,1]\n",
    "bob.sort()"
   ]
  },
  {
   "cell_type": "code",
   "execution_count": 21,
   "id": "38d2009a",
   "metadata": {},
   "outputs": [
    {
     "name": "stdout",
     "output_type": "stream",
     "text": [
      "[1, 3, 7, 10]\n"
     ]
    }
   ],
   "source": [
    "print(bob)"
   ]
  },
  {
   "cell_type": "markdown",
   "id": "421c34f9",
   "metadata": {},
   "source": [
    "The \"`()`\" after `sort` indicates that the function should be executed, and is required even if no arguments are necessary."
   ]
  }
 ],
 "metadata": {
  "kernelspec": {
   "display_name": "Python 3 (ipykernel)",
   "language": "python",
   "name": "python3"
  },
  "language_info": {
   "codemirror_mode": {
    "name": "ipython",
    "version": 3
   },
   "file_extension": ".py",
   "mimetype": "text/x-python",
   "name": "python",
   "nbconvert_exporter": "python",
   "pygments_lexer": "ipython3",
   "version": "3.9.13"
  }
 },
 "nbformat": 4,
 "nbformat_minor": 5
}
