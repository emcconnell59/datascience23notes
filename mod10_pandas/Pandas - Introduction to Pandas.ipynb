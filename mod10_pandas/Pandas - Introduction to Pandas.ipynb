{
 "cells": [
  {
   "cell_type": "markdown",
   "id": "3318ee2b",
   "metadata": {},
   "source": [
    "## Data Manipulation with Pandas"
   ]
  },
  {
   "cell_type": "markdown",
   "id": "3d59bb1c",
   "metadata": {},
   "source": [
    "In the previous module, we dove into detail on NumPy and its `ndarray` object, which provides efficient storage and manipulation of dense typed arrays in Python. Here, we'll build on this knowledge by looking in detail at the data structures provided by the Pandas library. Pandas is a newer package built on top of NumPy and provides an efficient implementation of a `DataFrame`. `DataFrame`s are essentially multidimensional arrays with attached row and column labels, and often with heterogeneous types and/or missing data. As well as offering a convenient storage interface for labeled data, Pandas implements a number of powerful data operations familiar to users of both database frameworks and spreadsheet programs.\n",
    "\n",
    "As we saw, NumPy's `ndarray` data structure provides essential features for the type of clean, well-organized data typically seen in numerical computing tasks. While it serves this purpose very well, its limitations become clear when we need more flexibility (e.g., attaching labels to data, working with missing data, etc.) and when attempting operations that do not map well to element-wise broadcasting (e.g., grouping, pivots, etc.), each of which is an important piece of analyzing the less structured data available in many forms in the world around us. Pandas, and in particular its `Series` and `DataFrame` objects, builds on the NumPy array structure and provides efficient access to these sorts of \"data munging\" tasks that occupy much of a data scientist's time.\n",
    "\n",
    "In this module, we'll focus on the mechanics of using `Series`, `DataFrame`, and related structures effectively. "
   ]
  },
  {
   "cell_type": "markdown",
   "id": "f91270fe",
   "metadata": {},
   "source": [
    "### Using Pandas"
   ]
  },
  {
   "cell_type": "markdown",
   "id": "81a2c752",
   "metadata": {},
   "source": [
    "We can import Pandas as we have imported other modules in Python:"
   ]
  },
  {
   "cell_type": "code",
   "execution_count": 1,
   "id": "e196d13d",
   "metadata": {},
   "outputs": [],
   "source": [
    "import pandas"
   ]
  },
  {
   "cell_type": "markdown",
   "id": "de594f4a",
   "metadata": {},
   "source": [
    "Just as we generally import NumPy under the alias `np`, we will import Pandas under the alias `pd`:"
   ]
  },
  {
   "cell_type": "code",
   "execution_count": 2,
   "id": "f9dba090",
   "metadata": {},
   "outputs": [],
   "source": [
    "import pandas as pd"
   ]
  },
  {
   "cell_type": "markdown",
   "id": "16e01b90",
   "metadata": {},
   "source": [
    "This is the way we will import and use Pandas."
   ]
  }
 ],
 "metadata": {
  "kernelspec": {
   "display_name": "Python 3 (ipykernel)",
   "language": "python",
   "name": "python3"
  },
  "language_info": {
   "codemirror_mode": {
    "name": "ipython",
    "version": 3
   },
   "file_extension": ".py",
   "mimetype": "text/x-python",
   "name": "python",
   "nbconvert_exporter": "python",
   "pygments_lexer": "ipython3",
   "version": "3.9.13"
  }
 },
 "nbformat": 4,
 "nbformat_minor": 5
}
