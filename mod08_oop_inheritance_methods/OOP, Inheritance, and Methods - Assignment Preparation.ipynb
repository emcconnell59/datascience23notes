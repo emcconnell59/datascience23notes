{
 "cells": [
  {
   "cell_type": "markdown",
   "id": "d8cfa6c3",
   "metadata": {},
   "source": [
    "## Assignment Preparation"
   ]
  },
  {
   "cell_type": "code",
   "execution_count": 4,
   "id": "fe987ad8",
   "metadata": {},
   "outputs": [],
   "source": [
    "class Person:\n",
    "    firstname = \"\"\n",
    "    lastname = \"\"\n",
    "    \n",
    "    def __init__(self, firstname, lastname):\n",
    "        self.firstname = firstname\n",
    "        self.lastname = lastname\n",
    "        \n",
    "class Student(Person):\n",
    "    # add properties here"
   ]
  }
 ],
 "metadata": {
  "kernelspec": {
   "display_name": "Python 3 (ipykernel)",
   "language": "python",
   "name": "python3"
  },
  "language_info": {
   "codemirror_mode": {
    "name": "ipython",
    "version": 3
   },
   "file_extension": ".py",
   "mimetype": "text/x-python",
   "name": "python",
   "nbconvert_exporter": "python",
   "pygments_lexer": "ipython3",
   "version": "3.9.13"
  }
 },
 "nbformat": 4,
 "nbformat_minor": 5
}
