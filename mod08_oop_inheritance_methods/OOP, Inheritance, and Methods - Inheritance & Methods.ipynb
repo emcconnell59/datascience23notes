{
 "cells": [
  {
   "cell_type": "markdown",
   "id": "aec0843e",
   "metadata": {},
   "source": [
    "## Inheritance"
   ]
  },
  {
   "cell_type": "markdown",
   "id": "f6bfe8f9",
   "metadata": {},
   "source": [
    "Inheritance allows us to reuse the code of an existing class `B` in creating a new class `C`. Let's recap how the attribute lookup works for classes. When looking for an attribute, the lookup procedure starts with the instance dictionary and continues with the class attributes. If both fail, then the attribute is searched from the base classes and, recursively, from their base classes.\n",
    "\n",
    "So, it may look like we access an attribute of a class `C`, when in reality, we are accessing the attribute of its base class `B`. In this case, we say that the class `C` *inherits* the attribute from its base class `B`. If we have attributes with the same name in both the class and its base class, the attribute of the base class is hidden. We say that the class `C` overrides the attribute of the base class `B`. \n",
    "\n",
    "`B` is a base class and `C` is a derived class.\n",
    "\n",
    "Example:"
   ]
  },
  {
   "cell_type": "code",
   "execution_count": 1,
   "id": "7fdbeee5",
   "metadata": {},
   "outputs": [],
   "source": [
    "class B(object):\n",
    "    def f(self):\n",
    "        print(\"Executing B.f\")\n",
    "    def g(self):\n",
    "        print(\"Executing B.g\")\n",
    "        \n",
    "class C(B):\n",
    "    def g(self):\n",
    "        print(\"Executing C.g\")"
   ]
  },
  {
   "cell_type": "markdown",
   "id": "f904584c",
   "metadata": {},
   "source": [
    "A derived class is sometimes called a *subclass* and the base class is called a *super class*. The inheritance relation of two classes `B` and `C` can be tested with the function `issubclass`:"
   ]
  },
  {
   "cell_type": "code",
   "execution_count": 2,
   "id": "bc88b2ec",
   "metadata": {},
   "outputs": [
    {
     "data": {
      "text/plain": [
       "True"
      ]
     },
     "execution_count": 2,
     "metadata": {},
     "output_type": "execute_result"
    }
   ],
   "source": [
    "issubclass(C, B) == True"
   ]
  },
  {
   "cell_type": "code",
   "execution_count": 3,
   "id": "11a5c4af",
   "metadata": {},
   "outputs": [
    {
     "data": {
      "text/plain": [
       "True"
      ]
     },
     "execution_count": 3,
     "metadata": {},
     "output_type": "execute_result"
    }
   ],
   "source": [
    "issubclass(B, C) == False"
   ]
  },
  {
   "cell_type": "markdown",
   "id": "d798d2da",
   "metadata": {},
   "source": [
    "The function `isinstance(obj, cls)` allows us to test whether an instance has type `cls` or has an ancestor class of type `cls`. \n",
    "\n",
    "Let's create instances:"
   ]
  },
  {
   "cell_type": "code",
   "execution_count": 4,
   "id": "194a3d2f",
   "metadata": {},
   "outputs": [],
   "source": [
    "x = C()\n",
    "y = B()"
   ]
  },
  {
   "cell_type": "markdown",
   "id": "6013cc0b",
   "metadata": {},
   "source": [
    "Now we have:"
   ]
  },
  {
   "cell_type": "code",
   "execution_count": 5,
   "id": "a05300f2",
   "metadata": {},
   "outputs": [
    {
     "data": {
      "text/plain": [
       "True"
      ]
     },
     "execution_count": 5,
     "metadata": {},
     "output_type": "execute_result"
    }
   ],
   "source": [
    "isinstance(x, B) == isinstance(x, C) == isinstance(y, B) == True"
   ]
  },
  {
   "cell_type": "markdown",
   "id": "2c8c8376",
   "metadata": {},
   "source": [
    "But:"
   ]
  },
  {
   "cell_type": "code",
   "execution_count": 6,
   "id": "549567d4",
   "metadata": {},
   "outputs": [
    {
     "data": {
      "text/plain": [
       "True"
      ]
     },
     "execution_count": 6,
     "metadata": {},
     "output_type": "execute_result"
    }
   ],
   "source": [
    "isinstance(y, C) == False"
   ]
  },
  {
   "cell_type": "code",
   "execution_count": 7,
   "id": "61b5caea",
   "metadata": {},
   "outputs": [
    {
     "name": "stdout",
     "output_type": "stream",
     "text": [
      "Executing B.g\n"
     ]
    }
   ],
   "source": [
    "y.g()"
   ]
  },
  {
   "cell_type": "code",
   "execution_count": 8,
   "id": "4f65403c",
   "metadata": {},
   "outputs": [
    {
     "name": "stdout",
     "output_type": "stream",
     "text": [
      "Executing B.f\n",
      "Executing C.g\n"
     ]
    }
   ],
   "source": [
    "x.f() # inherited from B\n",
    "x.g() # overridden by C"
   ]
  },
  {
   "cell_type": "markdown",
   "id": "f578aa79",
   "metadata": {},
   "source": [
    "By deriving from an existing class, we can modify and/or extend its behavior without touching the original class. For example, if we want to add one method to a `list` class, we can use inheritance. Therefore, we only have to code the part that has changed and reuse the rest of the code of type `list`. "
   ]
  },
  {
   "cell_type": "markdown",
   "id": "c34c9f2d",
   "metadata": {},
   "source": [
    "### Example"
   ]
  },
  {
   "cell_type": "markdown",
   "id": "ca521e37",
   "metadata": {},
   "source": [
    "Create a class named `Person`, with `firstname` and `lastname` properties and a `printname` method:"
   ]
  },
  {
   "cell_type": "code",
   "execution_count": 9,
   "id": "57142d90",
   "metadata": {},
   "outputs": [
    {
     "name": "stdout",
     "output_type": "stream",
     "text": [
      "John Doe\n"
     ]
    }
   ],
   "source": [
    "class Person:\n",
    "    def __init__(self, fname, lname):\n",
    "        self.firstname = fname\n",
    "        self.lastname = lname\n",
    "        \n",
    "    def printname(self):\n",
    "        print(self.firstname, self.lastname)\n",
    "        \n",
    "# use the Person class to create an object and then execute the printname method:\n",
    "\n",
    "x = Person(\"John\", \"Doe\")\n",
    "x.printname()"
   ]
  },
  {
   "cell_type": "markdown",
   "id": "20431dd4",
   "metadata": {},
   "source": [
    "To create a class that inherits the functionality from another class, send the parent class as a parameter when creating the child class.\n",
    "\n",
    "Create a class named `Student`, which will inherit the properties and methods from the `Person` class:"
   ]
  },
  {
   "cell_type": "code",
   "execution_count": 10,
   "id": "da52d10c",
   "metadata": {},
   "outputs": [],
   "source": [
    "class Student(Person):\n",
    "    pass # use the pass keyword when you do not want to add any other properties or methods to the class"
   ]
  },
  {
   "cell_type": "markdown",
   "id": "10a9e3ab",
   "metadata": {},
   "source": [
    "Now the `Student` class has the same properties and methods as the `Person` class.\n",
    "\n",
    "Use the `Student` class to create an object, and then execute the `printname` method:"
   ]
  },
  {
   "cell_type": "code",
   "execution_count": 11,
   "id": "f7c5f580",
   "metadata": {},
   "outputs": [
    {
     "name": "stdout",
     "output_type": "stream",
     "text": [
      "Erin McConnell\n"
     ]
    }
   ],
   "source": [
    "x = Student(\"Erin\", \"McConnell\")\n",
    "x.printname()"
   ]
  },
  {
   "cell_type": "markdown",
   "id": "69695c91",
   "metadata": {},
   "source": [
    "So far we have created a child class that inherits the properties and methods from its parent.\n",
    "\n",
    "We want to add the `__init__()` function to the child class (instead of the `pass` keyword). The `__init__()` function is called automatically every time the class is being used to create a new object.\n",
    "\n",
    "Add the `__init__()` function to the `Student` class:"
   ]
  },
  {
   "cell_type": "code",
   "execution_count": null,
   "id": "8da06a57",
   "metadata": {},
   "outputs": [],
   "source": [
    "class Student(Person):\n",
    "    def __init__(self, fname, lname):\n",
    "        # add properties, etc."
   ]
  },
  {
   "cell_type": "markdown",
   "id": "3d6448d5",
   "metadata": {},
   "source": [
    "When you add the `__init__()` function, the child class will no longer inherit the parent's `__init__()` function, or the child's `__init__()` function *overrides* the inheritance of the parent's `__init__()` function.\n",
    "\n",
    "To keep the inheritance of the parent's `__init__()` function, add a call to the parent's `__init__()` function:"
   ]
  },
  {
   "cell_type": "code",
   "execution_count": 19,
   "id": "427501fd",
   "metadata": {},
   "outputs": [],
   "source": [
    "class Student(Person):\n",
    "    def __init__(self, fname, lname):\n",
    "        Person.__init__(self, fname, lname)"
   ]
  },
  {
   "cell_type": "markdown",
   "id": "66840933",
   "metadata": {},
   "source": [
    "Python also has a `super()` function that will make the child class inherit all the methods and properties from its parent:"
   ]
  },
  {
   "cell_type": "code",
   "execution_count": 20,
   "id": "48b60de9",
   "metadata": {},
   "outputs": [],
   "source": [
    "class Student(Person):\n",
    "    def __init__(self, fname, lname):\n",
    "        super().__init__(fname, lname)"
   ]
  },
  {
   "cell_type": "markdown",
   "id": "0128d599",
   "metadata": {},
   "source": [
    "By using the `super()` function, you do not have to use the name of the parent element, it will automatically inherit the methods and properties from its parent.\n",
    "\n",
    "Add a property called `graduationyear` to the `Student` class:"
   ]
  },
  {
   "cell_type": "code",
   "execution_count": 21,
   "id": "a773a219",
   "metadata": {},
   "outputs": [],
   "source": [
    "class Student(Person):\n",
    "    def __init__(self, fname, lname):\n",
    "        self.firstname = fname\n",
    "        self.lastname = lname\n",
    "        self.graduationyear = 2019"
   ]
  },
  {
   "cell_type": "code",
   "execution_count": 22,
   "id": "6fbb5326",
   "metadata": {},
   "outputs": [
    {
     "data": {
      "text/plain": [
       "2019"
      ]
     },
     "execution_count": 22,
     "metadata": {},
     "output_type": "execute_result"
    }
   ],
   "source": [
    "x = Student(\"Harry\", \"Styles\")\n",
    "x.graduationyear"
   ]
  },
  {
   "cell_type": "markdown",
   "id": "e6f8ae4d",
   "metadata": {},
   "source": [
    "The year `2019` should be a variable and passed into the `Student` class when creating student objects. To do so, add another parameter in the `__init__()` function.\n",
    "\n",
    "Add a `year` parameter and pass the correct year when creating objects:"
   ]
  },
  {
   "cell_type": "code",
   "execution_count": 25,
   "id": "9f0ea763",
   "metadata": {},
   "outputs": [
    {
     "data": {
      "text/plain": [
       "2022"
      ]
     },
     "execution_count": 25,
     "metadata": {},
     "output_type": "execute_result"
    }
   ],
   "source": [
    "class Student(Person):\n",
    "    def __init__(self, fname, lname, year):\n",
    "        self.firstname = fname\n",
    "        self.lastname = lname\n",
    "        self.graduationyear = year\n",
    "        \n",
    "x = Student(\"Erin\", \"McConnell\", 2022)\n",
    "x.graduationyear"
   ]
  },
  {
   "cell_type": "markdown",
   "id": "089478bd",
   "metadata": {},
   "source": [
    "Add a method called `welcome` to the `Student` class:"
   ]
  },
  {
   "cell_type": "code",
   "execution_count": 18,
   "id": "9b382197",
   "metadata": {},
   "outputs": [
    {
     "name": "stdout",
     "output_type": "stream",
     "text": [
      "Welcome Erin McConnell to the class of 2022\n"
     ]
    }
   ],
   "source": [
    "class Student(Person):\n",
    "    def __init__(self, fname, lname, year):\n",
    "        self.firstname = fname\n",
    "        self.lastname = lname\n",
    "        self.graduationyear = year\n",
    "        \n",
    "    def welcome(self):\n",
    "        print(\"Welcome\", self.firstname, self.lastname, \"to the class of\", self.graduationyear)\n",
    "        \n",
    "x = Student(\"Erin\", \"McConnell\", 2022)\n",
    "\n",
    "x.welcome()"
   ]
  },
  {
   "cell_type": "markdown",
   "id": "e0d0a534",
   "metadata": {},
   "source": [
    "If you add a method in the child class with the same name as a function in the parent class, the inheritance of the parent method will be overridden."
   ]
  }
 ],
 "metadata": {
  "kernelspec": {
   "display_name": "Python 3 (ipykernel)",
   "language": "python",
   "name": "python3"
  },
  "language_info": {
   "codemirror_mode": {
    "name": "ipython",
    "version": 3
   },
   "file_extension": ".py",
   "mimetype": "text/x-python",
   "name": "python",
   "nbconvert_exporter": "python",
   "pygments_lexer": "ipython3",
   "version": "3.9.13"
  }
 },
 "nbformat": 4,
 "nbformat_minor": 5
}
