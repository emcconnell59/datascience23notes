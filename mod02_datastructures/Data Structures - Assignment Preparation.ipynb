{
 "cells": [
  {
   "cell_type": "markdown",
   "id": "b628933e",
   "metadata": {},
   "source": [
    "## Assignment Preparation"
   ]
  },
  {
   "cell_type": "markdown",
   "id": "a3c2c8b1",
   "metadata": {},
   "source": [
    "### `for` loops"
   ]
  },
  {
   "cell_type": "markdown",
   "id": "a4fb14b4",
   "metadata": {},
   "source": [
    "Loops in Python are a way to repeatedly execute some code statement. So, for example, if we'd like to print each of the items in a list, we can use a `for` loop:"
   ]
  },
  {
   "cell_type": "code",
   "execution_count": 19,
   "id": "b8ad30a2",
   "metadata": {},
   "outputs": [
    {
     "name": "stdout",
     "output_type": "stream",
     "text": [
      "2 3 5 7 "
     ]
    }
   ],
   "source": [
    "for N in [2, 3, 5, 7]:\n",
    "    print(N, end=' ') # print all on the same line"
   ]
  },
  {
   "cell_type": "markdown",
   "id": "db841302",
   "metadata": {},
   "source": [
    "Notice the simplicity of the `for` loop: we specify the variable we want to use, the sequence we want to loop over, and use the \"`in`\" operator to link them together in an intuitive and readable way. More precisely, the object to the right of the \"`in`\" can be any Python *iterator*. An iterator can be thought of as a generalized sequence."
   ]
  },
  {
   "cell_type": "markdown",
   "id": "e3304173",
   "metadata": {},
   "source": [
    "### Conditional Statements: `if`-`elif`-`else`"
   ]
  },
  {
   "cell_type": "markdown",
   "id": "eba5f627",
   "metadata": {},
   "source": [
    "Conditional statements, often referred to as *if-then* statements, allow the programmer to execute certain pieces of code depending on some boolean condition. A basic example of a Python conditional statement is this:"
   ]
  },
  {
   "cell_type": "code",
   "execution_count": 27,
   "id": "1729897e",
   "metadata": {},
   "outputs": [
    {
     "name": "stdout",
     "output_type": "stream",
     "text": [
      "-3\n",
      "-3 is negative\n"
     ]
    }
   ],
   "source": [
    "x = input()\n",
    "x = int(x)\n",
    "\n",
    "if x == 0:\n",
    "    print(x, \"is zero\")\n",
    "elif x > 0:\n",
    "    print(x, \"is positive\")\n",
    "elif x < 0:\n",
    "    print(x, \"is negative\")\n",
    "else:\n",
    "    print(x, \"is unlike anything I've ever seen...\")"
   ]
  },
  {
   "cell_type": "markdown",
   "id": "d18833cd",
   "metadata": {},
   "source": [
    "Note especially the use of colons (`:`) and whitespace to denote separate blocks of code.\n",
    "\n",
    "Python adopts the `if` and `else` often used in other languages; its more unique keyword is `elif`, a contraction of \"else if\". In these conditional clauses, `elif` and `else` blocks are optional; additionally, you can optionally include as few or as many `elif` statements as you would like."
   ]
  },
  {
   "cell_type": "markdown",
   "id": "fa939d2d",
   "metadata": {},
   "source": [
    "### Defining Functions"
   ]
  },
  {
   "cell_type": "markdown",
   "id": "4051fdb7",
   "metadata": {},
   "source": [
    "One way to organize our Python code and to make it more readable and reusable is to factor-out useful pieces into reusable *functions*. In Python, functions are defined with the `def` statement. For example, we can encapsulate the Fibonacci sequence as follows:"
   ]
  },
  {
   "cell_type": "code",
   "execution_count": 34,
   "id": "d0c287f6",
   "metadata": {},
   "outputs": [],
   "source": [
    "def fibonacci(N):\n",
    "    L = []\n",
    "    a, b = 0, 1\n",
    "    while len(L) < N:\n",
    "        a, b = b, a + b\n",
    "        L.append(a)\n",
    "    return L"
   ]
  },
  {
   "cell_type": "markdown",
   "id": "f5abd1a8",
   "metadata": {},
   "source": [
    "Now we have a function name `fibonacci` which takes a single argument `N`, does something with this argument, and `return`s a value; in this case, a list of the first `N` Fibonacci numbers:"
   ]
  },
  {
   "cell_type": "code",
   "execution_count": 35,
   "id": "6f916e59",
   "metadata": {},
   "outputs": [
    {
     "data": {
      "text/plain": [
       "[1, 1, 2, 3, 5, 8, 13, 21, 34, 55]"
      ]
     },
     "execution_count": 35,
     "metadata": {},
     "output_type": "execute_result"
    }
   ],
   "source": [
    "fibonacci(10)"
   ]
  },
  {
   "cell_type": "markdown",
   "id": "d353e1ad",
   "metadata": {},
   "source": [
    "There is no type information associated with the function inputs or outputs. Python functions can return any Python object, simple or compound, which means constructs that may be difficult in other languages are straightforward in Python.\n",
    "\n",
    "For example, multiple return values are simply put in a tuple, which is indicated by commas:"
   ]
  },
  {
   "cell_type": "code",
   "execution_count": 36,
   "id": "c4489238",
   "metadata": {},
   "outputs": [],
   "source": [
    "def real_imag_conj(val):\n",
    "    return val.real, val.imag, val.conjugate()"
   ]
  },
  {
   "cell_type": "code",
   "execution_count": 4,
   "id": "7ca35099",
   "metadata": {},
   "outputs": [
    {
     "name": "stdout",
     "output_type": "stream",
     "text": [
      "3.0 4.0 (3-4j)\n"
     ]
    }
   ],
   "source": [
    "r, i, c = real_imag_conj(3 + 4j)\n",
    "print(r, i, c)"
   ]
  },
  {
   "cell_type": "markdown",
   "id": "ae3bcfd1",
   "metadata": {},
   "source": [
    "### The `math` module"
   ]
  },
  {
   "cell_type": "markdown",
   "id": "9ba88b2d",
   "metadata": {},
   "source": [
    "Python has a built-in module that you can use for mathematical tasks with a set of methods and constants. To utilize the `math` module in your script:"
   ]
  },
  {
   "cell_type": "code",
   "execution_count": 37,
   "id": "d80fd4ff",
   "metadata": {},
   "outputs": [],
   "source": [
    "import math"
   ]
  },
  {
   "cell_type": "markdown",
   "id": "640d5d1a",
   "metadata": {},
   "source": [
    "The method that is most important for you to know is `math.sqrt()`, which returns the square root of a number.\n",
    "\n",
    "Example:"
   ]
  },
  {
   "cell_type": "code",
   "execution_count": 38,
   "id": "5debb10b",
   "metadata": {},
   "outputs": [
    {
     "data": {
      "text/plain": [
       "2.0"
      ]
     },
     "execution_count": 38,
     "metadata": {},
     "output_type": "execute_result"
    }
   ],
   "source": [
    "math.sqrt(4)"
   ]
  },
  {
   "cell_type": "markdown",
   "id": "2670d274",
   "metadata": {},
   "source": [
    "### `split()`"
   ]
  },
  {
   "cell_type": "markdown",
   "id": "3cdbfa3f",
   "metadata": {},
   "source": [
    "The `split()` method splits a string into a list. You can specify the separator, but the default is any whitespace.\n",
    "\n",
    "Syntax: `string.split(separator, maxsplit)`\n",
    "\n",
    "Parameter values:\n",
    "\n",
    "1. `separator` - specifies the separator to use when splitting the string. Default value: any whitespace\n",
    "2. `maxsplit` - specifies how many splits to do. Default value: -1, all occurrences\n",
    "\n",
    "Example:"
   ]
  },
  {
   "cell_type": "code",
   "execution_count": 45,
   "id": "b2756d61",
   "metadata": {},
   "outputs": [
    {
     "name": "stdout",
     "output_type": "stream",
     "text": [
      "['hello', 'my name is Erin', 'I am 23 years old']\n"
     ]
    }
   ],
   "source": [
    "txt = \"hello, my name is Erin, I am 23 years old\"\n",
    "x = txt.split(\", \")\n",
    "print(x)"
   ]
  },
  {
   "cell_type": "markdown",
   "id": "e8dd79ef",
   "metadata": {},
   "source": [
    "### `map()`"
   ]
  },
  {
   "cell_type": "markdown",
   "id": "96beefd9",
   "metadata": {},
   "source": [
    "The `map()` function executes a specified function for each item in an iterable. The item is sent to the function as a parameter.\n",
    "\n",
    "Syntax: `map(function, iterable)`\n",
    "\n",
    "Parameter values:\n",
    "\n",
    "1. `function` - the function to execute for each item\n",
    "2. `iterable` - a sequence, collection, or an iterator object\n",
    "\n",
    "Example:"
   ]
  },
  {
   "cell_type": "code",
   "execution_count": 7,
   "id": "b77bd37c",
   "metadata": {},
   "outputs": [
    {
     "name": "stdout",
     "output_type": "stream",
     "text": [
      "<map object at 0x7f816893e460>\n"
     ]
    }
   ],
   "source": [
    "x = [1, 2, 3]\n",
    "y = map(float, x)\n",
    "print(y)"
   ]
  },
  {
   "cell_type": "markdown",
   "id": "cecdd902",
   "metadata": {},
   "source": [
    "### `list()`"
   ]
  },
  {
   "cell_type": "markdown",
   "id": "61096bcf",
   "metadata": {},
   "source": [
    "The `list()` function creates a list object. A list object, as we know, is a collection which is ordered and changeable. \n",
    "\n",
    "Syntax: `list(iterable)`\n",
    "\n",
    "Parameter values: `iterable` - a sequence, collection, or an iterator object\n",
    "\n",
    "Example:"
   ]
  },
  {
   "cell_type": "code",
   "execution_count": 9,
   "id": "d652d765",
   "metadata": {},
   "outputs": [
    {
     "name": "stdout",
     "output_type": "stream",
     "text": [
      "['apple', 'banana', 'cherry']\n"
     ]
    }
   ],
   "source": [
    "z = list(('apple', 'banana', 'cherry'))\n",
    "print(z)"
   ]
  },
  {
   "cell_type": "code",
   "execution_count": 10,
   "id": "d89a88c6",
   "metadata": {},
   "outputs": [
    {
     "name": "stdout",
     "output_type": "stream",
     "text": [
      "[1.0, 2.0, 3.0]\n"
     ]
    }
   ],
   "source": [
    "y = list(y)\n",
    "print(y)"
   ]
  },
  {
   "cell_type": "markdown",
   "id": "9e383d31",
   "metadata": {},
   "source": [
    "### `remove()`"
   ]
  },
  {
   "cell_type": "markdown",
   "id": "db0026d7",
   "metadata": {},
   "source": [
    "The `remove()` method removes the first occurrence of the element with the specified value.\n",
    "\n",
    "Syntax: `list.remove(elmnt)`\n",
    "\n",
    "Parameter values: `elmnt` - any type (string, number, list, etc), the element you want to remove\n",
    "\n",
    "Example:"
   ]
  },
  {
   "cell_type": "code",
   "execution_count": 16,
   "id": "5971b68b",
   "metadata": {},
   "outputs": [
    {
     "name": "stdout",
     "output_type": "stream",
     "text": [
      "['apple', 'cherry']\n"
     ]
    }
   ],
   "source": [
    "fruits = ['apple', 'banana', 'cherry']\n",
    "fruits.remove(\"banana\")\n",
    "print(fruits)"
   ]
  },
  {
   "cell_type": "markdown",
   "id": "75db75b7",
   "metadata": {},
   "source": [
    "### `tuple()`"
   ]
  },
  {
   "cell_type": "markdown",
   "id": "8832dfbf",
   "metadata": {},
   "source": [
    "The `tuple()` function creates a tuple object. As we know, you cannot change or remove items in a tuple.\n",
    "\n",
    "Syntax: `tuple(iterable)`\n",
    "\n",
    "Parameter values: `iterable` - a sequence, collection, or an iterator object\n",
    "\n",
    "Example:"
   ]
  },
  {
   "cell_type": "code",
   "execution_count": 11,
   "id": "4d75ecba",
   "metadata": {},
   "outputs": [
    {
     "name": "stdout",
     "output_type": "stream",
     "text": [
      "('apple', 'banana', 'cherry')\n"
     ]
    }
   ],
   "source": [
    "a = tuple(['apple', 'banana', 'cherry'])\n",
    "print(a)"
   ]
  },
  {
   "cell_type": "code",
   "execution_count": 12,
   "id": "c12f0c59",
   "metadata": {},
   "outputs": [
    {
     "name": "stdout",
     "output_type": "stream",
     "text": [
      "(1.0, 2.0, 3.0)\n"
     ]
    }
   ],
   "source": [
    "y = tuple(y)\n",
    "print(y)"
   ]
  },
  {
   "cell_type": "markdown",
   "id": "cce7c21b",
   "metadata": {},
   "source": [
    "### `values()`"
   ]
  },
  {
   "cell_type": "markdown",
   "id": "89ea381e",
   "metadata": {},
   "source": [
    "The `values()` method returns a view object. The view object contains the values of the dictionary as a list. The view object will reflect any changes done to the dictionary.\n",
    "\n",
    "Syntax: `dictionary.values()`\n",
    "\n",
    "Parameter values: no parameters\n",
    "\n",
    "Example:"
   ]
  },
  {
   "cell_type": "code",
   "execution_count": 47,
   "id": "808fef7b",
   "metadata": {},
   "outputs": [
    {
     "name": "stdout",
     "output_type": "stream",
     "text": [
      "dict_values(['Ford', 'Mustang', 1964])\n"
     ]
    }
   ],
   "source": [
    "car = {\"brand\":\"Ford\", \"model\":\"Mustang\", \"year\":1964}\n",
    "x = car.values()\n",
    "print(x)"
   ]
  }
 ],
 "metadata": {
  "kernelspec": {
   "display_name": "Python 3 (ipykernel)",
   "language": "python",
   "name": "python3"
  },
  "language_info": {
   "codemirror_mode": {
    "name": "ipython",
    "version": 3
   },
   "file_extension": ".py",
   "mimetype": "text/x-python",
   "name": "python",
   "nbconvert_exporter": "python",
   "pygments_lexer": "ipython3",
   "version": "3.9.13"
  }
 },
 "nbformat": 4,
 "nbformat_minor": 5
}
