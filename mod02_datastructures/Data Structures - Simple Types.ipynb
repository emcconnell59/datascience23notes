{
 "cells": [
  {
   "cell_type": "markdown",
   "id": "a3d539ed",
   "metadata": {},
   "source": [
    "## Built-In Types: Simple Values"
   ]
  },
  {
   "cell_type": "markdown",
   "id": "a8e0898e",
   "metadata": {},
   "source": [
    "When discussing Python variables and objects, we mentioned the fact that all Python objects have type information attached. Here, we'll briefly walk through the built-in simple types offered by Python. We say \"simple types\" to contrast with several compound types, which will be discussed in the following section.\n",
    "\n",
    "Python's simple types are summarized below:\n",
    "\n",
    "`int`: integers (i.e., whole numbers); `x = 1`\n",
    "\n",
    "`float`: floating point numbers (i.e., real numbers); `x = 1.0`\n",
    "\n",
    "`complex`: complex numbers (i.e., numbers with real and imaginary parts); `x = 1 + 2j`\n",
    "\n",
    "`bool`: boolean, True/False values; `x = True`\n",
    "\n",
    "`str`: string, characters or text; `x = 'abc'`\n",
    "\n",
    "`NoneType`: special object indicating nulls; `x = None`\n",
    "\n",
    "We'll take a quick look at each of these in turn."
   ]
  },
  {
   "cell_type": "markdown",
   "id": "e86afb7d",
   "metadata": {},
   "source": [
    "### Integers"
   ]
  },
  {
   "cell_type": "markdown",
   "id": "bead96b4",
   "metadata": {},
   "source": [
    "The most basic numerical type is the integer. Any number without a decimal point is an integer:"
   ]
  },
  {
   "cell_type": "code",
   "execution_count": 1,
   "id": "1b0b38bb",
   "metadata": {},
   "outputs": [
    {
     "data": {
      "text/plain": [
       "int"
      ]
     },
     "execution_count": 1,
     "metadata": {},
     "output_type": "execute_result"
    }
   ],
   "source": [
    "x = 4\n",
    "type(x)"
   ]
  },
  {
   "cell_type": "markdown",
   "id": "9cf53360",
   "metadata": {},
   "source": [
    "Python integers are actually quite a bit more sophisticated than integers in other programming languages. They are variable-precision, so you can do computations that would overflow in other languages:"
   ]
  },
  {
   "cell_type": "code",
   "execution_count": 2,
   "id": "cd3e3e13",
   "metadata": {},
   "outputs": [
    {
     "name": "stdout",
     "output_type": "stream",
     "text": [
      "1606938044258990275541962092341162602522202993782792835301376\n"
     ]
    }
   ],
   "source": [
    "x = 2 ** 200\n",
    "print(x)"
   ]
  },
  {
   "cell_type": "markdown",
   "id": "a9e6c68c",
   "metadata": {},
   "source": [
    "Another convenient feature of Python integers is that, by default, division up-casts to floating point type:"
   ]
  },
  {
   "cell_type": "code",
   "execution_count": 4,
   "id": "68b4f409",
   "metadata": {},
   "outputs": [
    {
     "name": "stdout",
     "output_type": "stream",
     "text": [
      "2.5\n"
     ]
    },
    {
     "data": {
      "text/plain": [
       "float"
      ]
     },
     "execution_count": 4,
     "metadata": {},
     "output_type": "execute_result"
    }
   ],
   "source": [
    "x = 5 / 2\n",
    "print(x)\n",
    "type(x)"
   ]
  },
  {
   "cell_type": "markdown",
   "id": "c707ea1b",
   "metadata": {},
   "source": [
    "### Floating Point Numbers"
   ]
  },
  {
   "cell_type": "markdown",
   "id": "ba5d58a2",
   "metadata": {},
   "source": [
    "The floating point type can store fractional numbers. They can be defined either in standard decimal notation or in exponential notation:"
   ]
  },
  {
   "cell_type": "code",
   "execution_count": 9,
   "id": "b32a9118",
   "metadata": {},
   "outputs": [
    {
     "data": {
      "text/plain": [
       "True"
      ]
     },
     "execution_count": 9,
     "metadata": {},
     "output_type": "execute_result"
    }
   ],
   "source": [
    "x = 0.000005\n",
    "y = 5e-6 # 5 x 10^-6\n",
    "x == y"
   ]
  },
  {
   "cell_type": "markdown",
   "id": "9a9cc22b",
   "metadata": {},
   "source": [
    "An integer can be explicitly converted to a float with the `float` constructor:"
   ]
  },
  {
   "cell_type": "code",
   "execution_count": 52,
   "id": "d3095009",
   "metadata": {},
   "outputs": [
    {
     "data": {
      "text/plain": [
       "int"
      ]
     },
     "execution_count": 52,
     "metadata": {},
     "output_type": "execute_result"
    }
   ],
   "source": [
    "x = 2\n",
    "type(x)"
   ]
  },
  {
   "cell_type": "code",
   "execution_count": 56,
   "id": "01353932",
   "metadata": {},
   "outputs": [
    {
     "name": "stdout",
     "output_type": "stream",
     "text": [
      "2.0\n"
     ]
    },
    {
     "data": {
      "text/plain": [
       "float"
      ]
     },
     "execution_count": 56,
     "metadata": {},
     "output_type": "execute_result"
    }
   ],
   "source": [
    "x = float(x)\n",
    "print(x)\n",
    "type(x)"
   ]
  },
  {
   "cell_type": "markdown",
   "id": "b0abfdee",
   "metadata": {},
   "source": [
    "### Complex Numbers"
   ]
  },
  {
   "cell_type": "markdown",
   "id": "bbc42595",
   "metadata": {},
   "source": [
    "Complex numbers are numbers with real and imaginary (floating point) parts. We've seen integers and real numbers before; we can use these to construct a complex number:"
   ]
  },
  {
   "cell_type": "code",
   "execution_count": 13,
   "id": "8fb01965",
   "metadata": {},
   "outputs": [
    {
     "data": {
      "text/plain": [
       "(1+2j)"
      ]
     },
     "execution_count": 13,
     "metadata": {},
     "output_type": "execute_result"
    }
   ],
   "source": [
    "complex(1, 2)"
   ]
  },
  {
   "cell_type": "markdown",
   "id": "8daf39d8",
   "metadata": {},
   "source": [
    "Alternatively, we can use the \"`j`\" suffix in expressions to indicate the imaginary part:"
   ]
  },
  {
   "cell_type": "code",
   "execution_count": 14,
   "id": "a042f82e",
   "metadata": {},
   "outputs": [
    {
     "data": {
      "text/plain": [
       "(1+2j)"
      ]
     },
     "execution_count": 14,
     "metadata": {},
     "output_type": "execute_result"
    }
   ],
   "source": [
    "1 + 2j"
   ]
  },
  {
   "cell_type": "code",
   "execution_count": 57,
   "id": "83811cd4",
   "metadata": {},
   "outputs": [
    {
     "data": {
      "text/plain": [
       "True"
      ]
     },
     "execution_count": 57,
     "metadata": {},
     "output_type": "execute_result"
    }
   ],
   "source": [
    "complex(1, 2) == 1 + 2j"
   ]
  },
  {
   "cell_type": "markdown",
   "id": "1d4eb9a4",
   "metadata": {},
   "source": [
    "Complex numbers have a variety of interesting attributes and methods, which we'll briefly demonstrate here:"
   ]
  },
  {
   "cell_type": "code",
   "execution_count": 59,
   "id": "b6678e80",
   "metadata": {},
   "outputs": [
    {
     "name": "stdout",
     "output_type": "stream",
     "text": [
      "3.0\n"
     ]
    },
    {
     "data": {
      "text/plain": [
       "float"
      ]
     },
     "execution_count": 59,
     "metadata": {},
     "output_type": "execute_result"
    }
   ],
   "source": [
    "c = 3 + 4j\n",
    "\n",
    "y = c.real # real part\n",
    "print(y)\n",
    "type(y)"
   ]
  },
  {
   "cell_type": "code",
   "execution_count": 16,
   "id": "b9a42db1",
   "metadata": {},
   "outputs": [
    {
     "data": {
      "text/plain": [
       "4.0"
      ]
     },
     "execution_count": 16,
     "metadata": {},
     "output_type": "execute_result"
    }
   ],
   "source": [
    "c.imag # imaginary part"
   ]
  },
  {
   "cell_type": "code",
   "execution_count": 17,
   "id": "3962186b",
   "metadata": {},
   "outputs": [
    {
     "data": {
      "text/plain": [
       "(3-4j)"
      ]
     },
     "execution_count": 17,
     "metadata": {},
     "output_type": "execute_result"
    }
   ],
   "source": [
    "c.conjugate() # complex conjugate"
   ]
  },
  {
   "cell_type": "markdown",
   "id": "3bb1151d",
   "metadata": {},
   "source": [
    "### String Type"
   ]
  },
  {
   "cell_type": "markdown",
   "id": "76437276",
   "metadata": {},
   "source": [
    "Strings in Python are created with single or double quotes:"
   ]
  },
  {
   "cell_type": "code",
   "execution_count": 18,
   "id": "0ef59ba8",
   "metadata": {},
   "outputs": [
    {
     "name": "stdout",
     "output_type": "stream",
     "text": [
      "what do you like?\n",
      "spam\n"
     ]
    }
   ],
   "source": [
    "message = \"what do you like?\"\n",
    "response = 'spam'\n",
    "print(message)\n",
    "print(response)"
   ]
  },
  {
   "cell_type": "markdown",
   "id": "dc264e6e",
   "metadata": {},
   "source": [
    "Python has many extremely useful string functions and methods; here are a few of them:"
   ]
  },
  {
   "cell_type": "code",
   "execution_count": 61,
   "id": "8d4ca64a",
   "metadata": {},
   "outputs": [
    {
     "data": {
      "text/plain": [
       "4"
      ]
     },
     "execution_count": 61,
     "metadata": {},
     "output_type": "execute_result"
    }
   ],
   "source": [
    "# length of string\n",
    "len(response)\n",
    "#print(response)"
   ]
  },
  {
   "cell_type": "code",
   "execution_count": 63,
   "id": "87e665db",
   "metadata": {},
   "outputs": [
    {
     "data": {
      "text/plain": [
       "'SPAM'"
      ]
     },
     "execution_count": 63,
     "metadata": {},
     "output_type": "execute_result"
    }
   ],
   "source": [
    "# make upper case; see also str.lower()\n",
    "response.upper()\n",
    "#response.lower()"
   ]
  },
  {
   "cell_type": "code",
   "execution_count": 66,
   "id": "f368a2f8",
   "metadata": {},
   "outputs": [
    {
     "data": {
      "text/plain": [
       "'What do you like?'"
      ]
     },
     "execution_count": 66,
     "metadata": {},
     "output_type": "execute_result"
    }
   ],
   "source": [
    "# capitalize; see also str.title()\n",
    "message.capitalize()\n",
    "#message.title()"
   ]
  },
  {
   "cell_type": "code",
   "execution_count": 23,
   "id": "9fb91bbe",
   "metadata": {},
   "outputs": [
    {
     "data": {
      "text/plain": [
       "'what do you like? spam'"
      ]
     },
     "execution_count": 23,
     "metadata": {},
     "output_type": "execute_result"
    }
   ],
   "source": [
    "# concatenation with +\n",
    "message + \" \" + response"
   ]
  },
  {
   "cell_type": "code",
   "execution_count": 72,
   "id": "7e897544",
   "metadata": {},
   "outputs": [
    {
     "data": {
      "text/plain": [
       "' what do you like? what do you like? what do you like? what do you like? what do you like?'"
      ]
     },
     "execution_count": 72,
     "metadata": {},
     "output_type": "execute_result"
    }
   ],
   "source": [
    "# multiplication is multiple concatenation\n",
    "5 * (' ' + message)\n",
    "#6 * response"
   ]
  },
  {
   "cell_type": "code",
   "execution_count": 78,
   "id": "e68722d8",
   "metadata": {},
   "outputs": [
    {
     "name": "stdout",
     "output_type": "stream",
     "text": [
      "s\n",
      "p\n",
      "a\n",
      "m\n"
     ]
    }
   ],
   "source": [
    "# access individual characters (zero-based indexing)\n",
    "z = response[0]\n",
    "y = response[1]\n",
    "x = response[2]\n",
    "w = response[3]\n",
    "\n",
    "print(z)\n",
    "print(y)\n",
    "print(x)\n",
    "print(w)\n",
    "#print(response)\n",
    "\n",
    "#response[0:4] # slicing"
   ]
  },
  {
   "cell_type": "markdown",
   "id": "70740854",
   "metadata": {},
   "source": [
    "We will discuss indexing more in our discussion on Lists."
   ]
  },
  {
   "cell_type": "markdown",
   "id": "a6aba20a",
   "metadata": {},
   "source": [
    "### None Type"
   ]
  },
  {
   "cell_type": "markdown",
   "id": "aa4c09a3",
   "metadata": {},
   "source": [
    "Python includes a special type, the `NoneType`, which has only one single possible value: `None`. For example:"
   ]
  },
  {
   "cell_type": "code",
   "execution_count": 26,
   "id": "9c9137dc",
   "metadata": {},
   "outputs": [
    {
     "data": {
      "text/plain": [
       "NoneType"
      ]
     },
     "execution_count": 26,
     "metadata": {},
     "output_type": "execute_result"
    }
   ],
   "source": [
    "type(None)"
   ]
  },
  {
   "cell_type": "markdown",
   "id": "3c83e8aa",
   "metadata": {},
   "source": [
    "You'll see `None` used in many places, but perhaps most commonly it is used as the default return value of a function. For example, the `print()` function does not return anything, but we can still catch its value:"
   ]
  },
  {
   "cell_type": "code",
   "execution_count": 79,
   "id": "ca7bdbe6",
   "metadata": {},
   "outputs": [
    {
     "name": "stdout",
     "output_type": "stream",
     "text": [
      "abc\n"
     ]
    }
   ],
   "source": [
    "return_value = print('abc')"
   ]
  },
  {
   "cell_type": "code",
   "execution_count": 29,
   "id": "10db081b",
   "metadata": {},
   "outputs": [
    {
     "name": "stdout",
     "output_type": "stream",
     "text": [
      "None\n"
     ]
    }
   ],
   "source": [
    "print(return_value)"
   ]
  },
  {
   "cell_type": "markdown",
   "id": "92065566",
   "metadata": {},
   "source": [
    "Likewise, any function in Python with no return value is, in reality, returning `None`."
   ]
  },
  {
   "cell_type": "markdown",
   "id": "ee4a7865",
   "metadata": {},
   "source": [
    "### Boolean Type"
   ]
  },
  {
   "cell_type": "markdown",
   "id": "0e87b480",
   "metadata": {},
   "source": [
    "The boolean type is a simple type with two possible values: `True` and `False`, and is returned by comparison operators discussed previously:"
   ]
  },
  {
   "cell_type": "code",
   "execution_count": 30,
   "id": "d792db9f",
   "metadata": {},
   "outputs": [
    {
     "data": {
      "text/plain": [
       "True"
      ]
     },
     "execution_count": 30,
     "metadata": {},
     "output_type": "execute_result"
    }
   ],
   "source": [
    "result = (4 < 5)\n",
    "result"
   ]
  },
  {
   "cell_type": "code",
   "execution_count": 31,
   "id": "3a2bc313",
   "metadata": {},
   "outputs": [
    {
     "data": {
      "text/plain": [
       "bool"
      ]
     },
     "execution_count": 31,
     "metadata": {},
     "output_type": "execute_result"
    }
   ],
   "source": [
    "type(result)"
   ]
  },
  {
   "cell_type": "markdown",
   "id": "682f2972",
   "metadata": {},
   "source": [
    "Keep in mind that the boolean values are case sensitive: unlike some other languages, `True` and `False` must be capitalized!"
   ]
  },
  {
   "cell_type": "code",
   "execution_count": 32,
   "id": "e9e2664a",
   "metadata": {},
   "outputs": [
    {
     "name": "stdout",
     "output_type": "stream",
     "text": [
      "True False\n"
     ]
    }
   ],
   "source": [
    "print(True, False)"
   ]
  },
  {
   "cell_type": "markdown",
   "id": "d3410c86",
   "metadata": {},
   "source": [
    "Booleans can also be constructed using the `bool()` object constructor: values of any other type can be converted to boolean via predictable rules. For example, any numeric type is False if equal to zero, and True otherwise:"
   ]
  },
  {
   "cell_type": "code",
   "execution_count": 33,
   "id": "ad266def",
   "metadata": {},
   "outputs": [
    {
     "data": {
      "text/plain": [
       "True"
      ]
     },
     "execution_count": 33,
     "metadata": {},
     "output_type": "execute_result"
    }
   ],
   "source": [
    "bool(3939)"
   ]
  },
  {
   "cell_type": "code",
   "execution_count": 34,
   "id": "76ec4ba7",
   "metadata": {},
   "outputs": [
    {
     "data": {
      "text/plain": [
       "False"
      ]
     },
     "execution_count": 34,
     "metadata": {},
     "output_type": "execute_result"
    }
   ],
   "source": [
    "bool(0)"
   ]
  },
  {
   "cell_type": "code",
   "execution_count": 35,
   "id": "14b5508d",
   "metadata": {},
   "outputs": [
    {
     "data": {
      "text/plain": [
       "True"
      ]
     },
     "execution_count": 35,
     "metadata": {},
     "output_type": "execute_result"
    }
   ],
   "source": [
    "bool(3.1415)"
   ]
  },
  {
   "cell_type": "markdown",
   "id": "21d495e9",
   "metadata": {},
   "source": [
    "The boolean conversion of `None` is always False:"
   ]
  },
  {
   "cell_type": "code",
   "execution_count": 36,
   "id": "24a4e003",
   "metadata": {},
   "outputs": [
    {
     "data": {
      "text/plain": [
       "False"
      ]
     },
     "execution_count": 36,
     "metadata": {},
     "output_type": "execute_result"
    }
   ],
   "source": [
    "bool(None)"
   ]
  },
  {
   "cell_type": "markdown",
   "id": "c19397e0",
   "metadata": {},
   "source": [
    "For strings, `bool(s)` is False for empty strings and True otherwise:"
   ]
  },
  {
   "cell_type": "code",
   "execution_count": 81,
   "id": "1b2d4afa",
   "metadata": {},
   "outputs": [
    {
     "data": {
      "text/plain": [
       "False"
      ]
     },
     "execution_count": 81,
     "metadata": {},
     "output_type": "execute_result"
    }
   ],
   "source": [
    "bool(\"\")"
   ]
  },
  {
   "cell_type": "code",
   "execution_count": 82,
   "id": "7378216b",
   "metadata": {},
   "outputs": [
    {
     "data": {
      "text/plain": [
       "True"
      ]
     },
     "execution_count": 82,
     "metadata": {},
     "output_type": "execute_result"
    }
   ],
   "source": [
    "bool(\" \")"
   ]
  },
  {
   "cell_type": "code",
   "execution_count": 38,
   "id": "16622a2e",
   "metadata": {},
   "outputs": [
    {
     "data": {
      "text/plain": [
       "True"
      ]
     },
     "execution_count": 38,
     "metadata": {},
     "output_type": "execute_result"
    }
   ],
   "source": [
    "bool(\"abc\")"
   ]
  },
  {
   "cell_type": "markdown",
   "id": "b0604305",
   "metadata": {},
   "source": [
    "For sequences, which we'll see in the next section, the boolean representation is False for empty sequences and True for any other sequences:"
   ]
  },
  {
   "cell_type": "code",
   "execution_count": 39,
   "id": "a7837bb1",
   "metadata": {},
   "outputs": [
    {
     "data": {
      "text/plain": [
       "True"
      ]
     },
     "execution_count": 39,
     "metadata": {},
     "output_type": "execute_result"
    }
   ],
   "source": [
    "bool([1, 2, 3])"
   ]
  },
  {
   "cell_type": "code",
   "execution_count": 40,
   "id": "2b9c3f11",
   "metadata": {},
   "outputs": [
    {
     "data": {
      "text/plain": [
       "False"
      ]
     },
     "execution_count": 40,
     "metadata": {},
     "output_type": "execute_result"
    }
   ],
   "source": [
    "bool([])"
   ]
  },
  {
   "cell_type": "markdown",
   "id": "81a82fd2",
   "metadata": {},
   "source": [
    "### Conversions Between Data Types"
   ]
  },
  {
   "cell_type": "markdown",
   "id": "f5c8e31b",
   "metadata": {},
   "source": [
    "We can convert between different data types by using different type conversion functions like int(), float(), str(), etc."
   ]
  },
  {
   "cell_type": "code",
   "execution_count": 42,
   "id": "447c3759",
   "metadata": {},
   "outputs": [
    {
     "data": {
      "text/plain": [
       "5.0"
      ]
     },
     "execution_count": 42,
     "metadata": {},
     "output_type": "execute_result"
    }
   ],
   "source": [
    "float(5) \n",
    "# convert integer to float using float() method"
   ]
  },
  {
   "cell_type": "code",
   "execution_count": 43,
   "id": "42d16434",
   "metadata": {},
   "outputs": [
    {
     "data": {
      "text/plain": [
       "98"
      ]
     },
     "execution_count": 43,
     "metadata": {},
     "output_type": "execute_result"
    }
   ],
   "source": [
    "int(98.6)\n",
    "# convert float to integer using int() method"
   ]
  },
  {
   "cell_type": "code",
   "execution_count": 44,
   "id": "b9567343",
   "metadata": {},
   "outputs": [
    {
     "data": {
      "text/plain": [
       "'20'"
      ]
     },
     "execution_count": 44,
     "metadata": {},
     "output_type": "execute_result"
    }
   ],
   "source": [
    "x = str(20) # convert integer to string\n",
    "x"
   ]
  },
  {
   "cell_type": "markdown",
   "id": "9292d13a",
   "metadata": {},
   "source": [
    "Conversion to and from string must contain compatible values."
   ]
  },
  {
   "cell_type": "code",
   "execution_count": 45,
   "id": "77180076",
   "metadata": {},
   "outputs": [
    {
     "data": {
      "text/plain": [
       "0.5"
      ]
     },
     "execution_count": 45,
     "metadata": {},
     "output_type": "execute_result"
    }
   ],
   "source": [
    "float('.50')"
   ]
  },
  {
   "cell_type": "code",
   "execution_count": 83,
   "id": "32c42232",
   "metadata": {},
   "outputs": [
    {
     "ename": "ValueError",
     "evalue": "could not convert string to float: 'Erin'",
     "output_type": "error",
     "traceback": [
      "\u001b[0;31m---------------------------------------------------------------------------\u001b[0m",
      "\u001b[0;31mValueError\u001b[0m                                Traceback (most recent call last)",
      "\u001b[0;32m/var/folders/vy/r2k1d_qd7qq72mp6t471xvq80000gp/T/ipykernel_75140/243704022.py\u001b[0m in \u001b[0;36m<module>\u001b[0;34m\u001b[0m\n\u001b[0;32m----> 1\u001b[0;31m \u001b[0mfloat\u001b[0m\u001b[0;34m(\u001b[0m\u001b[0;34m'Erin'\u001b[0m\u001b[0;34m)\u001b[0m\u001b[0;34m\u001b[0m\u001b[0;34m\u001b[0m\u001b[0m\n\u001b[0m",
      "\u001b[0;31mValueError\u001b[0m: could not convert string to float: 'Erin'"
     ]
    }
   ],
   "source": [
    "float('Erin')"
   ]
  },
  {
   "cell_type": "code",
   "execution_count": 85,
   "id": "3f5746dd",
   "metadata": {},
   "outputs": [
    {
     "name": "stdout",
     "output_type": "stream",
     "text": [
      "Congratulations, Erin! You just wrote 100 lines of code\n"
     ]
    }
   ],
   "source": [
    "user = \"erin\"\n",
    "lines = 100\n",
    "\n",
    "print(\"Congratulations, \" + user.capitalize() + \"! You just wrote \" + str(lines) + \" lines of code\")\n",
    "#remove str and gives error"
   ]
  }
 ],
 "metadata": {
  "kernelspec": {
   "display_name": "Python 3 (ipykernel)",
   "language": "python",
   "name": "python3"
  },
  "language_info": {
   "codemirror_mode": {
    "name": "ipython",
    "version": 3
   },
   "file_extension": ".py",
   "mimetype": "text/x-python",
   "name": "python",
   "nbconvert_exporter": "python",
   "pygments_lexer": "ipython3",
   "version": "3.9.13"
  }
 },
 "nbformat": 4,
 "nbformat_minor": 5
}
