{
 "cells": [
  {
   "cell_type": "markdown",
   "id": "a43a029f",
   "metadata": {},
   "source": [
    "## Introduction to NumPy"
   ]
  },
  {
   "cell_type": "markdown",
   "id": "ba5a6304",
   "metadata": {},
   "source": [
    "NumPy is a Python package that stands for 'Numerical Python'. It is the core library for scientific computing, which contains a powerful n-dimensional array object. It is also useful in linear algebra, random number capabilities, etc. The NumPy array can also be used as an efficient multi-dimensional container for generic data. \n",
    "\n",
    "A NumPy array is a powerful n-dimensional array object, which is in the form of rows and columns. We can initialize NumPy arrays from nested Python lists and access its elements.\n",
    "\n",
    "This module outlines techniques for effectively loading, storing, and manipulating data in Python. This topic is very broad: datasets can come from a wide range of sources and a wide range of formats, including collections of documents, collections of images, collections of sound clips, collections of numerical measurements, or nearly anything else. Despite this apparent heterogeneity, it will help us to think of all data fundamentally as arrays of numbers.\n",
    "\n",
    "For example, images - particularly digital images - can be thought of simply as 2-dimensional arrays of numbers representing pixel brightness across the area. Sound clips can be thought of as 1-dimensional arrays of intensity vs. time. Text can be converted in various ways into numerical representations, like binary digits representing the frequency of certain words or pairs of words. No matter what the data are, the first step in making it analyzable will be to transform them into arrays of numbers.\n",
    "\n",
    "For this reason, efficient storage and manipulation of numerical arrays is absolutely fundamental to the process of doing data science.\n",
    "\n",
    "NumPy provides an efficient interface to store and operate on dense data buffers. In some ways, NumPy arrays are like Python's built-in `list` type, but NumPy arrays provide much more efficient storage and data operations as the arrays grow larger in size. NumPy arrays form the core of nearly the entire ecosystem of data science tools in Python, so time spent learning to use NumPy effectively will be valuable no matter what aspect of data science interests you."
   ]
  },
  {
   "cell_type": "markdown",
   "id": "3ab58ee3",
   "metadata": {},
   "source": [
    "### Using NumPy"
   ]
  },
  {
   "cell_type": "markdown",
   "id": "6f5efa44",
   "metadata": {},
   "source": [
    "We can import NumPy as we have imported other modules in Python:"
   ]
  },
  {
   "cell_type": "code",
   "execution_count": 1,
   "id": "bab776ec",
   "metadata": {},
   "outputs": [],
   "source": [
    "import numpy"
   ]
  },
  {
   "cell_type": "markdown",
   "id": "283c5e59",
   "metadata": {},
   "source": [
    "By convention, you'll find that most people will import NumPy using `np` as an alias:"
   ]
  },
  {
   "cell_type": "code",
   "execution_count": 2,
   "id": "256752f7",
   "metadata": {},
   "outputs": [],
   "source": [
    "import numpy as np"
   ]
  },
  {
   "cell_type": "markdown",
   "id": "43450e21",
   "metadata": {},
   "source": [
    "This is the way we will import and use NumPy."
   ]
  }
 ],
 "metadata": {
  "kernelspec": {
   "display_name": "Python 3 (ipykernel)",
   "language": "python",
   "name": "python3"
  },
  "language_info": {
   "codemirror_mode": {
    "name": "ipython",
    "version": 3
   },
   "file_extension": ".py",
   "mimetype": "text/x-python",
   "name": "python",
   "nbconvert_exporter": "python",
   "pygments_lexer": "ipython3",
   "version": "3.9.13"
  }
 },
 "nbformat": 4,
 "nbformat_minor": 5
}
