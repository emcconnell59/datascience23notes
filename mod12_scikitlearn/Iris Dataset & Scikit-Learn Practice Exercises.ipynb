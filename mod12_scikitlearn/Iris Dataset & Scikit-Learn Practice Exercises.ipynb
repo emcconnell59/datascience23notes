{
 "cells": [
  {
   "cell_type": "markdown",
   "id": "f2bfa019",
   "metadata": {},
   "source": [
    "# Exercises"
   ]
  },
  {
   "cell_type": "markdown",
   "id": "766d85c9",
   "metadata": {},
   "source": [
    "## A. Basics"
   ]
  },
  {
   "cell_type": "markdown",
   "id": "174efe17",
   "metadata": {},
   "source": [
    "### Exercise 1"
   ]
  },
  {
   "cell_type": "markdown",
   "id": "36b48d4f",
   "metadata": {},
   "source": [
    "Load the Iris data into a `DataFrame` and print the shape of the data, the type of the data, and the first 3 rows."
   ]
  },
  {
   "cell_type": "code",
   "execution_count": null,
   "id": "19d5befc",
   "metadata": {},
   "outputs": [],
   "source": []
  },
  {
   "cell_type": "markdown",
   "id": "d3674477",
   "metadata": {},
   "source": [
    "### Exercise 2"
   ]
  },
  {
   "cell_type": "markdown",
   "id": "0631e093",
   "metadata": {},
   "source": [
    "Print the keys of the Iris data."
   ]
  },
  {
   "cell_type": "code",
   "execution_count": null,
   "id": "6d0410a7",
   "metadata": {},
   "outputs": [],
   "source": []
  },
  {
   "cell_type": "markdown",
   "id": "57c1b461",
   "metadata": {},
   "source": [
    "### Exercise 3"
   ]
  },
  {
   "cell_type": "markdown",
   "id": "83026cf0",
   "metadata": {},
   "source": [
    "Get the number of observations and missing values of the Iris data."
   ]
  },
  {
   "cell_type": "code",
   "execution_count": null,
   "id": "31bda003",
   "metadata": {},
   "outputs": [],
   "source": []
  },
  {
   "cell_type": "markdown",
   "id": "23a83d0b",
   "metadata": {},
   "source": [
    "### Exercise 4"
   ]
  },
  {
   "cell_type": "markdown",
   "id": "1c329ce0",
   "metadata": {},
   "source": [
    "View basic statistical details like percentiles, mean, standard deviation, etc., of the Iris data."
   ]
  },
  {
   "cell_type": "code",
   "execution_count": null,
   "id": "d76c6703",
   "metadata": {},
   "outputs": [],
   "source": []
  },
  {
   "cell_type": "markdown",
   "id": "d4c53a5e",
   "metadata": {},
   "source": [
    "### Exercise 5"
   ]
  },
  {
   "cell_type": "markdown",
   "id": "c3731495",
   "metadata": {},
   "source": [
    "Get observations of each species (setosa, versicolor, virginica) from the Iris data."
   ]
  },
  {
   "cell_type": "code",
   "execution_count": null,
   "id": "211750bd",
   "metadata": {},
   "outputs": [],
   "source": []
  },
  {
   "cell_type": "markdown",
   "id": "3f781425",
   "metadata": {},
   "source": [
    "### Exercise 6"
   ]
  },
  {
   "cell_type": "markdown",
   "id": "37091a63",
   "metadata": {},
   "source": [
    "Access the first four columns for the first observation from the Iris data."
   ]
  },
  {
   "cell_type": "code",
   "execution_count": null,
   "id": "0600d21d",
   "metadata": {},
   "outputs": [],
   "source": []
  },
  {
   "cell_type": "markdown",
   "id": "41e3f3d2",
   "metadata": {},
   "source": [
    "## B. Visualization"
   ]
  },
  {
   "cell_type": "markdown",
   "id": "a8f70ddf",
   "metadata": {},
   "source": [
    "### Exercise 1"
   ]
  },
  {
   "cell_type": "markdown",
   "id": "336f1704",
   "metadata": {},
   "source": [
    "Create a bar plot to get the frequency of the 3 species of the Iris data."
   ]
  },
  {
   "cell_type": "code",
   "execution_count": null,
   "id": "78cfed9c",
   "metadata": {},
   "outputs": [],
   "source": []
  },
  {
   "cell_type": "markdown",
   "id": "bd28b3e3",
   "metadata": {},
   "source": [
    "### Exercise 2"
   ]
  },
  {
   "cell_type": "markdown",
   "id": "ace6c13d",
   "metadata": {},
   "source": [
    "Create a graph to find the relationship between the sepal length and sepal width of each species."
   ]
  },
  {
   "cell_type": "code",
   "execution_count": null,
   "id": "7c6bbd62",
   "metadata": {},
   "outputs": [],
   "source": []
  },
  {
   "cell_type": "markdown",
   "id": "fc1caa7b",
   "metadata": {},
   "source": [
    "### Exercise 3"
   ]
  },
  {
   "cell_type": "markdown",
   "id": "3527901d",
   "metadata": {},
   "source": [
    "Create a graph to find the relationship between the petal length and petal width of each species."
   ]
  },
  {
   "cell_type": "code",
   "execution_count": null,
   "id": "c8aefa9e",
   "metadata": {},
   "outputs": [],
   "source": []
  },
  {
   "cell_type": "markdown",
   "id": "6036863d",
   "metadata": {},
   "source": [
    "### Exercise 4"
   ]
  },
  {
   "cell_type": "markdown",
   "id": "5b1ba93d",
   "metadata": {},
   "source": [
    "Create 4 graphs to visualize the distribution of the sepal length, sepal width, petal length, and petal width."
   ]
  },
  {
   "cell_type": "code",
   "execution_count": null,
   "id": "c998d984",
   "metadata": {},
   "outputs": [],
   "source": []
  },
  {
   "cell_type": "markdown",
   "id": "cd20a4a2",
   "metadata": {},
   "source": [
    "### Exercise 5"
   ]
  },
  {
   "cell_type": "markdown",
   "id": "657b0a2b",
   "metadata": {},
   "source": [
    "Create a jointplot to describe individual distributions on the same plot between sepal length and sepal width."
   ]
  },
  {
   "cell_type": "code",
   "execution_count": null,
   "id": "6148d128",
   "metadata": {},
   "outputs": [],
   "source": []
  },
  {
   "cell_type": "markdown",
   "id": "e9ace67b",
   "metadata": {},
   "source": [
    "### Exercise 6"
   ]
  },
  {
   "cell_type": "markdown",
   "id": "d1eb9978",
   "metadata": {},
   "source": [
    "Create a jointplot using hexagonal bins to describe individual distributions on the same plot between sepal length and sepal width."
   ]
  },
  {
   "cell_type": "code",
   "execution_count": null,
   "id": "28a71069",
   "metadata": {},
   "outputs": [],
   "source": []
  },
  {
   "cell_type": "markdown",
   "id": "24a21de7",
   "metadata": {},
   "source": [
    "### Exercise 7"
   ]
  },
  {
   "cell_type": "markdown",
   "id": "aaeac7ef",
   "metadata": {},
   "source": [
    "Create a jointplot using kernel density estimation to describe individual distributions between sepal length and sepal width."
   ]
  },
  {
   "cell_type": "code",
   "execution_count": null,
   "id": "6a95ead5",
   "metadata": {},
   "outputs": [],
   "source": []
  },
  {
   "cell_type": "markdown",
   "id": "1feb53f2",
   "metadata": {},
   "source": [
    "### Exercise 8"
   ]
  },
  {
   "cell_type": "markdown",
   "id": "f308d5d5",
   "metadata": {},
   "source": [
    "Create a jointplot and add regression and KDE to describe individual distributions on the same plot between sepal length and sepal width."
   ]
  },
  {
   "cell_type": "code",
   "execution_count": null,
   "id": "b34d80ec",
   "metadata": {},
   "outputs": [],
   "source": []
  },
  {
   "cell_type": "markdown",
   "id": "35b68093",
   "metadata": {},
   "source": [
    "### Exercise 9"
   ]
  },
  {
   "cell_type": "markdown",
   "id": "6292c19a",
   "metadata": {},
   "source": [
    "Create a pairplot of the Iris data based on species."
   ]
  },
  {
   "cell_type": "code",
   "execution_count": null,
   "id": "5ae2e2fa",
   "metadata": {},
   "outputs": [],
   "source": []
  },
  {
   "cell_type": "markdown",
   "id": "8c393276",
   "metadata": {},
   "source": [
    "### Exercise 10"
   ]
  },
  {
   "cell_type": "markdown",
   "id": "b9255a22",
   "metadata": {},
   "source": [
    "Find the correlation between the independent variables of the Iris data and create a heatmap to present their relationships."
   ]
  },
  {
   "cell_type": "code",
   "execution_count": null,
   "id": "456be393",
   "metadata": {},
   "outputs": [],
   "source": []
  },
  {
   "cell_type": "markdown",
   "id": "fdf664a2",
   "metadata": {},
   "source": [
    "### Exercise 11"
   ]
  },
  {
   "cell_type": "markdown",
   "id": "98c46256",
   "metadata": {},
   "source": [
    "Conduct a principal component analysis (PCA) of the Iris dataset to reduce the number of dimensions from 4 to 2. Remember to create a features matrix with the independent variables first. Plot the results."
   ]
  },
  {
   "cell_type": "code",
   "execution_count": null,
   "id": "72cc79aa",
   "metadata": {},
   "outputs": [],
   "source": []
  },
  {
   "cell_type": "markdown",
   "id": "b3e9f24e",
   "metadata": {},
   "source": [
    "## C. Machine Learning Algorithms"
   ]
  },
  {
   "cell_type": "markdown",
   "id": "6a350233",
   "metadata": {},
   "source": [
    "In this section, utilize at least 3 machine learning algorithms (either discussed in class or from research you've conducted on your own) to create some models for this data.\n",
    "\n",
    "Some options include:\n",
    "\n",
    "- Gaussian mixture model (clustering)\n",
    "- K-nearest neighbors (clustering)\n",
    "- Gaussian naive Bayes (classification)\n",
    "- Logistic regression (classification)\n",
    "\n",
    "Split the Iris dataset into a training set and a testing set. Choose a class of model, instantiate the model instance with hyperparameters, fit the model, and produce some output (e.g., clusters, confusion matrices, etc.)."
   ]
  }
 ],
 "metadata": {
  "kernelspec": {
   "display_name": "Python 3 (ipykernel)",
   "language": "python",
   "name": "python3"
  },
  "language_info": {
   "codemirror_mode": {
    "name": "ipython",
    "version": 3
   },
   "file_extension": ".py",
   "mimetype": "text/x-python",
   "name": "python",
   "nbconvert_exporter": "python",
   "pygments_lexer": "ipython3",
   "version": "3.9.13"
  }
 },
 "nbformat": 4,
 "nbformat_minor": 5
}
