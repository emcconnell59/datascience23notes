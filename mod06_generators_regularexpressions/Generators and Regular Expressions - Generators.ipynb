{
 "cells": [
  {
   "cell_type": "markdown",
   "id": "b206d0c6",
   "metadata": {},
   "source": [
    "## Generators"
   ]
  },
  {
   "cell_type": "markdown",
   "id": "f87da7a6",
   "metadata": {},
   "source": [
    "Python generators are a simple way of creating iterators. All the work we mentioned in the previous notes are automatically handled by generators in Python. Simply speaking, a generator is a function that returns an object (iterator) which we can iterate over (one value at a time).\n",
    "\n",
    "Generators simplify the creation of iterators. A generator is a function that produces a sequence of results instead of a single value. Rather than using `return` to return a value once, generator functions use `yield` to yield a (potentially infinite) sequence of values:"
   ]
  },
  {
   "cell_type": "code",
   "execution_count": 38,
   "id": "c647db34",
   "metadata": {},
   "outputs": [],
   "source": [
    "def yrange(n):\n",
    "    i = 0\n",
    "    while i < n:\n",
    "        yield i\n",
    "        i += 1"
   ]
  },
  {
   "cell_type": "markdown",
   "id": "134c82aa",
   "metadata": {},
   "source": [
    "Each time the yield statement is executed, the function generates a new value."
   ]
  },
  {
   "cell_type": "code",
   "execution_count": 91,
   "id": "6cec2fd9",
   "metadata": {},
   "outputs": [
    {
     "name": "stdout",
     "output_type": "stream",
     "text": [
      "<generator object yrange at 0x7ff5d3314d60>\n"
     ]
    }
   ],
   "source": [
    "y = yrange(3)\n",
    "print(y)"
   ]
  },
  {
   "cell_type": "code",
   "execution_count": 92,
   "id": "3be7c422",
   "metadata": {},
   "outputs": [
    {
     "data": {
      "text/plain": [
       "0"
      ]
     },
     "execution_count": 92,
     "metadata": {},
     "output_type": "execute_result"
    }
   ],
   "source": [
    "next(y)"
   ]
  },
  {
   "cell_type": "markdown",
   "id": "c6bc4ce9",
   "metadata": {},
   "source": [
    "So, a generator is also an iterator. \n",
    "\n",
    "The word \"generator\" is confusingly used to mean both the function that generates and what it generates. We'll refer to the generated object as a \"generator\" and the function that generates it as a \"generator function\".\n",
    "\n",
    "When a generator function is called, it returns a generator object without even beginning execution of the function. When the next method is called for the first time, the function starts executing until it reaches the yield statement. The yielded value is returned by the next call.\n",
    "\n",
    "The following example demonstrates the interplay between the yield statement and the next method on a generator object:"
   ]
  },
  {
   "cell_type": "code",
   "execution_count": 121,
   "id": "bb0585d2",
   "metadata": {},
   "outputs": [
    {
     "name": "stdout",
     "output_type": "stream",
     "text": [
      "[1, 4, 9, 16, 25]\n"
     ]
    }
   ],
   "source": [
    "def integers():\n",
    "    \"\"\"Infinite sequence of integers.\"\"\"\n",
    "    i = 1\n",
    "    while True:\n",
    "        yield i\n",
    "        i = i + 1 # i += 1\n",
    "        \n",
    "def squares():\n",
    "    for i in integers():\n",
    "        yield i * i # i ** 2\n",
    "        \n",
    "def take(n, seq):\n",
    "    \"\"\"Returns first n values from the given sequence.\"\"\"\n",
    "    result = []\n",
    "    try:\n",
    "        for i in range(n):\n",
    "            result.append(next(seq))\n",
    "    except StopIteration:\n",
    "        pass # nothing happens, but you avoid getting an error when empty code is not allowed\n",
    "    return result\n",
    "\n",
    "print(take(5, squares()))"
   ]
  },
  {
   "cell_type": "code",
   "execution_count": 119,
   "id": "911eb41c",
   "metadata": {},
   "outputs": [],
   "source": [
    "x = squares()"
   ]
  },
  {
   "cell_type": "code",
   "execution_count": 120,
   "id": "30c1e90f",
   "metadata": {},
   "outputs": [
    {
     "data": {
      "text/plain": [
       "1"
      ]
     },
     "execution_count": 120,
     "metadata": {},
     "output_type": "execute_result"
    }
   ],
   "source": [
    "next(x)"
   ]
  },
  {
   "cell_type": "code",
   "execution_count": 34,
   "id": "4eaff6a6",
   "metadata": {},
   "outputs": [
    {
     "name": "stdout",
     "output_type": "stream",
     "text": [
      "Help on function integers in module __main__:\n",
      "\n",
      "integers()\n",
      "    Infinite sequence of integers.\n",
      "\n"
     ]
    }
   ],
   "source": [
    "help(integers)"
   ]
  },
  {
   "cell_type": "markdown",
   "id": "bd9b49f2",
   "metadata": {},
   "source": [
    "### Generator Expressions"
   ]
  },
  {
   "cell_type": "markdown",
   "id": "6a9a50f0",
   "metadata": {},
   "source": [
    "Generator expressions are the generator version of list comprehensions. They look like list comprehensions, but return a generator instead of a list:"
   ]
  },
  {
   "cell_type": "code",
   "execution_count": 128,
   "id": "aba152c6",
   "metadata": {},
   "outputs": [
    {
     "name": "stdout",
     "output_type": "stream",
     "text": [
      "<generator object <genexpr> at 0x7ff5d331e190>\n"
     ]
    }
   ],
   "source": [
    "a = (x * x for x in range(100))\n",
    "print(a)"
   ]
  },
  {
   "cell_type": "code",
   "execution_count": 125,
   "id": "60e34e82",
   "metadata": {},
   "outputs": [
    {
     "data": {
      "text/plain": [
       "328350"
      ]
     },
     "execution_count": 125,
     "metadata": {},
     "output_type": "execute_result"
    }
   ],
   "source": [
    "sum(a)"
   ]
  },
  {
   "cell_type": "markdown",
   "id": "69a7c4f6",
   "metadata": {},
   "source": [
    "We can use the generator expressions as arguments to various functions that consume iterators.\n",
    "\n",
    "Notice that printing the generator expression does not print the contents; one way to print the contents of a generator expression is to pass it to the `list` constructor:"
   ]
  },
  {
   "cell_type": "code",
   "execution_count": 122,
   "id": "e1db2e33",
   "metadata": {},
   "outputs": [
    {
     "data": {
      "text/plain": [
       "[0, 1, 4, 9, 16, 25, 36, 49, 64, 81, 100, 121]"
      ]
     },
     "execution_count": 122,
     "metadata": {},
     "output_type": "execute_result"
    }
   ],
   "source": [
    "G = (n ** 2 for n in range(12))\n",
    "list(G)"
   ]
  },
  {
   "cell_type": "markdown",
   "id": "a41d3783",
   "metadata": {},
   "source": [
    "### Lists - Collection of Values; Generator - Recipe for Producing Values"
   ]
  },
  {
   "cell_type": "markdown",
   "id": "1c77726a",
   "metadata": {},
   "source": [
    "When you create a list, you are actually building a collection of values, and there is some memory cost associated with that. When you create a generator, you are not building a collection of values, but a recipe for producing those values. Both expose the same iterator interface, as we can see here:"
   ]
  },
  {
   "cell_type": "code",
   "execution_count": 9,
   "id": "da0d4026",
   "metadata": {},
   "outputs": [
    {
     "name": "stdout",
     "output_type": "stream",
     "text": [
      "0 1 4 9 16 25 36 49 64 81 100 121 "
     ]
    }
   ],
   "source": [
    "L = [n ** 2 for n in range(12)]\n",
    "for val in L:\n",
    "    print(val, end=' ')"
   ]
  },
  {
   "cell_type": "code",
   "execution_count": 10,
   "id": "1ad0c2bf",
   "metadata": {},
   "outputs": [
    {
     "name": "stdout",
     "output_type": "stream",
     "text": [
      "0 1 4 9 16 25 36 49 64 81 100 121 "
     ]
    }
   ],
   "source": [
    "G = (n ** 2 for n in range(12))\n",
    "for val in G:\n",
    "    print(val, end=' ')"
   ]
  },
  {
   "cell_type": "markdown",
   "id": "4ed0d84f",
   "metadata": {},
   "source": [
    "The difference is that a generator expression does not actually compute the values until they are needed. This not only leads to memory efficiency, but to computational efficiency as well. This also means that while the size of a list is limited by available memory, the size of a generator expression is unlimited.\n",
    "\n",
    "An example of an infinite generator expression can be created using the `count` iterator defined in `itertools`. The `count` iterator will go on happily counting forever until you tell it to stop; this makes it convenient to create generators that will also go on forever:"
   ]
  },
  {
   "cell_type": "code",
   "execution_count": 132,
   "id": "17d48eb2",
   "metadata": {},
   "outputs": [
    {
     "name": "stdout",
     "output_type": "stream",
     "text": [
      "1 11 13 17 19 23 29 31 37 41 "
     ]
    }
   ],
   "source": [
    "from itertools import count\n",
    "factors = [2, 3, 5, 7]\n",
    "G = (i for i in count() if all(i % n > 0 for n in factors))\n",
    "for val in G:\n",
    "    print(val, end=' ')  \n",
    "    if val > 40: \n",
    "        break"
   ]
  },
  {
   "cell_type": "markdown",
   "id": "c3f65b6e",
   "metadata": {},
   "source": [
    "If we were to expand the list of factors appropriately, we would have the beginnings of a prime number generator."
   ]
  },
  {
   "cell_type": "markdown",
   "id": "386b8433",
   "metadata": {},
   "source": [
    "### Lists Can Be Interated Multiple Times; Generator Expressions are Single-Use"
   ]
  },
  {
   "cell_type": "markdown",
   "id": "091092e8",
   "metadata": {},
   "source": [
    "This is one of those potential gotchas of generator expressions. With a list, we can straightforwardly do this:"
   ]
  },
  {
   "cell_type": "code",
   "execution_count": 14,
   "id": "1ac6ab94",
   "metadata": {},
   "outputs": [
    {
     "name": "stdout",
     "output_type": "stream",
     "text": [
      "0 1 4 9 16 25 36 49 64 81 100 121 \n",
      "0 1 4 9 16 25 36 49 64 81 100 121 "
     ]
    }
   ],
   "source": [
    "L = [n ** 2 for n in range(12)]\n",
    "for val in L:\n",
    "    print(val, end=' ')\n",
    "    \n",
    "print()\n",
    "    \n",
    "for val in L:\n",
    "    print(val, end=' ')"
   ]
  },
  {
   "cell_type": "markdown",
   "id": "c836f357",
   "metadata": {},
   "source": [
    "A generator expression, on the other hand, is used up after one iteration:"
   ]
  },
  {
   "cell_type": "code",
   "execution_count": 17,
   "id": "7c5698f7",
   "metadata": {},
   "outputs": [
    {
     "data": {
      "text/plain": [
       "[0, 1, 4, 9, 16, 25, 36, 49, 64, 81, 100, 121]"
      ]
     },
     "execution_count": 17,
     "metadata": {},
     "output_type": "execute_result"
    }
   ],
   "source": [
    "G = (n ** 2 for n in range(12))\n",
    "list(G)"
   ]
  },
  {
   "cell_type": "code",
   "execution_count": 18,
   "id": "5e2d9f6d",
   "metadata": {},
   "outputs": [
    {
     "data": {
      "text/plain": [
       "[]"
      ]
     },
     "execution_count": 18,
     "metadata": {},
     "output_type": "execute_result"
    }
   ],
   "source": [
    "list(G)"
   ]
  },
  {
   "cell_type": "markdown",
   "id": "0d72f6b9",
   "metadata": {},
   "source": [
    "This can be very useful because it means iteration can be stopped and started:"
   ]
  },
  {
   "cell_type": "code",
   "execution_count": 19,
   "id": "035a82bc",
   "metadata": {},
   "outputs": [
    {
     "name": "stdout",
     "output_type": "stream",
     "text": [
      "0 1 4 9 16 25 36 \n",
      "doing something in between\n",
      "49 64 81 100 121 "
     ]
    }
   ],
   "source": [
    "G = (n ** 2 for n in range(12))\n",
    "for n in G:\n",
    "    print(n, end=' ')\n",
    "    if n > 30:\n",
    "        break\n",
    "        \n",
    "print(\"\\ndoing something in between\")\n",
    "\n",
    "for n in G:\n",
    "    print(n, end=' ')"
   ]
  },
  {
   "cell_type": "markdown",
   "id": "80f51ada",
   "metadata": {},
   "source": [
    "### Example: Prime Number Generator"
   ]
  },
  {
   "cell_type": "code",
   "execution_count": 21,
   "id": "b0cb2012",
   "metadata": {},
   "outputs": [
    {
     "name": "stdout",
     "output_type": "stream",
     "text": [
      "[2, 3, 5, 7, 11, 13, 17, 19, 23, 29, 31, 37, 41, 43, 47, 53, 59, 61, 67, 71, 73, 79, 83, 89, 97]\n"
     ]
    }
   ],
   "source": [
    "def gen_primes(N):\n",
    "    \"\"\"Generate primes up to N\"\"\"\n",
    "    primes = set()\n",
    "    for n in range(2, N):\n",
    "        if all(n % p > 0 for p in primes):\n",
    "            primes.add(n)\n",
    "            yield n\n",
    "            \n",
    "print(list(gen_primes(100)))"
   ]
  }
 ],
 "metadata": {
  "kernelspec": {
   "display_name": "Python 3 (ipykernel)",
   "language": "python",
   "name": "python3"
  },
  "language_info": {
   "codemirror_mode": {
    "name": "ipython",
    "version": 3
   },
   "file_extension": ".py",
   "mimetype": "text/x-python",
   "name": "python",
   "nbconvert_exporter": "python",
   "pygments_lexer": "ipython3",
   "version": "3.9.13"
  }
 },
 "nbformat": 4,
 "nbformat_minor": 5
}
