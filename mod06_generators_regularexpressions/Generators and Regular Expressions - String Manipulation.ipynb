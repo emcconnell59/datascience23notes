{
 "cells": [
  {
   "cell_type": "markdown",
   "id": "ab0847c7",
   "metadata": {},
   "source": [
    "## String Manipulation"
   ]
  },
  {
   "cell_type": "markdown",
   "id": "83d796b4",
   "metadata": {},
   "source": [
    "One place where the Python language really shines is in the manipulation of strings. This section will cover some of Python's built-in string methods and formatting operations before moving onto the extremely useful subject of *regular expressions*. Such string manipulation patterns come up often in the context of data science work, and is one big perk of Python in this context.\n",
    "\n",
    "Strings in Python can be defined using either single or double quotations (they are functionally equivalent):"
   ]
  },
  {
   "cell_type": "code",
   "execution_count": 1,
   "id": "e476e8e1",
   "metadata": {},
   "outputs": [
    {
     "data": {
      "text/plain": [
       "True"
      ]
     },
     "execution_count": 1,
     "metadata": {},
     "output_type": "execute_result"
    }
   ],
   "source": [
    "x = 'a string'\n",
    "y = \"a string\"\n",
    "x == y"
   ]
  },
  {
   "cell_type": "markdown",
   "id": "d2993dc3",
   "metadata": {},
   "source": [
    "In addition, it is possible to define multi-line strings using a triple-quote syntax:"
   ]
  },
  {
   "cell_type": "code",
   "execution_count": 2,
   "id": "b1f1ec0b",
   "metadata": {},
   "outputs": [
    {
     "name": "stdout",
     "output_type": "stream",
     "text": [
      "\n",
      "one\n",
      "four\n",
      "six\n",
      "seven\n",
      "two\n",
      "three\n"
     ]
    }
   ],
   "source": [
    "multiline = \"\"\"\n",
    "one\n",
    "four\n",
    "six\n",
    "seven\n",
    "two\n",
    "three\"\"\"\n",
    "print(multiline)"
   ]
  },
  {
   "cell_type": "markdown",
   "id": "e1aa4f69",
   "metadata": {},
   "source": [
    "With this, let's take a quick tour of some of Python's string manipulation tools."
   ]
  },
  {
   "cell_type": "markdown",
   "id": "5bf07546",
   "metadata": {},
   "source": [
    "### Simple String Manipulation in Python"
   ]
  },
  {
   "cell_type": "markdown",
   "id": "fd29b3f5",
   "metadata": {},
   "source": [
    "For basic manipulation of strings, Python's built-in string methods can be extremely convenient. We introduced Python's string type and a few of these methods earlier; here, we'll dive a bit deeper."
   ]
  },
  {
   "cell_type": "markdown",
   "id": "70e7d7db",
   "metadata": {},
   "source": [
    "#### Formatting Strings: Adjusting Case"
   ]
  },
  {
   "cell_type": "markdown",
   "id": "c5735fbd",
   "metadata": {},
   "source": [
    "Python makes it quite easy to adjust the case of a string. Here, we'll look at the `upper()`, `lower()`, `capitalize()`, `title()`, and `swapcase()` methods, using the following messy string as an example:"
   ]
  },
  {
   "cell_type": "code",
   "execution_count": 3,
   "id": "541a2cf3",
   "metadata": {},
   "outputs": [],
   "source": [
    "sentence = \"tHe qUICk bROWn fOx.\""
   ]
  },
  {
   "cell_type": "markdown",
   "id": "237236d0",
   "metadata": {},
   "source": [
    "To convert the entire string into uppercase or lowercase, you can use the `upper()` or `lower()` methods, respectively:"
   ]
  },
  {
   "cell_type": "code",
   "execution_count": 4,
   "id": "03f514f3",
   "metadata": {},
   "outputs": [
    {
     "data": {
      "text/plain": [
       "'THE QUICK BROWN FOX.'"
      ]
     },
     "execution_count": 4,
     "metadata": {},
     "output_type": "execute_result"
    }
   ],
   "source": [
    "sentence.upper()"
   ]
  },
  {
   "cell_type": "code",
   "execution_count": 5,
   "id": "20935e1c",
   "metadata": {},
   "outputs": [
    {
     "data": {
      "text/plain": [
       "'the quick brown fox.'"
      ]
     },
     "execution_count": 5,
     "metadata": {},
     "output_type": "execute_result"
    }
   ],
   "source": [
    "sentence.lower()"
   ]
  },
  {
   "cell_type": "markdown",
   "id": "837bd2cb",
   "metadata": {},
   "source": [
    "A common formatting need is to capitalize just the first letter of each word, or perhaps the first letter of each sentence. This can be done with the `title()` and `capitalize()` methods:"
   ]
  },
  {
   "cell_type": "code",
   "execution_count": 6,
   "id": "97b50fdb",
   "metadata": {},
   "outputs": [
    {
     "data": {
      "text/plain": [
       "'The Quick Brown Fox.'"
      ]
     },
     "execution_count": 6,
     "metadata": {},
     "output_type": "execute_result"
    }
   ],
   "source": [
    "sentence.title()"
   ]
  },
  {
   "cell_type": "code",
   "execution_count": 7,
   "id": "ecbc9449",
   "metadata": {},
   "outputs": [
    {
     "data": {
      "text/plain": [
       "'The quick brown fox.'"
      ]
     },
     "execution_count": 7,
     "metadata": {},
     "output_type": "execute_result"
    }
   ],
   "source": [
    "sentence.capitalize()"
   ]
  },
  {
   "cell_type": "markdown",
   "id": "98c7a370",
   "metadata": {},
   "source": [
    "The cases can be swapped using the `swapcase()` method:"
   ]
  },
  {
   "cell_type": "code",
   "execution_count": 8,
   "id": "fa7fd183",
   "metadata": {},
   "outputs": [
    {
     "data": {
      "text/plain": [
       "'ThE QuicK BrowN FoX.'"
      ]
     },
     "execution_count": 8,
     "metadata": {},
     "output_type": "execute_result"
    }
   ],
   "source": [
    "sentence.swapcase()"
   ]
  },
  {
   "cell_type": "markdown",
   "id": "3ee1f030",
   "metadata": {},
   "source": [
    "#### Formatting Strings: Adding and Removing Spaces"
   ]
  },
  {
   "cell_type": "markdown",
   "id": "9115c93d",
   "metadata": {},
   "source": [
    "Another common need is to remove spaces (or other characters) from the beginning or end of the string. The basic method of removing characters is the `strip()` method, which strips whitespace from the beginning and end of the line:"
   ]
  },
  {
   "cell_type": "code",
   "execution_count": 9,
   "id": "0fb9091f",
   "metadata": {},
   "outputs": [
    {
     "data": {
      "text/plain": [
       "'this is the content'"
      ]
     },
     "execution_count": 9,
     "metadata": {},
     "output_type": "execute_result"
    }
   ],
   "source": [
    "line = '         this is the content         '\n",
    "line.strip()"
   ]
  },
  {
   "cell_type": "markdown",
   "id": "83c64049",
   "metadata": {},
   "source": [
    "To remove just space to the right or left, use `rstrip()` or `lstrip()`, respectively:"
   ]
  },
  {
   "cell_type": "code",
   "execution_count": 10,
   "id": "a3930a30",
   "metadata": {},
   "outputs": [
    {
     "data": {
      "text/plain": [
       "'         this is the content'"
      ]
     },
     "execution_count": 10,
     "metadata": {},
     "output_type": "execute_result"
    }
   ],
   "source": [
    "line.rstrip()"
   ]
  },
  {
   "cell_type": "code",
   "execution_count": 11,
   "id": "8eaa0fbe",
   "metadata": {},
   "outputs": [
    {
     "data": {
      "text/plain": [
       "'this is the content         '"
      ]
     },
     "execution_count": 11,
     "metadata": {},
     "output_type": "execute_result"
    }
   ],
   "source": [
    "line.lstrip()"
   ]
  },
  {
   "cell_type": "markdown",
   "id": "553b27f0",
   "metadata": {},
   "source": [
    "To remove characters other than spaces, you can pass the desired character to the `strip()` method:"
   ]
  },
  {
   "cell_type": "code",
   "execution_count": 39,
   "id": "72af9b91",
   "metadata": {},
   "outputs": [
    {
     "data": {
      "text/plain": [
       "'435'"
      ]
     },
     "execution_count": 39,
     "metadata": {},
     "output_type": "execute_result"
    }
   ],
   "source": [
    "num = \"ddfddddfd435dfdfdfd\"\n",
    "num.strip('df')"
   ]
  },
  {
   "cell_type": "markdown",
   "id": "dea88103",
   "metadata": {},
   "source": [
    "The opposite of this operation, adding spaces or other characters, can be accomplished using the `center()`, `ljust()`, and `rjust()` methods.\n",
    "\n",
    "For example, we can use the `center()` method to center a given string within a given number of spaces:"
   ]
  },
  {
   "cell_type": "code",
   "execution_count": 13,
   "id": "6d31dabe",
   "metadata": {},
   "outputs": [
    {
     "data": {
      "text/plain": [
       "'     this is the content      '"
      ]
     },
     "execution_count": 13,
     "metadata": {},
     "output_type": "execute_result"
    }
   ],
   "source": [
    "line = \"this is the content\"\n",
    "line.center(30)"
   ]
  },
  {
   "cell_type": "markdown",
   "id": "bc5a1460",
   "metadata": {},
   "source": [
    "Similarly, `ljust()` and `rjust()` will left-justify or right-justify the string within spaces of a given length:"
   ]
  },
  {
   "cell_type": "code",
   "execution_count": 14,
   "id": "6926d592",
   "metadata": {},
   "outputs": [
    {
     "data": {
      "text/plain": [
       "'this is the content           '"
      ]
     },
     "execution_count": 14,
     "metadata": {},
     "output_type": "execute_result"
    }
   ],
   "source": [
    "line.ljust(30)"
   ]
  },
  {
   "cell_type": "code",
   "execution_count": 15,
   "id": "39b774ef",
   "metadata": {},
   "outputs": [
    {
     "data": {
      "text/plain": [
       "'           this is the content'"
      ]
     },
     "execution_count": 15,
     "metadata": {},
     "output_type": "execute_result"
    }
   ],
   "source": [
    "line.rjust(30)"
   ]
  },
  {
   "cell_type": "markdown",
   "id": "32ce9a5f",
   "metadata": {},
   "source": [
    "All these methods additionally accept any character which will be used to fill the space. For example:"
   ]
  },
  {
   "cell_type": "code",
   "execution_count": 16,
   "id": "86a2c345",
   "metadata": {},
   "outputs": [
    {
     "data": {
      "text/plain": [
       "'0000000435'"
      ]
     },
     "execution_count": 16,
     "metadata": {},
     "output_type": "execute_result"
    }
   ],
   "source": [
    "'435'.rjust(10, '0')"
   ]
  },
  {
   "cell_type": "markdown",
   "id": "fd7c1981",
   "metadata": {},
   "source": [
    "Because zero-filling is such a common need, Python also provides `zfill()`, which is a special method to right-pad a string with zeros:"
   ]
  },
  {
   "cell_type": "code",
   "execution_count": 17,
   "id": "7cff2ee3",
   "metadata": {},
   "outputs": [
    {
     "data": {
      "text/plain": [
       "'0000000435'"
      ]
     },
     "execution_count": 17,
     "metadata": {},
     "output_type": "execute_result"
    }
   ],
   "source": [
    "'435'.zfill(10)"
   ]
  },
  {
   "cell_type": "markdown",
   "id": "e34be74b",
   "metadata": {},
   "source": [
    "#### Finding and Replacing Substrings"
   ]
  },
  {
   "cell_type": "markdown",
   "id": "d7100303",
   "metadata": {},
   "source": [
    "If you want to find occurrences of a certain character in a string, the `find()`/`rfind()`, `index()`/`rindex()`, and `replace()` methods are the best built-in methods.\n",
    "\n",
    "`find()` and `index()` are very similar in that they search for the first occurrence of a character or substring within a string, and return the index of the substring:"
   ]
  },
  {
   "cell_type": "code",
   "execution_count": 43,
   "id": "8c51ad23",
   "metadata": {},
   "outputs": [
    {
     "data": {
      "text/plain": [
       "39"
      ]
     },
     "execution_count": 43,
     "metadata": {},
     "output_type": "execute_result"
    }
   ],
   "source": [
    "line = \"the quick brown fox jumped over a lazy dog\"\n",
    "line.find(\"dog\")"
   ]
  },
  {
   "cell_type": "code",
   "execution_count": 19,
   "id": "555cbce6",
   "metadata": {},
   "outputs": [
    {
     "data": {
      "text/plain": [
       "39"
      ]
     },
     "execution_count": 19,
     "metadata": {},
     "output_type": "execute_result"
    }
   ],
   "source": [
    "line.index(\"dog\")"
   ]
  },
  {
   "cell_type": "markdown",
   "id": "90f4f0cf",
   "metadata": {},
   "source": [
    "The only difference between `find()` and `index()` is their behavior when the search string is not found; `find()` returns `-1`, while `index()` raises a `ValueError`:"
   ]
  },
  {
   "cell_type": "code",
   "execution_count": 20,
   "id": "5aa505e7",
   "metadata": {},
   "outputs": [
    {
     "data": {
      "text/plain": [
       "-1"
      ]
     },
     "execution_count": 20,
     "metadata": {},
     "output_type": "execute_result"
    }
   ],
   "source": [
    "line.find(\"snake\")"
   ]
  },
  {
   "cell_type": "code",
   "execution_count": 21,
   "id": "62f6505e",
   "metadata": {},
   "outputs": [
    {
     "ename": "ValueError",
     "evalue": "substring not found",
     "output_type": "error",
     "traceback": [
      "\u001b[0;31m---------------------------------------------------------------------------\u001b[0m",
      "\u001b[0;31mValueError\u001b[0m                                Traceback (most recent call last)",
      "\u001b[0;32m/var/folders/vy/r2k1d_qd7qq72mp6t471xvq80000gp/T/ipykernel_92762/831781902.py\u001b[0m in \u001b[0;36m<module>\u001b[0;34m\u001b[0m\n\u001b[0;32m----> 1\u001b[0;31m \u001b[0mline\u001b[0m\u001b[0;34m.\u001b[0m\u001b[0mindex\u001b[0m\u001b[0;34m(\u001b[0m\u001b[0;34m\"bear\"\u001b[0m\u001b[0;34m)\u001b[0m\u001b[0;34m\u001b[0m\u001b[0;34m\u001b[0m\u001b[0m\n\u001b[0m",
      "\u001b[0;31mValueError\u001b[0m: substring not found"
     ]
    }
   ],
   "source": [
    "line.index(\"bear\")"
   ]
  },
  {
   "cell_type": "markdown",
   "id": "3547253e",
   "metadata": {},
   "source": [
    "The related `rfind()` and `rindex()` work similarly, except they search for the first occurrence from the end rather than the beginning of the string:"
   ]
  },
  {
   "cell_type": "code",
   "execution_count": 40,
   "id": "da7022df",
   "metadata": {},
   "outputs": [
    {
     "name": "stdout",
     "output_type": "stream",
     "text": [
      "the quick brown fox jumped over a lazy dog\n"
     ]
    }
   ],
   "source": [
    "print(line)"
   ]
  },
  {
   "cell_type": "code",
   "execution_count": 44,
   "id": "65b73f0d",
   "metadata": {},
   "outputs": [
    {
     "data": {
      "text/plain": [
       "39"
      ]
     },
     "execution_count": 44,
     "metadata": {},
     "output_type": "execute_result"
    }
   ],
   "source": [
    "line.rfind(\"dog\")"
   ]
  },
  {
   "cell_type": "markdown",
   "id": "feac6622",
   "metadata": {},
   "source": [
    "For the special case of checking for a substring at the beginning or end of a string, Python provides the `startswith()` and `endswith()` methods:"
   ]
  },
  {
   "cell_type": "code",
   "execution_count": 46,
   "id": "8f0f95a0",
   "metadata": {},
   "outputs": [
    {
     "data": {
      "text/plain": [
       "True"
      ]
     },
     "execution_count": 46,
     "metadata": {},
     "output_type": "execute_result"
    }
   ],
   "source": [
    "line.endswith(\"dog\")"
   ]
  },
  {
   "cell_type": "code",
   "execution_count": 48,
   "id": "8086e48d",
   "metadata": {},
   "outputs": [
    {
     "data": {
      "text/plain": [
       "True"
      ]
     },
     "execution_count": 48,
     "metadata": {},
     "output_type": "execute_result"
    }
   ],
   "source": [
    "line.startswith(\"the\")"
   ]
  },
  {
   "cell_type": "markdown",
   "id": "028ca5bc",
   "metadata": {},
   "source": [
    "To go one step further and replace a given substring with a new string, you can use the `replace()` method. Here, let's replace `'brown'` with `'red'`:"
   ]
  },
  {
   "cell_type": "code",
   "execution_count": 25,
   "id": "d063e4b6",
   "metadata": {},
   "outputs": [
    {
     "data": {
      "text/plain": [
       "'the quick red fox jumped over a lazy dog'"
      ]
     },
     "execution_count": 25,
     "metadata": {},
     "output_type": "execute_result"
    }
   ],
   "source": [
    "line.replace(\"brown\", \"red\")"
   ]
  },
  {
   "cell_type": "markdown",
   "id": "aeb79f5d",
   "metadata": {},
   "source": [
    "The `replace()` function returns a new string, and will replace all occurrences of the input:"
   ]
  },
  {
   "cell_type": "code",
   "execution_count": 26,
   "id": "36386503",
   "metadata": {},
   "outputs": [
    {
     "data": {
      "text/plain": [
       "'the quick br--wn f--x jumped --ver a lazy d--g'"
      ]
     },
     "execution_count": 26,
     "metadata": {},
     "output_type": "execute_result"
    }
   ],
   "source": [
    "line.replace('o', '--')"
   ]
  },
  {
   "cell_type": "markdown",
   "id": "4d49c2b5",
   "metadata": {},
   "source": [
    "#### Splitting and Partitioning Strings"
   ]
  },
  {
   "cell_type": "markdown",
   "id": "364051aa",
   "metadata": {},
   "source": [
    "If you would like to find a substring *and then* split the string based on its location, the `partition()` and/or `split()` methods are what you're looking for. Both will return a sequence of substrings.\n",
    "\n",
    "The `partition()` method returns a tuple with three elements: the substring before the first instance of the split-point, the split-point itself, and the substring after:"
   ]
  },
  {
   "cell_type": "code",
   "execution_count": 27,
   "id": "f931525e",
   "metadata": {},
   "outputs": [
    {
     "data": {
      "text/plain": [
       "('the quick brown ', 'fox', ' jumped over a lazy dog')"
      ]
     },
     "execution_count": 27,
     "metadata": {},
     "output_type": "execute_result"
    }
   ],
   "source": [
    "line.partition(\"fox\")"
   ]
  },
  {
   "cell_type": "markdown",
   "id": "5943ff75",
   "metadata": {},
   "source": [
    "The `rpartition()` method is similar, but searches from the right of the string.\n",
    "\n",
    "The `split()` method is perhaps more useful; it finds *all* instances of the split-point and returns the substrings in between. The default is to split on any whitespace, returning a list of the individual words in a string:"
   ]
  },
  {
   "cell_type": "code",
   "execution_count": 50,
   "id": "d0aba829",
   "metadata": {},
   "outputs": [
    {
     "data": {
      "text/plain": [
       "['the', 'quick', 'brown', 'fox', 'jumped', 'over', 'a', 'lazy', 'dog']"
      ]
     },
     "execution_count": 50,
     "metadata": {},
     "output_type": "execute_result"
    }
   ],
   "source": [
    "line.split()"
   ]
  },
  {
   "cell_type": "markdown",
   "id": "227ca84e",
   "metadata": {},
   "source": [
    "A related method is `splitlines()`, which splits on newline characters. Here's an example:"
   ]
  },
  {
   "cell_type": "code",
   "execution_count": 52,
   "id": "264a2e62",
   "metadata": {},
   "outputs": [
    {
     "data": {
      "text/plain": [
       "['', 'one', 'four', 'six', 'seven', 'two', 'three']"
      ]
     },
     "execution_count": 52,
     "metadata": {},
     "output_type": "execute_result"
    }
   ],
   "source": [
    "multiline = \"\"\"\n",
    "one\n",
    "four\n",
    "six\n",
    "seven\n",
    "two\n",
    "three\"\"\"\n",
    "\n",
    "multiline.splitlines()"
   ]
  },
  {
   "cell_type": "markdown",
   "id": "6c2963b3",
   "metadata": {},
   "source": [
    "Note that if you would like to undo a `split()`, you can use the `join()` method, which returns a string built from a split-point and an iterable:"
   ]
  },
  {
   "cell_type": "code",
   "execution_count": 30,
   "id": "98d40ca8",
   "metadata": {},
   "outputs": [
    {
     "data": {
      "text/plain": [
       "'1--2--3'"
      ]
     },
     "execution_count": 30,
     "metadata": {},
     "output_type": "execute_result"
    }
   ],
   "source": [
    "'--'.join(['1', '2', '3'])"
   ]
  },
  {
   "cell_type": "markdown",
   "id": "86f82f78",
   "metadata": {},
   "source": [
    "A common pattern is to use the special character `\"\\n\"` (newline) to join together lines that have been previously split, and recover the input:"
   ]
  },
  {
   "cell_type": "code",
   "execution_count": 31,
   "id": "70223a9f",
   "metadata": {},
   "outputs": [
    {
     "name": "stdout",
     "output_type": "stream",
     "text": [
      "one\n",
      "four\n",
      "six\n",
      "seven\n",
      "two\n",
      "three\n"
     ]
    }
   ],
   "source": [
    "print(\"\\n\".join(['one', 'four', 'six', 'seven', 'two', 'three']))"
   ]
  },
  {
   "cell_type": "markdown",
   "id": "fe497524",
   "metadata": {},
   "source": [
    "### Format Strings"
   ]
  },
  {
   "cell_type": "markdown",
   "id": "ba9958bc",
   "metadata": {},
   "source": [
    "In the preceding methods, we have learned how to extract values from strings and to manipulate strings themselves into desired formats. Another use of string methods is to manipulate string *representations* of values of other types. Of course, string representations can always be found using the `str()` function. For example:"
   ]
  },
  {
   "cell_type": "code",
   "execution_count": 32,
   "id": "03a1458b",
   "metadata": {},
   "outputs": [
    {
     "data": {
      "text/plain": [
       "'3.14159'"
      ]
     },
     "execution_count": 32,
     "metadata": {},
     "output_type": "execute_result"
    }
   ],
   "source": [
    "pi = 3.14159\n",
    "str(pi)"
   ]
  },
  {
   "cell_type": "markdown",
   "id": "03ec8294",
   "metadata": {},
   "source": [
    "For more complicated formats, you might be tempted to use string arithmetic:"
   ]
  },
  {
   "cell_type": "code",
   "execution_count": 33,
   "id": "ab3675ab",
   "metadata": {},
   "outputs": [
    {
     "data": {
      "text/plain": [
       "'The value of pi is 3.14159'"
      ]
     },
     "execution_count": 33,
     "metadata": {},
     "output_type": "execute_result"
    }
   ],
   "source": [
    "\"The value of pi is \" + str(pi)"
   ]
  },
  {
   "cell_type": "markdown",
   "id": "afe5a87b",
   "metadata": {},
   "source": [
    "A more flexible way to do this is to use *format strings*, which are strings with special markers (noted by curly braces) into which string-formatted values will be inserted. Here is a basic example:"
   ]
  },
  {
   "cell_type": "code",
   "execution_count": 34,
   "id": "0de861d1",
   "metadata": {},
   "outputs": [
    {
     "data": {
      "text/plain": [
       "'The value of pi is 3.14159'"
      ]
     },
     "execution_count": 34,
     "metadata": {},
     "output_type": "execute_result"
    }
   ],
   "source": [
    "\"The value of pi is {}\".format(pi)"
   ]
  },
  {
   "cell_type": "markdown",
   "id": "c430b63c",
   "metadata": {},
   "source": [
    "Inside the `{}` marker, you can also include information on exactly *what* you would like to appear there. If you include a number, it will refer to the index of the argument to insert:"
   ]
  },
  {
   "cell_type": "code",
   "execution_count": 35,
   "id": "bd4f88f3",
   "metadata": {},
   "outputs": [
    {
     "data": {
      "text/plain": [
       "'First letter: A. Last letter: Z.'"
      ]
     },
     "execution_count": 35,
     "metadata": {},
     "output_type": "execute_result"
    }
   ],
   "source": [
    "\"First letter: {0}. Last letter: {1}.\".format('A', 'Z')"
   ]
  },
  {
   "cell_type": "markdown",
   "id": "d9e7c9bc",
   "metadata": {},
   "source": [
    "If you include a string, it will refer to the key of any keyword argument:"
   ]
  },
  {
   "cell_type": "code",
   "execution_count": 36,
   "id": "93051413",
   "metadata": {},
   "outputs": [
    {
     "data": {
      "text/plain": [
       "'First letter: A. Last letter: Z.'"
      ]
     },
     "execution_count": 36,
     "metadata": {},
     "output_type": "execute_result"
    }
   ],
   "source": [
    "\"First letter: {first}. Last letter: {last}.\".format(last='Z', first='A')"
   ]
  },
  {
   "cell_type": "markdown",
   "id": "4b6b683c",
   "metadata": {},
   "source": [
    "Finally, for numerical inputs, you can include format codes which control how the value is converted to a string. For example, to print a number as a floating point with three digits after the decimal point, you can use the following:"
   ]
  },
  {
   "cell_type": "code",
   "execution_count": 37,
   "id": "1925060f",
   "metadata": {},
   "outputs": [
    {
     "data": {
      "text/plain": [
       "'pi = 3.142'"
      ]
     },
     "execution_count": 37,
     "metadata": {},
     "output_type": "execute_result"
    }
   ],
   "source": [
    "\"pi = {0:.3f}\".format(pi)"
   ]
  },
  {
   "cell_type": "markdown",
   "id": "5e197272",
   "metadata": {},
   "source": [
    "As before, here the \"`0`\" refers to the index of the value to be inserted. The \"`:`\" marks that format codes will follow. The \"`.3f`\" encodes the desired precision: three digits beyond the decimal point, floating-point format."
   ]
  }
 ],
 "metadata": {
  "kernelspec": {
   "display_name": "Python 3 (ipykernel)",
   "language": "python",
   "name": "python3"
  },
  "language_info": {
   "codemirror_mode": {
    "name": "ipython",
    "version": 3
   },
   "file_extension": ".py",
   "mimetype": "text/x-python",
   "name": "python",
   "nbconvert_exporter": "python",
   "pygments_lexer": "ipython3",
   "version": "3.9.13"
  }
 },
 "nbformat": 4,
 "nbformat_minor": 5
}
