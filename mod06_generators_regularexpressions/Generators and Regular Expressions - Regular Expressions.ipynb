{
 "cells": [
  {
   "cell_type": "markdown",
   "id": "9a49ee59",
   "metadata": {},
   "source": [
    "## Regular Expressions"
   ]
  },
  {
   "cell_type": "markdown",
   "id": "41c70486",
   "metadata": {},
   "source": [
    "The methods of Python's `str` type give you a powerful set of tools for formatting, splitting, and manipulating string data. But even more powerful tools are available in Python's built-in *regular expression* module.\n",
    "\n",
    "Fundamentally, regular expressions are a means of *flexible pattern matching* in strings.\n",
    "\n",
    "The Python interface to regular expressions is contained in the built-in `re` module. We can duplicate a lot of the functionality of the methods of strings with regular expressions.\n",
    "\n",
    "As an example, we can check whether a string begins with some substring as follows:"
   ]
  },
  {
   "cell_type": "code",
   "execution_count": 29,
   "id": "73141ba2",
   "metadata": {},
   "outputs": [
    {
     "data": {
      "text/plain": [
       "True"
      ]
     },
     "execution_count": 29,
     "metadata": {},
     "output_type": "execute_result"
    }
   ],
   "source": [
    "txt = 'Apple computer'\n",
    "txt.startswith('Apple')"
   ]
  },
  {
   "cell_type": "markdown",
   "id": "e5a95528",
   "metadata": {},
   "source": [
    "If we would like to know whether it starts with `\"Apple\"` or `\"apple\"`, we would have to call the `startswith` method twice. Regular expressions offer a simpler solution:"
   ]
  },
  {
   "cell_type": "code",
   "execution_count": 30,
   "id": "9f93fa2b",
   "metadata": {},
   "outputs": [
    {
     "data": {
      "text/plain": [
       "<re.Match object; span=(0, 5), match='Apple'>"
      ]
     },
     "execution_count": 30,
     "metadata": {},
     "output_type": "execute_result"
    }
   ],
   "source": [
    "import re\n",
    "re.match(r\"[Aa]pple\", txt)"
   ]
  },
  {
   "cell_type": "markdown",
   "id": "b14bbffe",
   "metadata": {},
   "source": [
    "The bracket notation is one example of the special syntax of *regular expressions*. In this case, it says that any of the characters inside the brackets will do: either `\"A\"` or `\"a\"`. The other letters in `\"pple\"` will act normally. The string `r\"[Aa]pple\"` is called a *pattern*.\n",
    "\n",
    "A more complicated example asks whether the string starts with either `apple` or `banana` (no matter if the first letter is capital or not):"
   ]
  },
  {
   "cell_type": "code",
   "execution_count": 31,
   "id": "b41bedd0",
   "metadata": {},
   "outputs": [
    {
     "name": "stdout",
     "output_type": "stream",
     "text": [
      "Yay!\n"
     ]
    }
   ],
   "source": [
    "if re.match(r\"[Aa]pple|[Bb]anana\", txt):\n",
    "    print(\"Yay!\")"
   ]
  },
  {
   "cell_type": "markdown",
   "id": "dc4af97d",
   "metadata": {},
   "source": [
    "In this example, we see a new special character `|` that denotes an alternative. On either side of the bar character, we have a *subpattern*.\n",
    "\n",
    "A legal variable name in Python starts with a letter or an underscore and the following characters can be digits. So, for instance, legal names are `_hidden`, `L_value`, `A123_`, but the name `2abc` is not a valid variable name. The regular expression pattern to recognize valid variable names would be:\n",
    "\n",
    "`r\"[A-Za-z_][A-Za-z_0-9]*\\Z\"`\n",
    "\n",
    "The first character of the variable name is defined in the first brackets. The subsequent characters are defined in the second brackets. The special character `*` means that we allow any number (0, 1, 2, ...) of the previous subpattern. For example, the pattern `r\"ba*\"` allows strings `\"b\"`, `\"ba\"`, `\"baa\"`, `\"baaa\"`, and so on. The special syntax `\\Z` denotes the end of the string.\n",
    "\n",
    "The special notations, like `\\Z`, also cause problems with string handling. Normally in string literals, we have some special notation:\n",
    "\n",
    "- `\\n` stands for newline\n",
    "- `\\t` stands for tab\n",
    "- And more ...\n",
    "\n",
    "So, both string literals and regular expressions use similar looking notations, which can create serious confusion. This can be solved by using *raw strings*. We denote a raw string by having an `r` letter before the first quotation mark, like `r\"ab*\\Z\"`. When using raw string, the newline (`\\n`), tab (`\\t`), and other special string literal notations aren't interpreted. One should always use raw strings when defining regular expression patterns."
   ]
  },
  {
   "cell_type": "markdown",
   "id": "2ad5ca19",
   "metadata": {},
   "source": [
    "### Patterns"
   ]
  },
  {
   "cell_type": "markdown",
   "id": "b902207b",
   "metadata": {},
   "source": [
    "A pattern represents a set of strings. This set can be potentially infinite. In patterns, normal characters (letters, numbers) just represent themselves, unless preceded by a backslash, which may trigger some special meaning. Punctuation characters have special meaning, unless preceded by a backslash (`\\`), which deprives their special meaning. Use `\\\\` to represent backslash character without any special meaning. "
   ]
  },
  {
   "cell_type": "markdown",
   "id": "2b993e38",
   "metadata": {},
   "source": [
    "#### Special Characters Match Character Groups"
   ]
  },
  {
   "cell_type": "markdown",
   "id": "745d8965",
   "metadata": {},
   "source": [
    "In the following, note that a carat (`^`) as the first character inside brackets will create a complement set of characters:\n",
    "\n",
    "- `\\d`: matches a digit, same as `[0-9]`\n",
    "- `\\D`: matches anything but a digit, same as `[^0-9]`\n",
    "- `\\s`: matches a whitespace character (space, newline, tab, ...)\n",
    "- `\\S`: matches a nonwhitespace character\n",
    "- `\\w`: matches one alphanumeric character, same as `[a-zA-Z0-9_]`\n",
    "- `\\W`: matches one non-alphanumeric character, same as `[^a-zA-Z0-9_]`\n",
    "\n",
    "Using the above notation, we can shorten our previous variable name example, `r\"[A-Za-z_][A-Za-z_0-9]*\\Z\"`, to `r\"[a-zA-Z_]\\w*\\Z\"`.\n",
    "\n",
    "Another example of these:"
   ]
  },
  {
   "cell_type": "code",
   "execution_count": 18,
   "id": "0bea3c10",
   "metadata": {},
   "outputs": [
    {
     "data": {
      "text/plain": [
       "['e f', 'x i', 's 9', 's o']"
      ]
     },
     "execution_count": 18,
     "metadata": {},
     "output_type": "execute_result"
    }
   ],
   "source": [
    "regex = re.compile(r\"\\w\\s\\w\")\n",
    "regex.findall(\"the fox is 9 years old\")"
   ]
  },
  {
   "cell_type": "markdown",
   "id": "1a30cb47",
   "metadata": {},
   "source": [
    "The patterns `\\A`, `\\b`, `\\B`, and `\\Z` will all match an empty string, but in specific places. The patterns `\\A` and `\\Z` will recognize the beginning and end of the string, respectively. \n",
    "\n",
    "The pattern `\\b` matches at the start or end of a word, or the \"word boundary\". There are three different positions that qualify as word boundaries:\n",
    "\n",
    "1. Before the first character in a string\n",
    "2. After the last character in a string\n",
    "3. Between two characters in the string, where one is an alphanumeric character and the other is a non-alphanumeric character\n",
    "\n",
    "Simply put, `\\b` allows you to perform a \"whole words only\" search using a regular expression in the form of `\\bword\\b`. \n",
    "\n",
    "The pattern `\\B` does the reverse of `\\b` and matches at every position that `\\b` does not. Effectively, `\\B` matches at any position between two alphanumeric characters as well as at any position between two non-alphanumeric characters."
   ]
  },
  {
   "cell_type": "markdown",
   "id": "a25e4396",
   "metadata": {},
   "source": [
    "#### Wildcards Match Repeated Characters"
   ]
  },
  {
   "cell_type": "markdown",
   "id": "8abb89ea",
   "metadata": {},
   "source": [
    "If you would like to match a string with, say, three alphanumeric characters in a row, it is possible to write, for example, `\"\\w\\w\\w\"`. Because this is such a common need, there is a specific syntax to match repetitions - curly braces with a number:"
   ]
  },
  {
   "cell_type": "code",
   "execution_count": 21,
   "id": "18616226",
   "metadata": {},
   "outputs": [
    {
     "data": {
      "text/plain": [
       "['The', 'qui', 'bro', 'fox']"
      ]
     },
     "execution_count": 21,
     "metadata": {},
     "output_type": "execute_result"
    }
   ],
   "source": [
    "regex = re.compile(r\"\\w{3}\")\n",
    "regex.findall(\"The quick brown fox\")"
   ]
  },
  {
   "cell_type": "markdown",
   "id": "ed0775d3",
   "metadata": {},
   "source": [
    "There are also markers available to match any number of repetitions. Here are some more of the more common RegEx notations:\n",
    "\n",
    "- `.`: matches any character\n",
    "- `[...]`: matches any character contained within the brackets\n",
    "- `[^...]`: matches any character not appearing after the carat (`^`)\n",
    "- `^`: matches the start of the string\n",
    "- `$`: matches the end of the string\n",
    "- `*`: matches zero or more previous RegEx\n",
    "- `+`: matches one or more previous RegEx\n",
    "- `{n}`: matches `n` occurrences of previous RegEx\n",
    "- `{m, n}`: matches `m` to `n` occurrences of previous RegEx\n",
    "- `?`: matches zero or one occurrences of previous RegEx\n",
    "\n",
    "Here's an example using the `\"+\"` character:"
   ]
  },
  {
   "cell_type": "code",
   "execution_count": 22,
   "id": "74ee03bf",
   "metadata": {},
   "outputs": [
    {
     "data": {
      "text/plain": [
       "['The', 'quick', 'brown', 'fox']"
      ]
     },
     "execution_count": 22,
     "metadata": {},
     "output_type": "execute_result"
    }
   ],
   "source": [
    "regex = re.compile(r\"\\w+\")\n",
    "regex.findall(\"The quick brown fox\")"
   ]
  },
  {
   "cell_type": "markdown",
   "id": "7101c7fe",
   "metadata": {},
   "source": [
    "Here's a more complex example to match email addresses:"
   ]
  },
  {
   "cell_type": "code",
   "execution_count": 45,
   "id": "581d59ea",
   "metadata": {},
   "outputs": [
    {
     "data": {
      "text/plain": [
       "['barack.obama@whitehouse.gov']"
      ]
     },
     "execution_count": 45,
     "metadata": {},
     "output_type": "execute_result"
    }
   ],
   "source": [
    "email = re.compile(r\"\\w+.\\w+@\\w+\\.[a-z]{3}\")\n",
    "email.findall(\"barack.obama@whitehouse.gov\")"
   ]
  },
  {
   "cell_type": "code",
   "execution_count": 46,
   "id": "44340cbd",
   "metadata": {},
   "outputs": [
    {
     "data": {
      "text/plain": [
       "['erin_mcconnell@gmail.com']"
      ]
     },
     "execution_count": 46,
     "metadata": {},
     "output_type": "execute_result"
    }
   ],
   "source": [
    "email.findall(\"erin_mcconnell@gmail.com\")"
   ]
  },
  {
   "cell_type": "markdown",
   "id": "d038e8d7",
   "metadata": {},
   "source": [
    "We want one or more alphanumeric character (`\"\\w+\"`) followed by the *at sign* (`\"@\"`), followed by one or more alphanumeric character (`\"\\w+\"`), followed by a period (`\"\\.\"` - note the need for a backslash escape), followed by exactly three lowercase letters.\n",
    "\n",
    "If we change our code to:"
   ]
  },
  {
   "cell_type": "code",
   "execution_count": 40,
   "id": "3b533dd7",
   "metadata": {},
   "outputs": [
    {
     "data": {
      "text/plain": [
       "['barack.obama@whitehouse.gov']"
      ]
     },
     "execution_count": 40,
     "metadata": {},
     "output_type": "execute_result"
    }
   ],
   "source": [
    "email2 = re.compile(r\"[\\w.]+@\\w+\\.[a-z]{3}\")\n",
    "email2.findall('barack.obama@whitehouse.gov')"
   ]
  },
  {
   "cell_type": "markdown",
   "id": "7a4de8df",
   "metadata": {},
   "source": [
    "We have changed `\"\\w+\"` to `\"[\\w.]+\"`, so we will match any alphanumeric character *or* any other character. With this more flexible expression, we can match a wider range of email addresses.\n",
    "\n",
    "We have already seen that a `|` character denotes alternatives. For example, the pattern `r\"Get (on|off|ready)\"` matches the following strings: \n",
    "\n",
    "`\"Get on\"`, `\"Get off\"`, `\"Get ready\"`\n",
    "\n",
    "We can use parentheses to create groupings inside a pattern: `r\"(ab)+\"` will match the strings:\n",
    "\n",
    "`\"ab\"`, `\"abab\"`, `\"ababab\"`, and so on\n",
    "\n",
    "These groups are also given a reference number starting from 1. We can refer to groups using back references: `\\number`. For example, we can find separated patterns that get repeated: `r\"([a-z]{3,}) \\1 \\1\"`. This will recognize, for example, the following strings:\n",
    "\n",
    "`\"aca aca aca\"`, `\"turn turn turn\"`\n",
    "\n",
    "But not the strings `\"aca aba aca\"` or `\"ac ac ac\"`."
   ]
  },
  {
   "cell_type": "code",
   "execution_count": 102,
   "id": "9c83a977",
   "metadata": {},
   "outputs": [
    {
     "data": {
      "text/plain": [
       "<re.Match object; span=(0, 14), match='erin erin erin'>"
      ]
     },
     "execution_count": 102,
     "metadata": {},
     "output_type": "execute_result"
    }
   ],
   "source": [
    "re.match(r\"([a-z]{3,}) \\1 \\1\", \"erin erin erin\")"
   ]
  },
  {
   "cell_type": "code",
   "execution_count": 47,
   "id": "72a9ad8b",
   "metadata": {},
   "outputs": [],
   "source": [
    "re.match(r\"([a-z]{3,}) \\1 \\1\", \"erin data erin\")"
   ]
  },
  {
   "cell_type": "markdown",
   "id": "60ab2e71",
   "metadata": {},
   "source": [
    "#### Square Brackets Match Custom Character Groups"
   ]
  },
  {
   "cell_type": "markdown",
   "id": "195ac6a5",
   "metadata": {},
   "source": [
    "If the built-in character groups aren't specific enough for you, you can use square brackets to specify any set of characters you're interested in. For example, the following will match any lowercase vowel:"
   ]
  },
  {
   "cell_type": "code",
   "execution_count": 19,
   "id": "32f2884a",
   "metadata": {},
   "outputs": [
    {
     "data": {
      "text/plain": [
       "['c', 'ns', 'q', '', 'nt', '', 'l']"
      ]
     },
     "execution_count": 19,
     "metadata": {},
     "output_type": "execute_result"
    }
   ],
   "source": [
    "regex = re.compile('[aeiou]')\n",
    "regex.split('consequential')"
   ]
  },
  {
   "cell_type": "markdown",
   "id": "e79aaf6e",
   "metadata": {},
   "source": [
    "Similarly, you can use a dash to specify a range: for example `\"[a-z]\"` will match any lowercase letter, and `\"[1-3]\"` will match any of `\"1\"`, `\"2\"`, or `\"3\"`. For instance, you may need to extract from a document specific numerical codes that consist of a capital letter followed by a digit. You could do this as follows:"
   ]
  },
  {
   "cell_type": "code",
   "execution_count": 20,
   "id": "3e5473fc",
   "metadata": {},
   "outputs": [
    {
     "data": {
      "text/plain": [
       "['G2', 'H6']"
      ]
     },
     "execution_count": 20,
     "metadata": {},
     "output_type": "execute_result"
    }
   ],
   "source": [
    "regex = re.compile(\"[A-Z][0-9]\")\n",
    "regex.findall('1043879, G2, H6')"
   ]
  },
  {
   "cell_type": "markdown",
   "id": "1acb0960",
   "metadata": {},
   "source": [
    "### Match and Search Functions"
   ]
  },
  {
   "cell_type": "markdown",
   "id": "9e4c4b7e",
   "metadata": {},
   "source": [
    "So far today, we have only used the `re.match` function, which tries to find a match at the beginning of the string. As we saw last class, the function `re.search` allows to match any substring of a string. \n",
    "\n",
    "Example:"
   ]
  },
  {
   "cell_type": "code",
   "execution_count": 5,
   "id": "025bef4c",
   "metadata": {},
   "outputs": [
    {
     "data": {
      "text/plain": [
       "<re.Match object; span=(2, 6), match='back'>"
      ]
     },
     "execution_count": 5,
     "metadata": {},
     "output_type": "execute_result"
    }
   ],
   "source": [
    "s = \"a back is a body part\"\n",
    "re.search(r\"\\bback\\b\", s)"
   ]
  },
  {
   "cell_type": "code",
   "execution_count": 48,
   "id": "c212ccde",
   "metadata": {},
   "outputs": [
    {
     "data": {
      "text/plain": [
       "<re.Match object; span=(4, 8), match='back'>"
      ]
     },
     "execution_count": 48,
     "metadata": {},
     "output_type": "execute_result"
    }
   ],
   "source": [
    "re.search(r\"\\bback\\b\", \"get back\")"
   ]
  },
  {
   "cell_type": "code",
   "execution_count": 52,
   "id": "c05ef46a",
   "metadata": {},
   "outputs": [
    {
     "data": {
      "text/plain": [
       "<re.Match object; span=(0, 4), match='back'>"
      ]
     },
     "execution_count": 52,
     "metadata": {},
     "output_type": "execute_result"
    }
   ],
   "source": [
    "re.search(r\"\\bback\\b\", \"back\")"
   ]
  },
  {
   "cell_type": "code",
   "execution_count": 49,
   "id": "f9ff3ac3",
   "metadata": {},
   "outputs": [],
   "source": [
    "re.search(r\"\\bback\\b\", \"backspace\")"
   ]
  },
  {
   "cell_type": "markdown",
   "id": "e491a975",
   "metadata": {},
   "source": [
    "Some other strings this will match are `\"back\"` or `\"get back\"`, but it will not match the strings `\"backspace\"` or `\"comeback\"`.\n",
    "\n",
    "The function `re.search` finds only the first occurrence. We can use the `re.findall` function to find all occurrences. Let's say we want to find all present participle words in a string `s`. The present participle words have ending `'ing'`. The function call would look like this:"
   ]
  },
  {
   "cell_type": "code",
   "execution_count": 54,
   "id": "fe53cf87",
   "metadata": {},
   "outputs": [
    {
     "data": {
      "text/plain": [
       "['Doing', 'going', 'staying', 'sleeping']"
      ]
     },
     "execution_count": 54,
     "metadata": {},
     "output_type": "execute_result"
    }
   ],
   "source": [
    "s = \"Doing things, going home, staying awake, sleeping later\"\n",
    "re.findall(r'\\w+ing\\b', s)"
   ]
  },
  {
   "cell_type": "markdown",
   "id": "259a05ef",
   "metadata": {},
   "source": [
    "Let's say we want to pick up all the integers from a string. We can try that with the following function call:"
   ]
  },
  {
   "cell_type": "code",
   "execution_count": 27,
   "id": "740fe108",
   "metadata": {},
   "outputs": [
    {
     "data": {
      "text/plain": [
       "['23', '', '+', '', '-24', '', '', '', '-1', '']"
      ]
     },
     "execution_count": 27,
     "metadata": {},
     "output_type": "execute_result"
    }
   ],
   "source": [
    "re.findall(r\"[+-]?\\d*\", \"23 + -24 = -1\")"
   ]
  },
  {
   "cell_type": "markdown",
   "id": "dfc71068",
   "metadata": {},
   "source": [
    "#### Parentheses Indicate *Groups* to Extract"
   ]
  },
  {
   "cell_type": "markdown",
   "id": "857ffb1f",
   "metadata": {},
   "source": [
    "For compound regular expressions, we often want to extract their components rather than the full match. This can be done using parentheses to *group* the results:"
   ]
  },
  {
   "cell_type": "code",
   "execution_count": 97,
   "id": "53123674",
   "metadata": {},
   "outputs": [
    {
     "data": {
      "text/plain": [
       "[('guido', 'python', 'org'), ('guido', 'google', 'com')]"
      ]
     },
     "execution_count": 97,
     "metadata": {},
     "output_type": "execute_result"
    }
   ],
   "source": [
    "email3 = re.compile(r\"([\\w.]+)@(\\w+)\\.([a-z]{3})\")\n",
    "text = \"To email Guido, try guido@python.org or the older address guido@google.com.\"\n",
    "email3.findall(text)"
   ]
  },
  {
   "cell_type": "code",
   "execution_count": 98,
   "id": "83bda280",
   "metadata": {},
   "outputs": [
    {
     "data": {
      "text/plain": [
       "[('guido', 'python', 'org'), ('guido', 'google', 'com')]"
      ]
     },
     "execution_count": 98,
     "metadata": {},
     "output_type": "execute_result"
    }
   ],
   "source": [
    "re.findall(r\"([\\w.]+)@(\\w+)\\.([a-z]{3})\", text)"
   ]
  },
  {
   "cell_type": "markdown",
   "id": "ced26ea9",
   "metadata": {},
   "source": [
    "As we see, this grouping actually extracts a list of the sub-components of the email address.\n",
    "\n",
    "Suppose we are given a string of if/then sentences and we would like to extract the conditions from these sentences. Let's try the following function call:"
   ]
  },
  {
   "cell_type": "code",
   "execution_count": 58,
   "id": "b6003be9",
   "metadata": {},
   "outputs": [
    {
     "data": {
      "text/plain": [
       "['I’m not in a hurry, then I should stay. On the other hand, if I leave']"
      ]
     },
     "execution_count": 58,
     "metadata": {},
     "output_type": "execute_result"
    }
   ],
   "source": [
    "s = (\"If I’m not in a hurry, then I should stay. On the other hand, if I leave, then I can sleep.\")\n",
    "re.findall(r'[Ii]f (.*), then', s)"
   ]
  },
  {
   "cell_type": "markdown",
   "id": "7d6a5e3f",
   "metadata": {},
   "source": [
    "If instead we wanted the result `[\"I'm not in a hurry\", \"I leave\"]`, we can fix this by changing `.*`. \n",
    "\n",
    "That pattern tries to match as many characters as possible. This is called *greedy matching*. One way of solving this problem is to notice that the two sentences are separated by a full-stop (.). So, instead of matching all the characters, we need to match everything but the dot character. This can be achieved by using the complement character class: `[^.]`. The carat character (`^`) in the beginning of a character class means the complement character class.\n",
    "\n",
    "After the modification, the function call looks like this:\n",
    "\n",
    "`re.findall(r'[Ii]f ([^.]*), then', s)`\n",
    "\n",
    "Another way of solving this problem is to use a non-greedy matching. The repetition specifiers `+`, `*`, `?`, and `{m, n}` have corresponding non-greedy versions: `+?`, `*?`, `??`, and `{m, n}?`. These expressions use as few characters as possible to make the whole pattern match some substring. By using the non-greedy version, the function call looks like this:\n",
    "\n",
    "`re.findall(r'[Ii]f (.*?), then', s)`"
   ]
  },
  {
   "cell_type": "code",
   "execution_count": 59,
   "id": "c47db2fe",
   "metadata": {},
   "outputs": [
    {
     "data": {
      "text/plain": [
       "['I’m not in a hurry', 'I leave']"
      ]
     },
     "execution_count": 59,
     "metadata": {},
     "output_type": "execute_result"
    }
   ],
   "source": [
    "re.findall(r'[Ii]f ([^.]*), then', s)"
   ]
  },
  {
   "cell_type": "code",
   "execution_count": 60,
   "id": "51f4840a",
   "metadata": {},
   "outputs": [
    {
     "data": {
      "text/plain": [
       "['I’m not in a hurry', 'I leave']"
      ]
     },
     "execution_count": 60,
     "metadata": {},
     "output_type": "execute_result"
    }
   ],
   "source": [
    "re.findall(r'[Ii]f (.*?), then', s)"
   ]
  },
  {
   "cell_type": "markdown",
   "id": "5f52e3d7",
   "metadata": {},
   "source": [
    "### Functions in the `re` Module"
   ]
  },
  {
   "cell_type": "markdown",
   "id": "727b078a",
   "metadata": {},
   "source": [
    "Below is a list of the most common functions in the `re` module:\n",
    "\n",
    "- `re.match(pattern, str)`\n",
    "- `re.search(pattern, str)`\n",
    "- `re.findall(pattern, str)`\n",
    "- `re.finditer(pattern, str)`\n",
    "- `re.sub(pattern, replacement, str, count=0)`\n",
    "\n",
    "The functions `match` and `search` return a *match object*. A match object describes the found occurrence. The function `findall` returns a list of all the occurrences of the pattern. The elements in the list are strings. The function `finditer` works like `findall` function except that instead of returning a list, it returns an iterator whose items are match objects. The function `sub` replaces all the occurrences of the pattern in the `str` with the string replacement and returns the new string. \n",
    "\n",
    "Example - the following code will replace all \"she\" words with \"he\":"
   ]
  },
  {
   "cell_type": "code",
   "execution_count": 73,
   "id": "96614f9a",
   "metadata": {},
   "outputs": [
    {
     "name": "stdout",
     "output_type": "stream",
     "text": [
      "he goes where he wants to, he's a sheriff.\n"
     ]
    }
   ],
   "source": [
    "txt = \"She goes where she wants to, she's a sheriff.\"\n",
    "newstr = re.sub(r'\\b[Ss]he\\b', 'he', txt)\n",
    "print(newstr)"
   ]
  },
  {
   "cell_type": "markdown",
   "id": "c71c9ddb",
   "metadata": {},
   "source": [
    "The `sub` function can also use back references to refer to the matched string. The back references \\1, \\2, and so on, refer to the groups of the pattern, in order.\n",
    "\n",
    "Example:"
   ]
  },
  {
   "cell_type": "code",
   "execution_count": 92,
   "id": "4e8da872",
   "metadata": {},
   "outputs": [
    {
     "name": "stdout",
     "output_type": "stream",
     "text": [
      "He (Putin) is the president of Russia. \n",
      "He’s a powerful man.\n"
     ]
    }
   ],
   "source": [
    "txt = \"\"\"He is the president of Russia. \n",
    "He’s a powerful man.\"\"\"\n",
    "newstr = re.sub(r'(\\b[Hh]e\\b)', r'\\1 (Putin)', txt, 1)\n",
    "print(newstr)"
   ]
  },
  {
   "cell_type": "markdown",
   "id": "77cd61fd",
   "metadata": {},
   "source": [
    "When we utilize the back reference `\\1` inside of our replacement string, this is telling Python to replace our pattern with the first group of the pattern, which in this case is the pattern `r'(\\b[Hh]e\\b)'`. "
   ]
  },
  {
   "cell_type": "markdown",
   "id": "4172b8a3",
   "metadata": {},
   "source": [
    "### Match Object"
   ]
  },
  {
   "cell_type": "markdown",
   "id": "1022b65d",
   "metadata": {},
   "source": [
    "The functions `match`, `search`, and `finditer` use `match` objects to describe the found occurrence. The method `groups()` of the match object returns the tuple of all the substrings matched by the groups of the pattern. Each pair of parentheses in the pattern creates a new group. These groups are referred to by indices 1, 2, .... The group 0 is a special one: it refers to the match created by the whole pattern.\n",
    "\n",
    "Let's look at the match object returned by the call:"
   ]
  },
  {
   "cell_type": "code",
   "execution_count": 93,
   "id": "a6863532",
   "metadata": {},
   "outputs": [
    {
     "data": {
      "text/plain": [
       "('45', '890')"
      ]
     },
     "execution_count": 93,
     "metadata": {},
     "output_type": "execute_result"
    }
   ],
   "source": [
    "mo = re.search(r\"\\d+ (\\d+) \\d+ (\\d+)\",\n",
    "               \"first 123 45 67 890 last\")\n",
    "mo.groups()"
   ]
  },
  {
   "cell_type": "code",
   "execution_count": 94,
   "id": "f7ae0088",
   "metadata": {},
   "outputs": [
    {
     "data": {
      "text/plain": [
       "<re.Match object; span=(6, 19), match='123 45 67 890'>"
      ]
     },
     "execution_count": 94,
     "metadata": {},
     "output_type": "execute_result"
    }
   ],
   "source": [
    "mo"
   ]
  },
  {
   "cell_type": "markdown",
   "id": "7720d31c",
   "metadata": {},
   "source": [
    "We can access individual groups by using the method `group(group_id, ...)`. For example:"
   ]
  },
  {
   "cell_type": "code",
   "execution_count": 15,
   "id": "0a71a342",
   "metadata": {},
   "outputs": [
    {
     "data": {
      "text/plain": [
       "'45'"
      ]
     },
     "execution_count": 15,
     "metadata": {},
     "output_type": "execute_result"
    }
   ],
   "source": [
    "mo.group(1)"
   ]
  },
  {
   "cell_type": "code",
   "execution_count": 95,
   "id": "fb113922",
   "metadata": {},
   "outputs": [
    {
     "data": {
      "text/plain": [
       "'890'"
      ]
     },
     "execution_count": 95,
     "metadata": {},
     "output_type": "execute_result"
    }
   ],
   "source": [
    "mo.group(2)"
   ]
  },
  {
   "cell_type": "markdown",
   "id": "a0684a0c",
   "metadata": {},
   "source": [
    "The zeroth group will represent the whole match:"
   ]
  },
  {
   "cell_type": "code",
   "execution_count": 13,
   "id": "53ebe8db",
   "metadata": {},
   "outputs": [
    {
     "data": {
      "text/plain": [
       "'123 45 67 890'"
      ]
     },
     "execution_count": 13,
     "metadata": {},
     "output_type": "execute_result"
    }
   ],
   "source": [
    "mo.group(0)"
   ]
  },
  {
   "cell_type": "markdown",
   "id": "c5281c3d",
   "metadata": {},
   "source": [
    "In addition to accessing the strings matched by the pattern and its groups, the corresponding indices of the original string can be accessed:\n",
    "\n",
    "- The `start(0)` and `end(0)` methods return the start and end indices of the matched group\n",
    "- The `span(group_id)` returns the pair of these start and end indices\n",
    "\n",
    "The match object `mo` can also be used like a boolean value:"
   ]
  },
  {
   "cell_type": "code",
   "execution_count": null,
   "id": "8ef50ccf",
   "metadata": {},
   "outputs": [],
   "source": [
    "mo = re.search(...)\n",
    "if mo:\n",
    "    # do something"
   ]
  },
  {
   "cell_type": "markdown",
   "id": "bfb7c5c0",
   "metadata": {},
   "source": [
    "This code block will do something if a match is found. Alternatively, the match object can be converted to a boolean value by the call:"
   ]
  },
  {
   "cell_type": "code",
   "execution_count": 17,
   "id": "d1dd4849",
   "metadata": {},
   "outputs": [
    {
     "name": "stdout",
     "output_type": "stream",
     "text": [
      "True\n"
     ]
    }
   ],
   "source": [
    "found = bool(mo)\n",
    "print(found)"
   ]
  },
  {
   "cell_type": "code",
   "execution_count": 96,
   "id": "19659ad9",
   "metadata": {},
   "outputs": [
    {
     "name": "stdout",
     "output_type": "stream",
     "text": [
      "False\n"
     ]
    }
   ],
   "source": [
    "no = re.search(r\"\\d+ (\\d+) \\d+ (\\d+)\",\n",
    "               \"first last\")\n",
    "lost = bool(no)\n",
    "print(lost)"
   ]
  },
  {
   "cell_type": "markdown",
   "id": "8838c42e",
   "metadata": {},
   "source": [
    "### Miscellaneous Stuff"
   ]
  },
  {
   "cell_type": "markdown",
   "id": "bd2bf496",
   "metadata": {},
   "source": [
    "If the same pattern is used in many function calls, it may be wise to precompile the pattern, mainly for efficiency reasons. This can be done using the `compile(pattern, flags=0)` function in the `re` module. The function returns a RegEx object, which has method versions of the functions found in the `re` module. The only difference is that the first parameter is not the pattern since the precompiled pattern is stored in the RegEx object.\n",
    "\n",
    "The details of matching operations can be specified using optional flags. These flags can be given either inside the pattern or as a parameter to the compile function. Some of the more common flags are below:\n",
    "\n",
    "- `(?i)`: `re.IGNORECASE`\n",
    "- `(?m)`: `re.MULTILINE`\n",
    "- `(?s)`: `re.DOTALL`\n",
    "\n",
    "The elements on the left can appear anywhere in the pattern, but preferably in the beginning. On the right, there are attributes of the `re` module that can be given to the `compile()` function as the second parameter `flags`.\n",
    "\n",
    "The `IGNORECASE` flag makes lower and uppercase characters appear as equal. The `MULTILINE` flag makes the special characters `^` and `$` match the beginning and end of each line in addition to the beginning and end of the whole string. These flags make `\\A` differ from `^` and `\\Z` differ from the `$`. The `DOTALL` flag makes the character class `.` (dot) also accept newline characters in addition to all the other letters.\n",
    "\n",
    "When giving multiple flags to the compile function, the flags can be separated with the `|` sign. For example,\n",
    "\n",
    "`re.compile(pattern, re.MULTILINE | re.DOTALL)` \n",
    "\n",
    "is equal to \n",
    "\n",
    "`re.compile(\"(?m)(?s)\" + pattern)`"
   ]
  }
 ],
 "metadata": {
  "kernelspec": {
   "display_name": "Python 3 (ipykernel)",
   "language": "python",
   "name": "python3"
  },
  "language_info": {
   "codemirror_mode": {
    "name": "ipython",
    "version": 3
   },
   "file_extension": ".py",
   "mimetype": "text/x-python",
   "name": "python",
   "nbconvert_exporter": "python",
   "pygments_lexer": "ipython3",
   "version": "3.9.13"
  }
 },
 "nbformat": 4,
 "nbformat_minor": 5
}
