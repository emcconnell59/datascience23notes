{
 "cells": [
  {
   "cell_type": "markdown",
   "id": "991e075b",
   "metadata": {},
   "source": [
    "## Assignment Preparation"
   ]
  },
  {
   "cell_type": "markdown",
   "id": "ca99576d",
   "metadata": {},
   "source": [
    "### The `random` module"
   ]
  },
  {
   "cell_type": "markdown",
   "id": "a5943982",
   "metadata": {},
   "source": [
    "Python has a built-in module that you can use to make random numbers with a set of methods. To utilize the `random` module in your script:"
   ]
  },
  {
   "cell_type": "code",
   "execution_count": 1,
   "id": "6adc785f",
   "metadata": {},
   "outputs": [],
   "source": [
    "import random"
   ]
  },
  {
   "cell_type": "markdown",
   "id": "5839abd6",
   "metadata": {},
   "source": [
    "The method that is most important for you to know is `random.randint()`, which returns a number between the given range.\n",
    "\n",
    "Example:"
   ]
  },
  {
   "cell_type": "code",
   "execution_count": 23,
   "id": "a9e4df4a",
   "metadata": {},
   "outputs": [
    {
     "name": "stdout",
     "output_type": "stream",
     "text": [
      "1\n"
     ]
    }
   ],
   "source": [
    "random_number = random.randint(0, 10)\n",
    "print(random_number)"
   ]
  },
  {
   "cell_type": "markdown",
   "id": "b737bb9b",
   "metadata": {},
   "source": [
    "### Regular Expressions"
   ]
  },
  {
   "cell_type": "markdown",
   "id": "24dd4afc",
   "metadata": {},
   "source": [
    "A RegEx, or regular expression, is a sequence of characters that form a search pattern. RegEx can be used to check if a string contains the specified search pattern.\n",
    "\n",
    "Python has a built-in package called `re`, which can be used to work with regular expressions. To utilize the `re` package in your script:"
   ]
  },
  {
   "cell_type": "code",
   "execution_count": 24,
   "id": "0195c7e2",
   "metadata": {},
   "outputs": [],
   "source": [
    "import re"
   ]
  },
  {
   "cell_type": "markdown",
   "id": "70539d72",
   "metadata": {},
   "source": [
    "When you have imported the `re` module, you can start using regular expressions.\n",
    "\n",
    "The `re` module offers a set of functions that allows us to search a string for a match. The function that is most important for you to know (for now) is `re.search()`, which returns a match object if there is a match anywhere in the string. \n",
    "\n",
    "There are sets in the `re` module that work as a shortcut for some patterns we may want to find in a string. Here are the most important ones (for now):\n",
    "\n",
    "`[a-z]`: returns a match for any character alphabetically between `a` and `z`, lower case\n",
    "\n",
    "`[A-Z]`: returns a match for any character alphabetically between `A` and `Z`, upper case\n",
    "\n",
    "`[0-9]`: returns a match for any digit between `0` and `9`\n",
    "\n",
    "`[+*#.|@(){}]`: return a match for any special character in the string (can be used for all special characters)\n",
    "\n",
    "Example:"
   ]
  },
  {
   "cell_type": "code",
   "execution_count": 27,
   "id": "2b4e1deb",
   "metadata": {},
   "outputs": [
    {
     "data": {
      "text/plain": [
       "<re.Match object; span=(16, 17), match='6'>"
      ]
     },
     "execution_count": 27,
     "metadata": {},
     "output_type": "execute_result"
    }
   ],
   "source": [
    "txt = \"We're expecting 60 inches of rain in Spain\"\n",
    "re.search(\"[0-9]\", txt)"
   ]
  },
  {
   "cell_type": "code",
   "execution_count": 28,
   "id": "6324e627",
   "metadata": {},
   "outputs": [],
   "source": [
    "re.search(\"[,]\", txt)"
   ]
  },
  {
   "cell_type": "markdown",
   "id": "5be5728a",
   "metadata": {},
   "source": [
    "### `max()` / `min()`"
   ]
  },
  {
   "cell_type": "markdown",
   "id": "ef801f1e",
   "metadata": {},
   "source": [
    "The `max()` function returns the item with the highest value, or the item with the highest value in an iterable. If the values are strings, an alphabetical comparison is done.\n",
    "\n",
    "Syntax: \n",
    "\n",
    "`max(n1, n2, n3, ...)` \n",
    "\n",
    "OR \n",
    "\n",
    "`max(iterable)`\n",
    "\n",
    "Parameter values: \n",
    "\n",
    "`n1, n2, n3, ...` - one or more items to compare \n",
    "\n",
    "OR \n",
    "\n",
    "`iterable` - an iterable with one or more items to compare\n",
    "\n",
    "Example:"
   ]
  },
  {
   "cell_type": "code",
   "execution_count": 15,
   "id": "a5602272",
   "metadata": {},
   "outputs": [
    {
     "data": {
      "text/plain": [
       "9"
      ]
     },
     "execution_count": 15,
     "metadata": {},
     "output_type": "execute_result"
    }
   ],
   "source": [
    "x = 3\n",
    "y = 6\n",
    "z = 9\n",
    "max(x, y, z)"
   ]
  },
  {
   "cell_type": "code",
   "execution_count": 29,
   "id": "00440c08",
   "metadata": {},
   "outputs": [
    {
     "data": {
      "text/plain": [
       "3"
      ]
     },
     "execution_count": 29,
     "metadata": {},
     "output_type": "execute_result"
    }
   ],
   "source": [
    "L = [1, 2, 3]\n",
    "max(L)"
   ]
  },
  {
   "cell_type": "markdown",
   "id": "a3cfd449",
   "metadata": {},
   "source": [
    "The `min()` funtion returns the item with the lowest value, or the item with the lowest value in an iterable. The syntax and parameter values are the same as the `max()` function.\n",
    "\n",
    "Example:"
   ]
  },
  {
   "cell_type": "code",
   "execution_count": 16,
   "id": "245df19f",
   "metadata": {},
   "outputs": [
    {
     "data": {
      "text/plain": [
       "3"
      ]
     },
     "execution_count": 16,
     "metadata": {},
     "output_type": "execute_result"
    }
   ],
   "source": [
    "min(x, y, z)"
   ]
  },
  {
   "cell_type": "code",
   "execution_count": 30,
   "id": "0967f3a0",
   "metadata": {},
   "outputs": [
    {
     "data": {
      "text/plain": [
       "1"
      ]
     },
     "execution_count": 30,
     "metadata": {},
     "output_type": "execute_result"
    }
   ],
   "source": [
    "min(L)"
   ]
  }
 ],
 "metadata": {
  "kernelspec": {
   "display_name": "Python 3 (ipykernel)",
   "language": "python",
   "name": "python3"
  },
  "language_info": {
   "codemirror_mode": {
    "name": "ipython",
    "version": 3
   },
   "file_extension": ".py",
   "mimetype": "text/x-python",
   "name": "python",
   "nbconvert_exporter": "python",
   "pygments_lexer": "ipython3",
   "version": "3.9.13"
  }
 },
 "nbformat": 4,
 "nbformat_minor": 5
}
