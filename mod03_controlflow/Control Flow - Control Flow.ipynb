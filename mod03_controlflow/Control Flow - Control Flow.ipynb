{
 "cells": [
  {
   "cell_type": "markdown",
   "id": "713bbe87",
   "metadata": {},
   "source": [
    "## Control Flow"
   ]
  },
  {
   "cell_type": "markdown",
   "id": "400fbd02",
   "metadata": {},
   "source": [
    "*Control flow* is where the rubber really meets the road in programming. Without it, a program is simply a list of statements that are sequentially executed. With control flow, you can execute certain code blocks conditionally and/or repeatedly: these basic building blocks can be combined to create surprisingly sophisticated programs.\n",
    "\n",
    "Here we'll cover *loop statements* (including the remainder of content about \"`for`\" loops, \"`while`\" loops, and the accompanying \"`break`\" and \"`continue`\")."
   ]
  },
  {
   "cell_type": "markdown",
   "id": "e36a59ed",
   "metadata": {},
   "source": [
    "### The Remainder of Content about `for` Loops"
   ]
  },
  {
   "cell_type": "markdown",
   "id": "bec0d772",
   "metadata": {},
   "source": [
    "Back to iterators: one of the most commonly-used iterators in Python is the `range` object, which generates a sequence of numbers:"
   ]
  },
  {
   "cell_type": "code",
   "execution_count": 1,
   "id": "e39708f3",
   "metadata": {},
   "outputs": [
    {
     "name": "stdout",
     "output_type": "stream",
     "text": [
      "0 1 2 3 4 5 6 7 8 9 "
     ]
    }
   ],
   "source": [
    "for x in range(10):\n",
    "    print(x, end=' ')"
   ]
  },
  {
   "cell_type": "code",
   "execution_count": 8,
   "id": "3406189c",
   "metadata": {},
   "outputs": [
    {
     "name": "stdout",
     "output_type": "stream",
     "text": [
      "0\n",
      "1\n",
      "2\n",
      "3\n",
      "4\n",
      "5\n",
      "6\n",
      "7\n",
      "8\n",
      "9\n"
     ]
    }
   ],
   "source": [
    "for x in range(10):\n",
    "    print(x)"
   ]
  },
  {
   "cell_type": "markdown",
   "id": "b8e4acfd",
   "metadata": {},
   "source": [
    "Note that the range starts at zero by default, and that by convention, the top of the range is not included in the output. Range objects can also have more complicated values:"
   ]
  },
  {
   "cell_type": "code",
   "execution_count": 2,
   "id": "6b82c2a8",
   "metadata": {},
   "outputs": [
    {
     "name": "stdout",
     "output_type": "stream",
     "text": [
      "[5, 6, 7, 8, 9]\n"
     ]
    }
   ],
   "source": [
    "# range from 5 to 10\n",
    "z = list(range(5, 10))\n",
    "print(z)"
   ]
  },
  {
   "cell_type": "code",
   "execution_count": 13,
   "id": "5a28e678",
   "metadata": {},
   "outputs": [
    {
     "data": {
      "text/plain": [
       "range"
      ]
     },
     "execution_count": 13,
     "metadata": {},
     "output_type": "execute_result"
    }
   ],
   "source": [
    "x = range(5, 10)\n",
    "type(x)"
   ]
  },
  {
   "cell_type": "code",
   "execution_count": 3,
   "id": "ea442a93",
   "metadata": {},
   "outputs": [
    {
     "name": "stdout",
     "output_type": "stream",
     "text": [
      "[0, 2, 4, 6, 8, 10]\n"
     ]
    }
   ],
   "source": [
    "# range from 0 to 10 by 2\n",
    "y = list(range(0, 11, 2))\n",
    "print(y)"
   ]
  },
  {
   "cell_type": "markdown",
   "id": "f896a77f",
   "metadata": {},
   "source": [
    "You might notice that the meaning of `range` arguments is very similar to the slicing syntax that we covered in our discussion on lists. "
   ]
  },
  {
   "cell_type": "markdown",
   "id": "ac0945d4",
   "metadata": {},
   "source": [
    "### `while` loops"
   ]
  },
  {
   "cell_type": "markdown",
   "id": "75d0c91a",
   "metadata": {},
   "source": [
    "The other type of loop in Python is a `while` loop, which iterates until some condition is met:"
   ]
  },
  {
   "cell_type": "code",
   "execution_count": 15,
   "id": "e60f0fb9",
   "metadata": {},
   "outputs": [
    {
     "name": "stdout",
     "output_type": "stream",
     "text": [
      "0 1 2 3 4 5 6 7 8 9 "
     ]
    }
   ],
   "source": [
    "i = 0\n",
    "while i < 10:\n",
    "    print(i, end=' ')\n",
    "    i += 1"
   ]
  },
  {
   "cell_type": "markdown",
   "id": "a8f58fa2",
   "metadata": {},
   "source": [
    "The argument of the `while` loop is evaluated as a boolean statement, and the loop is executed until the statement evaluates to False."
   ]
  },
  {
   "cell_type": "markdown",
   "id": "8ee87b3f",
   "metadata": {},
   "source": [
    "### `break` and `continue`: Fine-Tuning Your Loops"
   ]
  },
  {
   "cell_type": "markdown",
   "id": "70b28a98",
   "metadata": {},
   "source": [
    "There are two useful statements that can be used within loops to fine-tune how they are executed:\n",
    "\n",
    "1. The `break` statement breaks out of the loop entirely\n",
    "2. The `continue` statement skips the remainder of the current loop and goes to the next iteration\n",
    "\n",
    "These can be used in both `for` and `while` loops.\n",
    "\n",
    "Here is an example of using `continue` to print a string of odd numbers. In this case, the result could be accomplished just as well with an `if-else` statement, but sometimes the `continue` statement can be a more convenient way to express the idea you have in mind:"
   ]
  },
  {
   "cell_type": "code",
   "execution_count": 5,
   "id": "22d6c028",
   "metadata": {},
   "outputs": [
    {
     "name": "stdout",
     "output_type": "stream",
     "text": [
      "1 3 5 7 9 11 13 15 17 19 "
     ]
    }
   ],
   "source": [
    "for n in range(20):\n",
    "    # if the remainder of n / 2 is 0, skip the rest of the loop\n",
    "    if n % 2 == 0:\n",
    "        continue\n",
    "    print(n, end=' ')"
   ]
  },
  {
   "cell_type": "markdown",
   "id": "6a711c56",
   "metadata": {},
   "source": [
    "Here is an example of a `break` statement used for a less trivial task. This loop will fill a list with all Fibonacci numbers up to a certain value:"
   ]
  },
  {
   "cell_type": "code",
   "execution_count": 6,
   "id": "c8a376bc",
   "metadata": {},
   "outputs": [
    {
     "name": "stdout",
     "output_type": "stream",
     "text": [
      "[1, 1, 2, 3, 5, 8, 13, 21, 34, 55, 89]\n"
     ]
    }
   ],
   "source": [
    "a, b = 0, 1\n",
    "amax = 100\n",
    "L = []\n",
    "\n",
    "while True:\n",
    "    (a, b) = (b, a + b)\n",
    "    if a > amax:\n",
    "        break\n",
    "    L.append(a)\n",
    "    \n",
    "print(L)"
   ]
  },
  {
   "cell_type": "markdown",
   "id": "c70d24ee",
   "metadata": {},
   "source": [
    "Notice that we use a `while True` loop, which will loop forever unless we have a break statement."
   ]
  },
  {
   "cell_type": "markdown",
   "id": "6b808b30",
   "metadata": {},
   "source": [
    "### Loops with an `else` Block"
   ]
  },
  {
   "cell_type": "markdown",
   "id": "facda963",
   "metadata": {},
   "source": [
    "One rarely used pattern available in Python is the `else` statement as part of a `for` or `while` loop. We discussed the `else` block earlier: it executes if all the `if` and `elif` statements evaluate to `False`. The loop-`else` is perhaps one of the more confusingly-named statements in Python; it could be better to think of as a `nobreak` statement: that is, the `else` block is executed only if the loop ends naturally, without encountering a `break` statement.\n",
    "\n",
    "As an example of where this might be useful, consider the following well-known algorithm for finding prime numbers:"
   ]
  },
  {
   "cell_type": "code",
   "execution_count": 7,
   "id": "1000278b",
   "metadata": {},
   "outputs": [
    {
     "name": "stdout",
     "output_type": "stream",
     "text": [
      "[2, 3, 5, 7, 11, 13, 17, 19, 23, 29]\n"
     ]
    }
   ],
   "source": [
    "L = []\n",
    "nmax = 30\n",
    "\n",
    "for n in range(2, nmax):\n",
    "    for factor in L:\n",
    "        if n % factor == 0:\n",
    "            break\n",
    "    else: # no break\n",
    "        L.append(n)\n",
    "        \n",
    "print(L)"
   ]
  },
  {
   "cell_type": "markdown",
   "id": "8fef7981",
   "metadata": {},
   "source": [
    "The `else` statement only executes if none of the factors divide the given number. The `else` statement works similarly with the `while` loop."
   ]
  }
 ],
 "metadata": {
  "kernelspec": {
   "display_name": "Python 3 (ipykernel)",
   "language": "python",
   "name": "python3"
  },
  "language_info": {
   "codemirror_mode": {
    "name": "ipython",
    "version": 3
   },
   "file_extension": ".py",
   "mimetype": "text/x-python",
   "name": "python",
   "nbconvert_exporter": "python",
   "pygments_lexer": "ipython3",
   "version": "3.9.13"
  }
 },
 "nbformat": 4,
 "nbformat_minor": 5
}
