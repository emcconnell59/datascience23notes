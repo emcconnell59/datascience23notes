{
 "cells": [
  {
   "cell_type": "markdown",
   "id": "ed34f5b1",
   "metadata": {},
   "source": [
    "# Introduction to Python"
   ]
  },
  {
   "cell_type": "markdown",
   "id": "8386e1ce",
   "metadata": {},
   "source": [
    "## How to Run Python Code"
   ]
  },
  {
   "cell_type": "markdown",
   "id": "8776b6a8",
   "metadata": {},
   "source": [
    "Python is a flexible language, and there are several ways to use it depending on your particular task. One thing that distinguishes Python from other programming languages is that it is *interpreted* rather than *compiled*. This means that it is executed line by line, which allows programming to be interactive in a way that is not directly possible with compiled languages like Fortran, C, or Java. This section will describe four primary ways you can run Python code: the *Python interpreter*, the *IPython interpreter*, via *self-contained scripts*, or in the *Jupyter Notebook*."
   ]
  },
  {
   "cell_type": "markdown",
   "id": "ef457099",
   "metadata": {},
   "source": [
    "### The Python Interpreter"
   ]
  },
  {
   "cell_type": "markdown",
   "id": "c03e89d6",
   "metadata": {},
   "source": [
    "The most basic was to execute Python code is line by line within the *Python interpreter*. The Python interpreter can be started by installing the Python language (which we just did) and typing ```python``` at the command prompt (the Terminal on Mac or Linux systems, the Command Prompt on Windows)."
   ]
  },
  {
   "cell_type": "markdown",
   "id": "1fb02b83",
   "metadata": {},
   "source": [
    "With the interpreter running, you can begin to type and execute code snippets. Here we'll use the interpreter as a simple calcuation, performing calculations and assigning values to variables:"
   ]
  },
  {
   "cell_type": "code",
   "execution_count": 1,
   "id": "3f8c5e93",
   "metadata": {},
   "outputs": [
    {
     "data": {
      "text/plain": [
       "2"
      ]
     },
     "execution_count": 1,
     "metadata": {},
     "output_type": "execute_result"
    }
   ],
   "source": [
    "1 + 1"
   ]
  },
  {
   "cell_type": "code",
   "execution_count": 2,
   "id": "4b223b95",
   "metadata": {},
   "outputs": [],
   "source": [
    "x = 5"
   ]
  },
  {
   "cell_type": "code",
   "execution_count": 3,
   "id": "24ab576a",
   "metadata": {},
   "outputs": [
    {
     "data": {
      "text/plain": [
       "15"
      ]
     },
     "execution_count": 3,
     "metadata": {},
     "output_type": "execute_result"
    }
   ],
   "source": [
    "x * 3"
   ]
  },
  {
   "cell_type": "markdown",
   "id": "4c6e7339",
   "metadata": {},
   "source": [
    "The interpreter makes it very convenient to try out small snippets of Python code and to experiment with short sequences of operations."
   ]
  },
  {
   "cell_type": "markdown",
   "id": "8da9c00b",
   "metadata": {},
   "source": [
    "### The IPython Interpreter"
   ]
  },
  {
   "cell_type": "markdown",
   "id": "87703b4a",
   "metadata": {},
   "source": [
    "If you spend much time with the basic Python interpreter, you'll find that it lacks many of the features of a full-fledged interactive development environment. An alternative interpreter called *IPython* (for Interactive Python) is bundled with the Anaconda distribution, and includes a host of convenient enhancements to the basic Python interpreter. It can be started by typing ```ipython``` at the command prompt."
   ]
  },
  {
   "cell_type": "markdown",
   "id": "b2e400b9",
   "metadata": {},
   "source": [
    "### Self-contained Python Scripts"
   ]
  },
  {
   "cell_type": "markdown",
   "id": "66b91d4c",
   "metadata": {},
   "source": [
    "Running Python snippets line by line is useful in some cases, but for more complicated programs, it is more convenient to save code to file and execute it all at once. By convention, Python scripts are saved in files with a *.py* extension. For example, let's create a script called *test.py* which contains the following:"
   ]
  },
  {
   "cell_type": "code",
   "execution_count": 4,
   "id": "21260abc",
   "metadata": {},
   "outputs": [
    {
     "name": "stdout",
     "output_type": "stream",
     "text": [
      "Running test.py\n",
      "Result is 15\n"
     ]
    }
   ],
   "source": [
    "# file: test.py\n",
    "print(\"Running test.py\")\n",
    "x = 5\n",
    "print(\"Result is\", 3 * x)"
   ]
  },
  {
   "cell_type": "markdown",
   "id": "3b074c3b",
   "metadata": {},
   "source": [
    "To run this file, we make sure it is in the current directory and type ```python``` ```filename``` at the command prompt."
   ]
  },
  {
   "cell_type": "markdown",
   "id": "6beb04d0",
   "metadata": {},
   "source": [
    "For more complicated programs, creating self-contained scripts like this one is a must."
   ]
  },
  {
   "cell_type": "markdown",
   "id": "a5b70906",
   "metadata": {},
   "source": [
    "### The Jupyter Notebook"
   ]
  },
  {
   "cell_type": "markdown",
   "id": "b1a750db",
   "metadata": {},
   "source": [
    "A useful hybrid of the interactive terminal and the self-contained script is the *Jupyter Notebook*, a document format that allows executable code, formatted text, graphics, and even interactive features to be combined into a single document. Though the notebook began as a Python-only format, it has since been made compatible with a large number of programming languages. The notebook is useful both as a development environment, and as a means of sharing work via rich computational and data-driven narratives that mix together code, figures, data, and text."
   ]
  }
 ],
 "metadata": {
  "kernelspec": {
   "display_name": "Python 3 (ipykernel)",
   "language": "python",
   "name": "python3"
  },
  "language_info": {
   "codemirror_mode": {
    "name": "ipython",
    "version": 3
   },
   "file_extension": ".py",
   "mimetype": "text/x-python",
   "name": "python",
   "nbconvert_exporter": "python",
   "pygments_lexer": "ipython3",
   "version": "3.9.13"
  }
 },
 "nbformat": 4,
 "nbformat_minor": 5
}
