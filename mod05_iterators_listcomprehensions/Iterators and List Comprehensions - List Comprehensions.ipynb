{
 "cells": [
  {
   "cell_type": "markdown",
   "id": "76662046",
   "metadata": {},
   "source": [
    "## List Comprehensions"
   ]
  },
  {
   "cell_type": "markdown",
   "id": "4482975d",
   "metadata": {},
   "source": [
    "List comprehensions provide a concise way to create lists. It consists of brackets containing an expression following by a for clause, then zero or more for or if clauses. The expressions can be anything, meaning you can put all kinds of objects in lists. The list comprehension always returns a result list:"
   ]
  },
  {
   "cell_type": "code",
   "execution_count": 15,
   "id": "072dcef1",
   "metadata": {},
   "outputs": [
    {
     "data": {
      "text/plain": [
       "[1, 2, 4, 5, 7, 8, 10, 11, 13, 14, 16, 17, 19]"
      ]
     },
     "execution_count": 15,
     "metadata": {},
     "output_type": "execute_result"
    }
   ],
   "source": [
    "[i for i in range(20) if i % 3 > 0]"
   ]
  },
  {
   "cell_type": "markdown",
   "id": "c10dacc2",
   "metadata": {},
   "source": [
    "The result of this is a list of numbers which excludes multiples of 3. While this example may seem a bit confusing at first, as familiarity with Python grows, reading and writing list comprehensions will become second nature."
   ]
  },
  {
   "cell_type": "markdown",
   "id": "00db6fbd",
   "metadata": {},
   "source": [
    "### Basic List Comprehensions"
   ]
  },
  {
   "cell_type": "markdown",
   "id": "57f1145a",
   "metadata": {},
   "source": [
    "List comprehensions are simply a way to compress a list-building for loop into a single short, readable line. For example, here is a loop that constructs a list of the first 12 square integers:"
   ]
  },
  {
   "cell_type": "code",
   "execution_count": 3,
   "id": "9bc8e9aa",
   "metadata": {},
   "outputs": [
    {
     "name": "stdout",
     "output_type": "stream",
     "text": [
      "[0, 1, 4, 9, 16, 25, 36, 49, 64, 81, 100, 121]\n"
     ]
    }
   ],
   "source": [
    "L = []\n",
    "for n in range(12):\n",
    "    L.append(n ** 2)\n",
    "print(L)"
   ]
  },
  {
   "cell_type": "markdown",
   "id": "523622df",
   "metadata": {},
   "source": [
    "The list comprehension equivalent of this is the following:"
   ]
  },
  {
   "cell_type": "code",
   "execution_count": 4,
   "id": "02e06261",
   "metadata": {},
   "outputs": [
    {
     "name": "stdout",
     "output_type": "stream",
     "text": [
      "[0, 1, 4, 9, 16, 25, 36, 49, 64, 81, 100, 121]\n"
     ]
    }
   ],
   "source": [
    "L = [n ** 2 for n in range(12)]\n",
    "print(L)"
   ]
  },
  {
   "cell_type": "markdown",
   "id": "7e8db629",
   "metadata": {},
   "source": [
    "As with many Python statements, you can almost read off the meaning of this statement in plain English: \"construct a list consisting of the square of `n` for each `n` up to 12\".\n",
    "\n",
    "This basic syntax, then, is `[expr` `for` `var` `in` `iterable]`, where `expr` is any valid expression, `var` is a variable name, and `iterable` is any iterable Python object."
   ]
  },
  {
   "cell_type": "markdown",
   "id": "d05da0f3",
   "metadata": {},
   "source": [
    "### Multiple Iteration"
   ]
  },
  {
   "cell_type": "markdown",
   "id": "97a29643",
   "metadata": {},
   "source": [
    "Sometimes you want to build a list not just from one value, but from two. To do this, simply add another `for` expression in the comprehension:"
   ]
  },
  {
   "cell_type": "code",
   "execution_count": 5,
   "id": "fc344efd",
   "metadata": {},
   "outputs": [
    {
     "name": "stdout",
     "output_type": "stream",
     "text": [
      "[(0, 0), (0, 1), (0, 2), (1, 0), (1, 1), (1, 2)]\n"
     ]
    }
   ],
   "source": [
    "L = [(i, j) for i in range(2) for j in range(3)]\n",
    "print(L)"
   ]
  },
  {
   "cell_type": "markdown",
   "id": "7176d5fa",
   "metadata": {},
   "source": [
    "### Conditionals on the Iterator"
   ]
  },
  {
   "cell_type": "markdown",
   "id": "e0a02328",
   "metadata": {},
   "source": [
    "You can further control the iteration by adding a conditional to the end of the expression. In the first example of the section, we iterated over all numbers from 1 to 20, but left out multiples of 3. Look at this again and notice the construction:"
   ]
  },
  {
   "cell_type": "code",
   "execution_count": 6,
   "id": "d6c7c4a8",
   "metadata": {},
   "outputs": [
    {
     "name": "stdout",
     "output_type": "stream",
     "text": [
      "[1, 2, 4, 5, 7, 8, 10, 11, 13, 14, 16, 17, 19]\n"
     ]
    }
   ],
   "source": [
    "D = [val for val in range(20) if val % 3 > 0]\n",
    "print(D)"
   ]
  },
  {
   "cell_type": "markdown",
   "id": "009874a3",
   "metadata": {},
   "source": [
    "The expression `val % 3 > 0` evaluates to `True` unless `val` is divisible by 3. Again, the English language meaning can be immediately read off: \"construct a list of values for each value up to 20, but only if the value is not divisible by 3\". Once you are comfortable with it, this is much easier to write - and to understand at a glance - than the equivalent loop syntax:"
   ]
  },
  {
   "cell_type": "code",
   "execution_count": 7,
   "id": "001c6d5c",
   "metadata": {},
   "outputs": [
    {
     "name": "stdout",
     "output_type": "stream",
     "text": [
      "[1, 2, 4, 5, 7, 8, 10, 11, 13, 14, 16, 17, 19]\n"
     ]
    }
   ],
   "source": [
    "L = []\n",
    "for val in range(20):\n",
    "    if val % 3:\n",
    "        L.append(val)\n",
    "print(L)"
   ]
  },
  {
   "cell_type": "markdown",
   "id": "3f0344ab",
   "metadata": {},
   "source": [
    "### Conditionals on the Value"
   ]
  },
  {
   "cell_type": "markdown",
   "id": "10c23edb",
   "metadata": {},
   "source": [
    "Python has syntax to construct a single-line conditional, which is most often used within list comprehensions, `lambda` functions, and other places where a simple expression is desired:"
   ]
  },
  {
   "cell_type": "code",
   "execution_count": 8,
   "id": "eeb1fa63",
   "metadata": {},
   "outputs": [
    {
     "data": {
      "text/plain": [
       "10"
      ]
     },
     "execution_count": 8,
     "metadata": {},
     "output_type": "execute_result"
    }
   ],
   "source": [
    "val = -10\n",
    "val if val >= 0 else -val"
   ]
  },
  {
   "cell_type": "markdown",
   "id": "3cf7d76c",
   "metadata": {},
   "source": [
    "We see that this simply duplicates the functionality of the built-in `abs()` function, but the construction lets you do some really interesting things within list comprehensions. This is getting pretty complicated now, but you could do something like this:"
   ]
  },
  {
   "cell_type": "code",
   "execution_count": 9,
   "id": "737c9ac1",
   "metadata": {},
   "outputs": [
    {
     "name": "stdout",
     "output_type": "stream",
     "text": [
      "[1, -2, -4, 5, 7, -8, -10, 11, 13, -14, -16, 17, 19]\n"
     ]
    }
   ],
   "source": [
    "D = [val if val % 2 else -val \n",
    "     for val in range(20) if val % 3]\n",
    "print(D)"
   ]
  },
  {
   "cell_type": "markdown",
   "id": "072a534f",
   "metadata": {},
   "source": [
    "Note the line break within the list comprehension before the `for` expression: this is valid in Python, and is often a nice way to break up long list comprehensions for greater readability. Look this over: what we're doing is constructing a list, leaving out multiple of 3, and negating all multiples of 2.\n",
    "\n",
    "Once you understand the dynamics of list comprehensions, it's straightforward to move on to other types of comprehensions. The syntax is largely the same; the only difference is the type of bracket you use.\n",
    "\n",
    "For example, with curly braces, you can create a `set` with *set comprehension*:"
   ]
  },
  {
   "cell_type": "code",
   "execution_count": 10,
   "id": "b45f82b2",
   "metadata": {},
   "outputs": [
    {
     "data": {
      "text/plain": [
       "{0, 1, 4, 9, 16, 25, 36, 49, 64, 81, 100, 121}"
      ]
     },
     "execution_count": 10,
     "metadata": {},
     "output_type": "execute_result"
    }
   ],
   "source": [
    "{n ** 2 for n in range(12)}"
   ]
  },
  {
   "cell_type": "markdown",
   "id": "a66c5e0f",
   "metadata": {},
   "source": [
    "Recall that a `set` is a collection that contains no duplicates. The set comprehension respects this rule and eliminates any duplicate entries:"
   ]
  },
  {
   "cell_type": "code",
   "execution_count": 11,
   "id": "15215fcb",
   "metadata": {},
   "outputs": [
    {
     "data": {
      "text/plain": [
       "{0, 1, 2}"
      ]
     },
     "execution_count": 11,
     "metadata": {},
     "output_type": "execute_result"
    }
   ],
   "source": [
    "{a % 3 for a in range(1000)}"
   ]
  },
  {
   "cell_type": "markdown",
   "id": "08d69880",
   "metadata": {},
   "source": [
    "With a slight tweak, you can add a colon (`:`) to create a *dictionary comprehension*:"
   ]
  },
  {
   "cell_type": "code",
   "execution_count": 12,
   "id": "8c37e83b",
   "metadata": {},
   "outputs": [
    {
     "data": {
      "text/plain": [
       "{0: 0, 1: 1, 2: 4, 3: 9, 4: 16, 5: 25}"
      ]
     },
     "execution_count": 12,
     "metadata": {},
     "output_type": "execute_result"
    }
   ],
   "source": [
    "{n:n ** 2 for n in range(6)}"
   ]
  },
  {
   "cell_type": "markdown",
   "id": "5269239b",
   "metadata": {},
   "source": [
    "Finally, if you use parentheses rather than square brackets, you get what's called a *generator expression*:"
   ]
  },
  {
   "cell_type": "code",
   "execution_count": 13,
   "id": "ea7dc323",
   "metadata": {},
   "outputs": [
    {
     "name": "stdout",
     "output_type": "stream",
     "text": [
      "<generator object <genexpr> at 0x7f9d92a863c0>\n"
     ]
    }
   ],
   "source": [
    "x = (n ** 2 for n in range(12))\n",
    "print(x)"
   ]
  },
  {
   "cell_type": "markdown",
   "id": "bcd75657",
   "metadata": {},
   "source": [
    "A generator object is essentially a list comprehension in which elements are generated as needed rather than all at once: we'll explore this more next."
   ]
  }
 ],
 "metadata": {
  "kernelspec": {
   "display_name": "Python 3 (ipykernel)",
   "language": "python",
   "name": "python3"
  },
  "language_info": {
   "codemirror_mode": {
    "name": "ipython",
    "version": 3
   },
   "file_extension": ".py",
   "mimetype": "text/x-python",
   "name": "python",
   "nbconvert_exporter": "python",
   "pygments_lexer": "ipython3",
   "version": "3.9.13"
  }
 },
 "nbformat": 4,
 "nbformat_minor": 5
}
